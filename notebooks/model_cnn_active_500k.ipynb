{
  "cells": [
    {
      "cell_type": "markdown",
      "metadata": {},
      "source": [
        "# CNN Opción A: etiqueta por lado activo + 500k muestras\n",
        "\n",
        "Propósito: remapear la etiqueta (0/1/2) al lado activo cuando mueve negras y entrenar con un conjunto mayor (≈500k train, 100k val/test)."
      ]
    },
    {
      "cell_type": "markdown",
      "metadata": {},
      "source": [
        "## Conceptos\n",
        "- Perspectiva: si juega negras, swapcase de colores y flip vertical de filas (no columnas).\n",
        "- Opción A: la etiqueta se remapea cuando juega negras: `cls = 2 - cls` → clases relativas al lado activo.\n",
        "- Target: evaluación a centipawns; mates → ±10000 cp; umbrales ±150 cp.\n",
        "- Modelo: CNN regularizada (BN + Dropout + L2 + GAP)."
      ]
    },
    {
      "cell_type": "code",
      "execution_count": 1,
      "metadata": {},
      "outputs": [],
      "source": [
        "from pathlib import Path\n",
        "import os, gc\n",
        "import numpy as np\n",
        "import pandas as pd\n",
        "import matplotlib.pyplot as plt\n",
        "\n",
        "from keras.models import Sequential\n",
        "from keras.layers import Conv2D, BatchNormalization, Dropout, GlobalAveragePooling2D, Dense\n",
        "from keras.regularizers import l2\n",
        "from keras.callbacks import EarlyStopping, ReduceLROnPlateau\n",
        "from sklearn.metrics import classification_report, confusion_matrix\n",
        "\n",
        "DATA_DIR = Path('../data/processed')\n",
        "assert (DATA_DIR / 'training_data.parquet').exists(), 'Falta data procesada. Ejecuta el split previo.'"
      ]
    },
    {
      "cell_type": "markdown",
      "metadata": {},
      "source": [
        "## Parser de evaluación → cp y clases (±150 cp)"
      ]
    },
    {
      "cell_type": "code",
      "execution_count": 2,
      "metadata": {},
      "outputs": [
        {
          "data": {
            "text/plain": [
              "[('#3', 10000.0, 0),\n",
              " ('#-2', -10000.0, 2),\n",
              " ('+34', 34.0, 1),\n",
              " ('-178', -178.0, 2),\n",
              " ('2.5', 250.0, 0),\n",
              " ('-1.8', -180.0, 2),\n",
              " ('0.0', 0.0, 1)]"
            ]
          },
          "execution_count": 2,
          "metadata": {},
          "output_type": "execute_result"
        }
      ],
      "source": [
        "def eval_to_centipawns(eval_str: str) -> float:\n",
        "    s = str(eval_str).strip()\n",
        "    if not s: return 0.0\n",
        "    if s.startswith('#'):\n",
        "        try:\n",
        "            v = float(s[1:])\n",
        "            return 10000.0 if v >= 0 else -10000.0\n",
        "        except Exception:\n",
        "            return 0.0\n",
        "    try:\n",
        "        v = float(s)\n",
        "    except Exception:\n",
        "        return 0.0\n",
        "    return v * 100.0 if '.' in s else v\n",
        "\n",
        "def cp_to_class(cp: float, thr: int = 150) -> int:\n",
        "    if cp > thr: return 0\n",
        "    if cp < -thr: return 2\n",
        "    return 1\n",
        "\n",
        "# Sanidad rápida\n",
        "tests = ['#3', '#-2', '+34', '-178', '2.5', '-1.8', '0.0']\n",
        "[(t, eval_to_centipawns(t), cp_to_class(eval_to_centipawns(t))) for t in tests]"
      ]
    },
    {
      "cell_type": "markdown",
      "metadata": {},
      "source": [
        "## FEN → tensor 8×8×12 (swapcase + flip vertical si juega negras)"
      ]
    },
    {
      "cell_type": "code",
      "execution_count": 3,
      "metadata": {},
      "outputs": [
        {
          "data": {
            "text/plain": [
              "(8, 8, 12)"
            ]
          },
          "execution_count": 3,
          "metadata": {},
          "output_type": "execute_result"
        }
      ],
      "source": [
        "def create_piece_mapping():\n",
        "    pieces = ['P','N','B','R','Q','K']\n",
        "    return {p: i for i, p in enumerate(pieces)}\n",
        "\n",
        "PIECE_MAPPING = create_piece_mapping()\n",
        "\n",
        "def parse_board_row(row_string: str, piece_mapping: dict) -> list[list[int]]:\n",
        "    row_squares = []\n",
        "    for ch in row_string:\n",
        "        vec = [0] * (len(piece_mapping) * 2)\n",
        "        if ch in piece_mapping:\n",
        "            vec[piece_mapping[ch]] = 1; row_squares.append(vec)\n",
        "        elif ch.upper() in piece_mapping:\n",
        "            vec[piece_mapping[ch.upper()] + len(piece_mapping)] = 1; row_squares.append(vec)\n",
        "        elif ch.isdigit():\n",
        "            for _ in range(int(ch)): row_squares.append(vec.copy())\n",
        "    return row_squares\n",
        "\n",
        "def parse_fen_to_tensor_fixed(fen_string: str, piece_mapping: dict):\n",
        "    parts = fen_string.split(' ')\n",
        "    board = parts[0]\n",
        "    active = parts[1] if len(parts) > 1 else 'w'\n",
        "    is_black_turn = (active == 'b')\n",
        "    if is_black_turn:\n",
        "        board_proc = board.swapcase(); rows = list(reversed(board_proc.split('/')))\n",
        "    else:\n",
        "        rows = board.split('/')\n",
        "    board_rows = [parse_board_row(r, piece_mapping) for r in rows]\n",
        "    tensor = np.array(board_rows, dtype=np.float32)\n",
        "    return tensor, is_black_turn\n",
        "\n",
        "# Comprobación simple\n",
        "initial = 'rnbqkbnr/pppppppp/8/8/8/8/PPPPPPPP/RNBQKBNR w KQkq - 0 1'\n",
        "parse_fen_to_tensor_fixed(initial, PIECE_MAPPING)[0].shape"
      ]
    },
    {
      "cell_type": "markdown",
      "metadata": {},
      "source": [
        "## Opción A: preprocesamiento con remapeo de etiqueta al lado activo"
      ]
    },
    {
      "cell_type": "code",
      "execution_count": 4,
      "metadata": {},
      "outputs": [],
      "source": [
        "def preprocess_row_active(row: pd.Series, piece_mapping: dict):\n",
        "    fen = row['FEN']; ev = row['Evaluation']\n",
        "    board_tensor, is_black_turn = parse_fen_to_tensor_fixed(fen, piece_mapping)\n",
        "    cp = eval_to_centipawns(str(ev))\n",
        "    cls = cp_to_class(cp)\n",
        "    # Remapeo al lado activo: si juega negras, 0↔2 (ventaja/desventaja)\n",
        "    if is_black_turn:\n",
        "        cls = 2 - cls\n",
        "    y = np.zeros(3, dtype=np.float32); y[cls] = 1.0\n",
        "    return board_tensor, y\n",
        "\n",
        "def create_Xy_sampled(df: pd.DataFrame, n: int | None, seed: int = 42):\n",
        "    if n is not None and n < len(df):\n",
        "        df = df.sample(n=n, random_state=seed)\n",
        "    X_list, y_list = [], []\n",
        "    for _, r in df.iterrows():\n",
        "        try:\n",
        "            x, y = preprocess_row_active(r, PIECE_MAPPING)\n",
        "            X_list.append(x); y_list.append(y)\n",
        "        except Exception:\n",
        "            continue\n",
        "    X = np.stack(X_list, axis=0); y = np.stack(y_list, axis=0)\n",
        "    return X, y"
      ]
    },
    {
      "cell_type": "markdown",
      "metadata": {},
      "source": [
        "## Carga de datos y tamaños (500k/100k/100k)"
      ]
    },
    {
      "cell_type": "code",
      "execution_count": 5,
      "metadata": {},
      "outputs": [
        {
          "name": "stdout",
          "output_type": "stream",
          "text": [
            "Train pool: 11,610,568 | Val pool: 3,317,307 | Test pool: 1,658,652\n",
            "Est. RAM X_train: ~1.91 GB, X_val: ~0.38 GB, X_test: ~0.38 GB\n"
          ]
        },
        {
          "data": {
            "text/plain": [
              "((500000, 8, 8, 12),\n",
              " (500000, 3),\n",
              " (100000, 8, 8, 12),\n",
              " (100000, 3),\n",
              " (100000, 8, 8, 12),\n",
              " (100000, 3))"
            ]
          },
          "execution_count": 5,
          "metadata": {},
          "output_type": "execute_result"
        }
      ],
      "source": [
        "MAX_TRAIN = int(os.environ.get('MAX_TRAIN', 500_000))\n",
        "MAX_VAL   = int(os.environ.get('MAX_VAL',   100_000))\n",
        "MAX_TEST  = int(os.environ.get('MAX_TEST',  100_000))\n",
        "\n",
        "train_df = pd.read_parquet(DATA_DIR / 'training_data.parquet')\n",
        "val_df   = pd.read_parquet(DATA_DIR / 'validation_data.parquet')\n",
        "test_df  = pd.read_parquet(DATA_DIR / 'testing_data.parquet')\n",
        "print(f'Train pool: {len(train_df):,} | Val pool: {len(val_df):,} | Test pool: {len(test_df):,}')\n",
        "\n",
        "# Estimación de memoria (~4KB por muestra)\n",
        "def est_gb(n): return (n * 4096) / (1024**3)\n",
        "print(f'Est. RAM X_train: ~{est_gb(MAX_TRAIN):.2f} GB, X_val: ~{est_gb(MAX_VAL):.2f} GB, X_test: ~{est_gb(MAX_TEST):.2f} GB')\n",
        "\n",
        "X_train, y_train = create_Xy_sampled(train_df, MAX_TRAIN)\n",
        "gc.collect()\n",
        "X_val,   y_val   = create_Xy_sampled(val_df,   MAX_VAL)\n",
        "gc.collect()\n",
        "X_test,  y_test  = create_Xy_sampled(test_df,  MAX_TEST)\n",
        "\n",
        "X_train.shape, y_train.shape, X_val.shape, y_val.shape, X_test.shape, y_test.shape"
      ]
    },
    {
      "cell_type": "markdown",
      "metadata": {},
      "source": [
        "## Distribución de clases (train)"
      ]
    },
    {
      "cell_type": "code",
      "execution_count": 6,
      "metadata": {},
      "outputs": [
        {
          "name": "stdout",
          "output_type": "stream",
          "text": [
            "Clase 0 (ventaja lado activo): 149000 (29.8%)\n",
            "Clase 1 (empate):              239100 (47.8%)\n",
            "Clase 2 (desventaja):          111900 (22.4%)\n"
          ]
        }
      ],
      "source": [
        "cls_counts = y_train.sum(axis=0)\n",
        "tot = len(y_train); pct = cls_counts / tot * 100\n",
        "print(f'Clase 0 (ventaja lado activo): {cls_counts[0]:.0f} ({pct[0]:.1f}%)')\n",
        "print(f'Clase 1 (empate):              {cls_counts[1]:.0f} ({pct[1]:.1f}%)')\n",
        "print(f'Clase 2 (desventaja):          {cls_counts[2]:.0f} ({pct[2]:.1f}%)')"
      ]
    },
    {
      "cell_type": "markdown",
      "metadata": {},
      "source": [
        "## Modelo regularizado (igual al refactor)"
      ]
    },
    {
      "cell_type": "code",
      "execution_count": 7,
      "metadata": {},
      "outputs": [
        {
          "name": "stderr",
          "output_type": "stream",
          "text": [
            "c:\\Users\\samir\\Documents\\noveno semestre\\aprendizaje maquina\\stocksalmon\\venv\\Lib\\site-packages\\keras\\src\\layers\\convolutional\\base_conv.py:113: UserWarning: Do not pass an `input_shape`/`input_dim` argument to a layer. When using Sequential models, prefer using an `Input(shape)` object as the first layer in the model instead.\n",
            "  super().__init__(activity_regularizer=activity_regularizer, **kwargs)\n"
          ]
        },
        {
          "data": {
            "text/html": [
              "<pre style=\"white-space:pre;overflow-x:auto;line-height:normal;font-family:Menlo,'DejaVu Sans Mono',consolas,'Courier New',monospace\"><span style=\"font-weight: bold\">Model: \"sequential\"</span>\n",
              "</pre>\n"
            ],
            "text/plain": [
              "\u001b[1mModel: \"sequential\"\u001b[0m\n"
            ]
          },
          "metadata": {},
          "output_type": "display_data"
        },
        {
          "data": {
            "text/html": [
              "<pre style=\"white-space:pre;overflow-x:auto;line-height:normal;font-family:Menlo,'DejaVu Sans Mono',consolas,'Courier New',monospace\">┏━━━━━━━━━━━━━━━━━━━━━━━━━━━━━━━━━┳━━━━━━━━━━━━━━━━━━━━━━━━┳━━━━━━━━━━━━━━━┓\n",
              "┃<span style=\"font-weight: bold\"> Layer (type)                    </span>┃<span style=\"font-weight: bold\"> Output Shape           </span>┃<span style=\"font-weight: bold\">       Param # </span>┃\n",
              "┡━━━━━━━━━━━━━━━━━━━━━━━━━━━━━━━━━╇━━━━━━━━━━━━━━━━━━━━━━━━╇━━━━━━━━━━━━━━━┩\n",
              "│ conv2d (<span style=\"color: #0087ff; text-decoration-color: #0087ff\">Conv2D</span>)                 │ (<span style=\"color: #00d7ff; text-decoration-color: #00d7ff\">None</span>, <span style=\"color: #00af00; text-decoration-color: #00af00\">8</span>, <span style=\"color: #00af00; text-decoration-color: #00af00\">8</span>, <span style=\"color: #00af00; text-decoration-color: #00af00\">64</span>)       │         <span style=\"color: #00af00; text-decoration-color: #00af00\">6,976</span> │\n",
              "├─────────────────────────────────┼────────────────────────┼───────────────┤\n",
              "│ batch_normalization             │ (<span style=\"color: #00d7ff; text-decoration-color: #00d7ff\">None</span>, <span style=\"color: #00af00; text-decoration-color: #00af00\">8</span>, <span style=\"color: #00af00; text-decoration-color: #00af00\">8</span>, <span style=\"color: #00af00; text-decoration-color: #00af00\">64</span>)       │           <span style=\"color: #00af00; text-decoration-color: #00af00\">256</span> │\n",
              "│ (<span style=\"color: #0087ff; text-decoration-color: #0087ff\">BatchNormalization</span>)            │                        │               │\n",
              "├─────────────────────────────────┼────────────────────────┼───────────────┤\n",
              "│ conv2d_1 (<span style=\"color: #0087ff; text-decoration-color: #0087ff\">Conv2D</span>)               │ (<span style=\"color: #00d7ff; text-decoration-color: #00d7ff\">None</span>, <span style=\"color: #00af00; text-decoration-color: #00af00\">8</span>, <span style=\"color: #00af00; text-decoration-color: #00af00\">8</span>, <span style=\"color: #00af00; text-decoration-color: #00af00\">64</span>)       │        <span style=\"color: #00af00; text-decoration-color: #00af00\">36,928</span> │\n",
              "├─────────────────────────────────┼────────────────────────┼───────────────┤\n",
              "│ batch_normalization_1           │ (<span style=\"color: #00d7ff; text-decoration-color: #00d7ff\">None</span>, <span style=\"color: #00af00; text-decoration-color: #00af00\">8</span>, <span style=\"color: #00af00; text-decoration-color: #00af00\">8</span>, <span style=\"color: #00af00; text-decoration-color: #00af00\">64</span>)       │           <span style=\"color: #00af00; text-decoration-color: #00af00\">256</span> │\n",
              "│ (<span style=\"color: #0087ff; text-decoration-color: #0087ff\">BatchNormalization</span>)            │                        │               │\n",
              "├─────────────────────────────────┼────────────────────────┼───────────────┤\n",
              "│ dropout (<span style=\"color: #0087ff; text-decoration-color: #0087ff\">Dropout</span>)               │ (<span style=\"color: #00d7ff; text-decoration-color: #00d7ff\">None</span>, <span style=\"color: #00af00; text-decoration-color: #00af00\">8</span>, <span style=\"color: #00af00; text-decoration-color: #00af00\">8</span>, <span style=\"color: #00af00; text-decoration-color: #00af00\">64</span>)       │             <span style=\"color: #00af00; text-decoration-color: #00af00\">0</span> │\n",
              "├─────────────────────────────────┼────────────────────────┼───────────────┤\n",
              "│ global_average_pooling2d        │ (<span style=\"color: #00d7ff; text-decoration-color: #00d7ff\">None</span>, <span style=\"color: #00af00; text-decoration-color: #00af00\">64</span>)             │             <span style=\"color: #00af00; text-decoration-color: #00af00\">0</span> │\n",
              "│ (<span style=\"color: #0087ff; text-decoration-color: #0087ff\">GlobalAveragePooling2D</span>)        │                        │               │\n",
              "├─────────────────────────────────┼────────────────────────┼───────────────┤\n",
              "│ dense (<span style=\"color: #0087ff; text-decoration-color: #0087ff\">Dense</span>)                   │ (<span style=\"color: #00d7ff; text-decoration-color: #00d7ff\">None</span>, <span style=\"color: #00af00; text-decoration-color: #00af00\">64</span>)             │         <span style=\"color: #00af00; text-decoration-color: #00af00\">4,160</span> │\n",
              "├─────────────────────────────────┼────────────────────────┼───────────────┤\n",
              "│ dropout_1 (<span style=\"color: #0087ff; text-decoration-color: #0087ff\">Dropout</span>)             │ (<span style=\"color: #00d7ff; text-decoration-color: #00d7ff\">None</span>, <span style=\"color: #00af00; text-decoration-color: #00af00\">64</span>)             │             <span style=\"color: #00af00; text-decoration-color: #00af00\">0</span> │\n",
              "├─────────────────────────────────┼────────────────────────┼───────────────┤\n",
              "│ dense_1 (<span style=\"color: #0087ff; text-decoration-color: #0087ff\">Dense</span>)                 │ (<span style=\"color: #00d7ff; text-decoration-color: #00d7ff\">None</span>, <span style=\"color: #00af00; text-decoration-color: #00af00\">3</span>)              │           <span style=\"color: #00af00; text-decoration-color: #00af00\">195</span> │\n",
              "└─────────────────────────────────┴────────────────────────┴───────────────┘\n",
              "</pre>\n"
            ],
            "text/plain": [
              "┏━━━━━━━━━━━━━━━━━━━━━━━━━━━━━━━━━┳━━━━━━━━━━━━━━━━━━━━━━━━┳━━━━━━━━━━━━━━━┓\n",
              "┃\u001b[1m \u001b[0m\u001b[1mLayer (type)                   \u001b[0m\u001b[1m \u001b[0m┃\u001b[1m \u001b[0m\u001b[1mOutput Shape          \u001b[0m\u001b[1m \u001b[0m┃\u001b[1m \u001b[0m\u001b[1m      Param #\u001b[0m\u001b[1m \u001b[0m┃\n",
              "┡━━━━━━━━━━━━━━━━━━━━━━━━━━━━━━━━━╇━━━━━━━━━━━━━━━━━━━━━━━━╇━━━━━━━━━━━━━━━┩\n",
              "│ conv2d (\u001b[38;5;33mConv2D\u001b[0m)                 │ (\u001b[38;5;45mNone\u001b[0m, \u001b[38;5;34m8\u001b[0m, \u001b[38;5;34m8\u001b[0m, \u001b[38;5;34m64\u001b[0m)       │         \u001b[38;5;34m6,976\u001b[0m │\n",
              "├─────────────────────────────────┼────────────────────────┼───────────────┤\n",
              "│ batch_normalization             │ (\u001b[38;5;45mNone\u001b[0m, \u001b[38;5;34m8\u001b[0m, \u001b[38;5;34m8\u001b[0m, \u001b[38;5;34m64\u001b[0m)       │           \u001b[38;5;34m256\u001b[0m │\n",
              "│ (\u001b[38;5;33mBatchNormalization\u001b[0m)            │                        │               │\n",
              "├─────────────────────────────────┼────────────────────────┼───────────────┤\n",
              "│ conv2d_1 (\u001b[38;5;33mConv2D\u001b[0m)               │ (\u001b[38;5;45mNone\u001b[0m, \u001b[38;5;34m8\u001b[0m, \u001b[38;5;34m8\u001b[0m, \u001b[38;5;34m64\u001b[0m)       │        \u001b[38;5;34m36,928\u001b[0m │\n",
              "├─────────────────────────────────┼────────────────────────┼───────────────┤\n",
              "│ batch_normalization_1           │ (\u001b[38;5;45mNone\u001b[0m, \u001b[38;5;34m8\u001b[0m, \u001b[38;5;34m8\u001b[0m, \u001b[38;5;34m64\u001b[0m)       │           \u001b[38;5;34m256\u001b[0m │\n",
              "│ (\u001b[38;5;33mBatchNormalization\u001b[0m)            │                        │               │\n",
              "├─────────────────────────────────┼────────────────────────┼───────────────┤\n",
              "│ dropout (\u001b[38;5;33mDropout\u001b[0m)               │ (\u001b[38;5;45mNone\u001b[0m, \u001b[38;5;34m8\u001b[0m, \u001b[38;5;34m8\u001b[0m, \u001b[38;5;34m64\u001b[0m)       │             \u001b[38;5;34m0\u001b[0m │\n",
              "├─────────────────────────────────┼────────────────────────┼───────────────┤\n",
              "│ global_average_pooling2d        │ (\u001b[38;5;45mNone\u001b[0m, \u001b[38;5;34m64\u001b[0m)             │             \u001b[38;5;34m0\u001b[0m │\n",
              "│ (\u001b[38;5;33mGlobalAveragePooling2D\u001b[0m)        │                        │               │\n",
              "├─────────────────────────────────┼────────────────────────┼───────────────┤\n",
              "│ dense (\u001b[38;5;33mDense\u001b[0m)                   │ (\u001b[38;5;45mNone\u001b[0m, \u001b[38;5;34m64\u001b[0m)             │         \u001b[38;5;34m4,160\u001b[0m │\n",
              "├─────────────────────────────────┼────────────────────────┼───────────────┤\n",
              "│ dropout_1 (\u001b[38;5;33mDropout\u001b[0m)             │ (\u001b[38;5;45mNone\u001b[0m, \u001b[38;5;34m64\u001b[0m)             │             \u001b[38;5;34m0\u001b[0m │\n",
              "├─────────────────────────────────┼────────────────────────┼───────────────┤\n",
              "│ dense_1 (\u001b[38;5;33mDense\u001b[0m)                 │ (\u001b[38;5;45mNone\u001b[0m, \u001b[38;5;34m3\u001b[0m)              │           \u001b[38;5;34m195\u001b[0m │\n",
              "└─────────────────────────────────┴────────────────────────┴───────────────┘\n"
            ]
          },
          "metadata": {},
          "output_type": "display_data"
        },
        {
          "data": {
            "text/html": [
              "<pre style=\"white-space:pre;overflow-x:auto;line-height:normal;font-family:Menlo,'DejaVu Sans Mono',consolas,'Courier New',monospace\"><span style=\"font-weight: bold\"> Total params: </span><span style=\"color: #00af00; text-decoration-color: #00af00\">48,771</span> (190.51 KB)\n",
              "</pre>\n"
            ],
            "text/plain": [
              "\u001b[1m Total params: \u001b[0m\u001b[38;5;34m48,771\u001b[0m (190.51 KB)\n"
            ]
          },
          "metadata": {},
          "output_type": "display_data"
        },
        {
          "data": {
            "text/html": [
              "<pre style=\"white-space:pre;overflow-x:auto;line-height:normal;font-family:Menlo,'DejaVu Sans Mono',consolas,'Courier New',monospace\"><span style=\"font-weight: bold\"> Trainable params: </span><span style=\"color: #00af00; text-decoration-color: #00af00\">48,515</span> (189.51 KB)\n",
              "</pre>\n"
            ],
            "text/plain": [
              "\u001b[1m Trainable params: \u001b[0m\u001b[38;5;34m48,515\u001b[0m (189.51 KB)\n"
            ]
          },
          "metadata": {},
          "output_type": "display_data"
        },
        {
          "data": {
            "text/html": [
              "<pre style=\"white-space:pre;overflow-x:auto;line-height:normal;font-family:Menlo,'DejaVu Sans Mono',consolas,'Courier New',monospace\"><span style=\"font-weight: bold\"> Non-trainable params: </span><span style=\"color: #00af00; text-decoration-color: #00af00\">256</span> (1.00 KB)\n",
              "</pre>\n"
            ],
            "text/plain": [
              "\u001b[1m Non-trainable params: \u001b[0m\u001b[38;5;34m256\u001b[0m (1.00 KB)\n"
            ]
          },
          "metadata": {},
          "output_type": "display_data"
        }
      ],
      "source": [
        "def build_model(input_shape=(8,8,12), l2w=1e-4, dp=0.4):\n",
        "    m = Sequential([\n",
        "        Conv2D(64, 3, padding='same', activation='relu', kernel_regularizer=l2(l2w), input_shape=input_shape),\n",
        "        BatchNormalization(),\n",
        "        Conv2D(64, 3, padding='same', activation='relu', kernel_regularizer=l2(l2w)),\n",
        "        BatchNormalization(),\n",
        "        Dropout(dp),\n",
        "        GlobalAveragePooling2D(),\n",
        "        Dense(64, activation='relu', kernel_regularizer=l2(l2w)),\n",
        "        Dropout(dp),\n",
        "        Dense(3, activation='softmax')\n",
        "    ])\n",
        "    m.compile(optimizer='adam', loss='categorical_crossentropy', metrics=['categorical_accuracy'])\n",
        "    return m\n",
        "\n",
        "model_active = build_model()\n",
        "model_active.summary()"
      ]
    },
    {
      "cell_type": "markdown",
      "metadata": {},
      "source": [
        "## Entrenamiento (early stopping + LR scheduler)"
      ]
    },
    {
      "cell_type": "code",
      "execution_count": 8,
      "metadata": {},
      "outputs": [
        {
          "name": "stdout",
          "output_type": "stream",
          "text": [
            "Epoch 1/30\n",
            "\u001b[1m7813/7813\u001b[0m \u001b[32m━━━━━━━━━━━━━━━━━━━━\u001b[0m\u001b[37m\u001b[0m \u001b[1m50s\u001b[0m 6ms/step - categorical_accuracy: 0.5993 - loss: 0.8812 - val_categorical_accuracy: 0.6112 - val_loss: 0.8619 - learning_rate: 0.0010\n",
            "Epoch 2/30\n",
            "\u001b[1m7813/7813\u001b[0m \u001b[32m━━━━━━━━━━━━━━━━━━━━\u001b[0m\u001b[37m\u001b[0m \u001b[1m48s\u001b[0m 6ms/step - categorical_accuracy: 0.6242 - loss: 0.8492 - val_categorical_accuracy: 0.6263 - val_loss: 0.8496 - learning_rate: 0.0010\n",
            "Epoch 3/30\n",
            "\u001b[1m7813/7813\u001b[0m \u001b[32m━━━━━━━━━━━━━━━━━━━━\u001b[0m\u001b[37m\u001b[0m \u001b[1m48s\u001b[0m 6ms/step - categorical_accuracy: 0.6317 - loss: 0.8397 - val_categorical_accuracy: 0.6456 - val_loss: 0.8168 - learning_rate: 0.0010\n",
            "Epoch 4/30\n",
            "\u001b[1m7813/7813\u001b[0m \u001b[32m━━━━━━━━━━━━━━━━━━━━\u001b[0m\u001b[37m\u001b[0m \u001b[1m48s\u001b[0m 6ms/step - categorical_accuracy: 0.6364 - loss: 0.8342 - val_categorical_accuracy: 0.6335 - val_loss: 0.8286 - learning_rate: 0.0010\n",
            "Epoch 5/30\n",
            "\u001b[1m7813/7813\u001b[0m \u001b[32m━━━━━━━━━━━━━━━━━━━━\u001b[0m\u001b[37m\u001b[0m \u001b[1m48s\u001b[0m 6ms/step - categorical_accuracy: 0.6384 - loss: 0.8312 - val_categorical_accuracy: 0.6458 - val_loss: 0.8185 - learning_rate: 0.0010\n",
            "Epoch 6/30\n",
            "\u001b[1m7813/7813\u001b[0m \u001b[32m━━━━━━━━━━━━━━━━━━━━\u001b[0m\u001b[37m\u001b[0m \u001b[1m0s\u001b[0m 6ms/step - categorical_accuracy: 0.6412 - loss: 0.8285\n",
            "Epoch 6: ReduceLROnPlateau reducing learning rate to 0.0005000000237487257.\n",
            "\u001b[1m7813/7813\u001b[0m \u001b[32m━━━━━━━━━━━━━━━━━━━━\u001b[0m\u001b[37m\u001b[0m \u001b[1m48s\u001b[0m 6ms/step - categorical_accuracy: 0.6405 - loss: 0.8297 - val_categorical_accuracy: 0.6364 - val_loss: 0.8235 - learning_rate: 0.0010\n",
            "Epoch 7/30\n",
            "\u001b[1m7813/7813\u001b[0m \u001b[32m━━━━━━━━━━━━━━━━━━━━\u001b[0m\u001b[37m\u001b[0m \u001b[1m49s\u001b[0m 6ms/step - categorical_accuracy: 0.6512 - loss: 0.8094 - val_categorical_accuracy: 0.6527 - val_loss: 0.7998 - learning_rate: 5.0000e-04\n",
            "Epoch 8/30\n",
            "\u001b[1m7813/7813\u001b[0m \u001b[32m━━━━━━━━━━━━━━━━━━━━\u001b[0m\u001b[37m\u001b[0m \u001b[1m48s\u001b[0m 6ms/step - categorical_accuracy: 0.6539 - loss: 0.8020 - val_categorical_accuracy: 0.6597 - val_loss: 0.7779 - learning_rate: 5.0000e-04\n",
            "Epoch 9/30\n",
            "\u001b[1m7813/7813\u001b[0m \u001b[32m━━━━━━━━━━━━━━━━━━━━\u001b[0m\u001b[37m\u001b[0m \u001b[1m89s\u001b[0m 7ms/step - categorical_accuracy: 0.6549 - loss: 0.7993 - val_categorical_accuracy: 0.6405 - val_loss: 0.8149 - learning_rate: 5.0000e-04\n",
            "Epoch 10/30\n",
            "\u001b[1m7813/7813\u001b[0m \u001b[32m━━━━━━━━━━━━━━━━━━━━\u001b[0m\u001b[37m\u001b[0m \u001b[1m48s\u001b[0m 6ms/step - categorical_accuracy: 0.6558 - loss: 0.7975 - val_categorical_accuracy: 0.6441 - val_loss: 0.8116 - learning_rate: 5.0000e-04\n",
            "Epoch 11/30\n",
            "\u001b[1m7810/7813\u001b[0m \u001b[32m━━━━━━━━━━━━━━━━━━━\u001b[0m\u001b[37m━\u001b[0m \u001b[1m0s\u001b[0m 6ms/step - categorical_accuracy: 0.6569 - loss: 0.7952\n",
            "Epoch 11: ReduceLROnPlateau reducing learning rate to 0.0002500000118743628.\n",
            "\u001b[1m7813/7813\u001b[0m \u001b[32m━━━━━━━━━━━━━━━━━━━━\u001b[0m\u001b[37m\u001b[0m \u001b[1m48s\u001b[0m 6ms/step - categorical_accuracy: 0.6563 - loss: 0.7964 - val_categorical_accuracy: 0.6543 - val_loss: 0.7986 - learning_rate: 5.0000e-04\n",
            "Epoch 12/30\n",
            "\u001b[1m7813/7813\u001b[0m \u001b[32m━━━━━━━━━━━━━━━━━━━━\u001b[0m\u001b[37m\u001b[0m \u001b[1m49s\u001b[0m 6ms/step - categorical_accuracy: 0.6637 - loss: 0.7826 - val_categorical_accuracy: 0.6726 - val_loss: 0.7643 - learning_rate: 2.5000e-04\n",
            "Epoch 13/30\n",
            "\u001b[1m7813/7813\u001b[0m \u001b[32m━━━━━━━━━━━━━━━━━━━━\u001b[0m\u001b[37m\u001b[0m \u001b[1m49s\u001b[0m 6ms/step - categorical_accuracy: 0.6649 - loss: 0.7790 - val_categorical_accuracy: 0.6737 - val_loss: 0.7642 - learning_rate: 2.5000e-04\n",
            "Epoch 14/30\n",
            "\u001b[1m7813/7813\u001b[0m \u001b[32m━━━━━━━━━━━━━━━━━━━━\u001b[0m\u001b[37m\u001b[0m \u001b[1m48s\u001b[0m 6ms/step - categorical_accuracy: 0.6660 - loss: 0.7763 - val_categorical_accuracy: 0.6705 - val_loss: 0.7610 - learning_rate: 2.5000e-04\n",
            "Epoch 15/30\n",
            "\u001b[1m7813/7813\u001b[0m \u001b[32m━━━━━━━━━━━━━━━━━━━━\u001b[0m\u001b[37m\u001b[0m \u001b[1m48s\u001b[0m 6ms/step - categorical_accuracy: 0.6671 - loss: 0.7743 - val_categorical_accuracy: 0.6812 - val_loss: 0.7447 - learning_rate: 2.5000e-04\n",
            "Epoch 16/30\n",
            "\u001b[1m7813/7813\u001b[0m \u001b[32m━━━━━━━━━━━━━━━━━━━━\u001b[0m\u001b[37m\u001b[0m \u001b[1m48s\u001b[0m 6ms/step - categorical_accuracy: 0.6678 - loss: 0.7732 - val_categorical_accuracy: 0.6719 - val_loss: 0.7577 - learning_rate: 2.5000e-04\n",
            "Epoch 17/30\n",
            "\u001b[1m7813/7813\u001b[0m \u001b[32m━━━━━━━━━━━━━━━━━━━━\u001b[0m\u001b[37m\u001b[0m \u001b[1m54s\u001b[0m 7ms/step - categorical_accuracy: 0.6678 - loss: 0.7727 - val_categorical_accuracy: 0.6797 - val_loss: 0.7469 - learning_rate: 2.5000e-04\n",
            "Epoch 18/30\n",
            "\u001b[1m7805/7813\u001b[0m \u001b[32m━━━━━━━━━━━━━━━━━━━\u001b[0m\u001b[37m━\u001b[0m \u001b[1m0s\u001b[0m 6ms/step - categorical_accuracy: 0.6692 - loss: 0.7697\n",
            "Epoch 18: ReduceLROnPlateau reducing learning rate to 0.0001250000059371814.\n",
            "\u001b[1m7813/7813\u001b[0m \u001b[32m━━━━━━━━━━━━━━━━━━━━\u001b[0m\u001b[37m\u001b[0m \u001b[1m50s\u001b[0m 6ms/step - categorical_accuracy: 0.6679 - loss: 0.7722 - val_categorical_accuracy: 0.6819 - val_loss: 0.7453 - learning_rate: 2.5000e-04\n",
            "Epoch 19/30\n",
            "\u001b[1m7813/7813\u001b[0m \u001b[32m━━━━━━━━━━━━━━━━━━━━\u001b[0m\u001b[37m\u001b[0m \u001b[1m49s\u001b[0m 6ms/step - categorical_accuracy: 0.6723 - loss: 0.7639 - val_categorical_accuracy: 0.6833 - val_loss: 0.7451 - learning_rate: 1.2500e-04\n",
            "Epoch 20/30\n",
            "\u001b[1m7813/7813\u001b[0m \u001b[32m━━━━━━━━━━━━━━━━━━━━\u001b[0m\u001b[37m\u001b[0m \u001b[1m50s\u001b[0m 6ms/step - categorical_accuracy: 0.6737 - loss: 0.7608 - val_categorical_accuracy: 0.6740 - val_loss: 0.7544 - learning_rate: 1.2500e-04\n",
            "Epoch 21/30\n",
            "\u001b[1m7813/7813\u001b[0m \u001b[32m━━━━━━━━━━━━━━━━━━━━\u001b[0m\u001b[37m\u001b[0m \u001b[1m50s\u001b[0m 6ms/step - categorical_accuracy: 0.6741 - loss: 0.7597 - val_categorical_accuracy: 0.6859 - val_loss: 0.7350 - learning_rate: 1.2500e-04\n",
            "Epoch 22/30\n",
            "\u001b[1m7813/7813\u001b[0m \u001b[32m━━━━━━━━━━━━━━━━━━━━\u001b[0m\u001b[37m\u001b[0m \u001b[1m54s\u001b[0m 7ms/step - categorical_accuracy: 0.6745 - loss: 0.7582 - val_categorical_accuracy: 0.6880 - val_loss: 0.7307 - learning_rate: 1.2500e-04\n",
            "Epoch 23/30\n",
            "\u001b[1m7813/7813\u001b[0m \u001b[32m━━━━━━━━━━━━━━━━━━━━\u001b[0m\u001b[37m\u001b[0m \u001b[1m49s\u001b[0m 6ms/step - categorical_accuracy: 0.6741 - loss: 0.7577 - val_categorical_accuracy: 0.6855 - val_loss: 0.7334 - learning_rate: 1.2500e-04\n",
            "Epoch 24/30\n",
            "\u001b[1m7813/7813\u001b[0m \u001b[32m━━━━━━━━━━━━━━━━━━━━\u001b[0m\u001b[37m\u001b[0m \u001b[1m50s\u001b[0m 6ms/step - categorical_accuracy: 0.6759 - loss: 0.7565 - val_categorical_accuracy: 0.6889 - val_loss: 0.7306 - learning_rate: 1.2500e-04\n",
            "Epoch 25/30\n",
            "\u001b[1m7813/7813\u001b[0m \u001b[32m━━━━━━━━━━━━━━━━━━━━\u001b[0m\u001b[37m\u001b[0m \u001b[1m50s\u001b[0m 6ms/step - categorical_accuracy: 0.6753 - loss: 0.7563 - val_categorical_accuracy: 0.6815 - val_loss: 0.7385 - learning_rate: 1.2500e-04\n",
            "Epoch 26/30\n",
            "\u001b[1m7813/7813\u001b[0m \u001b[32m━━━━━━━━━━━━━━━━━━━━\u001b[0m\u001b[37m\u001b[0m \u001b[1m49s\u001b[0m 6ms/step - categorical_accuracy: 0.6754 - loss: 0.7555 - val_categorical_accuracy: 0.6815 - val_loss: 0.7403 - learning_rate: 1.2500e-04\n",
            "Epoch 27/30\n",
            "\u001b[1m7810/7813\u001b[0m \u001b[32m━━━━━━━━━━━━━━━━━━━\u001b[0m\u001b[37m━\u001b[0m \u001b[1m0s\u001b[0m 6ms/step - categorical_accuracy: 0.6775 - loss: 0.7524\n",
            "Epoch 27: ReduceLROnPlateau reducing learning rate to 6.25000029685907e-05.\n",
            "\u001b[1m7813/7813\u001b[0m \u001b[32m━━━━━━━━━━━━━━━━━━━━\u001b[0m\u001b[37m\u001b[0m \u001b[1m49s\u001b[0m 6ms/step - categorical_accuracy: 0.6763 - loss: 0.7550 - val_categorical_accuracy: 0.6880 - val_loss: 0.7317 - learning_rate: 1.2500e-04\n",
            "Epoch 28/30\n",
            "\u001b[1m7813/7813\u001b[0m \u001b[32m━━━━━━━━━━━━━━━━━━━━\u001b[0m\u001b[37m\u001b[0m \u001b[1m49s\u001b[0m 6ms/step - categorical_accuracy: 0.6784 - loss: 0.7499 - val_categorical_accuracy: 0.6913 - val_loss: 0.7250 - learning_rate: 6.2500e-05\n",
            "Epoch 29/30\n",
            "\u001b[1m7813/7813\u001b[0m \u001b[32m━━━━━━━━━━━━━━━━━━━━\u001b[0m\u001b[37m\u001b[0m \u001b[1m49s\u001b[0m 6ms/step - categorical_accuracy: 0.6790 - loss: 0.7481 - val_categorical_accuracy: 0.6916 - val_loss: 0.7230 - learning_rate: 6.2500e-05\n",
            "Epoch 30/30\n",
            "\u001b[1m7813/7813\u001b[0m \u001b[32m━━━━━━━━━━━━━━━━━━━━\u001b[0m\u001b[37m\u001b[0m \u001b[1m49s\u001b[0m 6ms/step - categorical_accuracy: 0.6792 - loss: 0.7466 - val_categorical_accuracy: 0.6899 - val_loss: 0.7252 - learning_rate: 6.2500e-05\n",
            "Restoring model weights from the end of the best epoch: 29.\n"
          ]
        },
        {
          "data": {
            "image/png": "[encoded data removed]",
            "text/plain": [
              "<Figure size 1000x400 with 2 Axes>"
            ]
          },
          "metadata": {},
          "output_type": "display_data"
        }
      ],
      "source": [
        "early = EarlyStopping(monitor='val_loss', patience=6, restore_best_weights=True, verbose=1)\n",
        "rlr   = ReduceLROnPlateau(monitor='val_loss', factor=0.5, patience=3, min_lr=1e-5, verbose=1)\n",
        "\n",
        "history = model_active.fit(\n",
        "    X_train, y_train,\n",
        "    validation_data=(X_val, y_val),\n",
        "    epochs=30, batch_size=64,\n",
        "    callbacks=[early, rlr],\n",
        "    verbose=1\n",
        ")\n",
        "\n",
        "fig, ax = plt.subplots(1,2, figsize=(10,4))\n",
        "ax[0].plot(history.history['loss'], label='train'); ax[0].plot(history.history['val_loss'], label='val'); ax[0].set_title('Loss'); ax[0].legend();\n",
        "ax[1].plot(history.history['categorical_accuracy'], label='train'); ax[1].plot(history.history['val_categorical_accuracy'], label='val'); ax[1].set_title('Accuracy'); ax[1].legend();\n",
        "plt.show()"
      ]
    },
    {
      "cell_type": "markdown",
      "metadata": {},
      "source": [
        "## Evaluación en test (reporte y matriz de confusión)"
      ]
    },
    {
      "cell_type": "code",
      "execution_count": 9,
      "metadata": {},
      "outputs": [
        {
          "name": "stdout",
          "output_type": "stream",
          "text": [
            "              precision    recall  f1-score   support\n",
            "\n",
            "     Ventaja       0.69      0.55      0.61     29708\n",
            "      Empate       0.72      0.82      0.77     47897\n",
            "  Desventaja       0.63      0.60      0.61     22395\n",
            "\n",
            "    accuracy                           0.69    100000\n",
            "   macro avg       0.68      0.66      0.66    100000\n",
            "weighted avg       0.69      0.69      0.69    100000\n",
            "\n"
          ]
        },
        {
          "data": {
            "image/png": "[encoded data removed]",
            "text/plain": [
              "<Figure size 400x400 with 2 Axes>"
            ]
          },
          "metadata": {},
          "output_type": "display_data"
        }
      ],
      "source": [
        "pred = model_active.predict(X_test, verbose=0)\n",
        "y_true = np.argmax(y_test, axis=1)\n",
        "y_pred = np.argmax(pred, axis=1)\n",
        "print(classification_report(y_true, y_pred, target_names=['Ventaja','Empate','Desventaja']))\n",
        "cm = confusion_matrix(y_true, y_pred)\n",
        "fig, ax = plt.subplots(figsize=(4,4))\n",
        "im = ax.imshow(cm, cmap='Blues')\n",
        "ax.set_xticks([0,1,2]); ax.set_yticks([0,1,2])\n",
        "ax.set_xticklabels(['V','=', 'D']); ax.set_yticklabels(['V','=', 'D'])\n",
        "for i in range(3):\n",
        "    for j in range(3):\n",
        "        ax.text(j, i, cm[i, j], ha='center', va='center')\n",
        "ax.set_title('Matriz de confusión (lado activo)'); plt.colorbar(im); plt.tight_layout(); plt.show()"
      ]
    }
  ],
  "metadata": {
    "kernelspec": {
      "display_name": "venv",
      "language": "python",
      "name": "python3"
    },
    "language_info": {
      "codemirror_mode": {
        "name": "ipython",
        "version": 3
      },
      "file_extension": ".py",
      "mimetype": "text/x-python",
      "name": "python",
      "nbconvert_exporter": "python",
      "pygments_lexer": "ipython3",
      "version": "3.12.10"
    }
  },
  "nbformat": 4,
  "nbformat_minor": 5
}
