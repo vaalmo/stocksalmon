{
 "cells": [
  {
   "cell_type": "code",
   "execution_count": 1,
   "id": "7d90b760",
   "metadata": {},
   "outputs": [
    {
     "name": "stdout",
     "output_type": "stream",
     "text": [
      "Requirement already satisfied: pandas>=2.1 in c:\\users\\samir\\appdata\\local\\programs\\python\\python312\\lib\\site-packages (from -r ../requirements.txt (line 1)) (2.3.3)\n",
      "Requirement already satisfied: pyarrow>=14 in c:\\users\\samir\\appdata\\local\\programs\\python\\python312\\lib\\site-packages (from -r ../requirements.txt (line 2)) (21.0.0)\n",
      "Requirement already satisfied: gdown in c:\\users\\samir\\appdata\\local\\programs\\python\\python312\\lib\\site-packages (from -r ../requirements.txt (line 3)) (5.2.0)\n",
      "Requirement already satisfied: numpy>=1.26.0 in c:\\users\\samir\\appdata\\local\\programs\\python\\python312\\lib\\site-packages (from pandas>=2.1->-r ../requirements.txt (line 1)) (2.3.3)\n",
      "Requirement already satisfied: python-dateutil>=2.8.2 in c:\\users\\samir\\appdata\\roaming\\python\\python312\\site-packages (from pandas>=2.1->-r ../requirements.txt (line 1)) (2.9.0.post0)\n",
      "Requirement already satisfied: pytz>=2020.1 in c:\\users\\samir\\appdata\\local\\programs\\python\\python312\\lib\\site-packages (from pandas>=2.1->-r ../requirements.txt (line 1)) (2025.2)\n",
      "Requirement already satisfied: tzdata>=2022.7 in c:\\users\\samir\\appdata\\local\\programs\\python\\python312\\lib\\site-packages (from pandas>=2.1->-r ../requirements.txt (line 1)) (2025.2)\n",
      "Requirement already satisfied: beautifulsoup4 in c:\\users\\samir\\appdata\\local\\programs\\python\\python312\\lib\\site-packages (from gdown->-r ../requirements.txt (line 3)) (4.14.2)\n",
      "Requirement already satisfied: filelock in c:\\users\\samir\\appdata\\local\\programs\\python\\python312\\lib\\site-packages (from gdown->-r ../requirements.txt (line 3)) (3.19.1)\n",
      "Requirement already satisfied: requests[socks] in c:\\users\\samir\\appdata\\local\\programs\\python\\python312\\lib\\site-packages (from gdown->-r ../requirements.txt (line 3)) (2.32.5)\n",
      "Requirement already satisfied: tqdm in c:\\users\\samir\\appdata\\local\\programs\\python\\python312\\lib\\site-packages (from gdown->-r ../requirements.txt (line 3)) (4.67.1)\n",
      "Requirement already satisfied: six>=1.5 in c:\\users\\samir\\appdata\\roaming\\python\\python312\\site-packages (from python-dateutil>=2.8.2->pandas>=2.1->-r ../requirements.txt (line 1)) (1.17.0)\n",
      "Requirement already satisfied: soupsieve>1.2 in c:\\users\\samir\\appdata\\local\\programs\\python\\python312\\lib\\site-packages (from beautifulsoup4->gdown->-r ../requirements.txt (line 3)) (2.8)\n",
      "Requirement already satisfied: typing-extensions>=4.0.0 in c:\\users\\samir\\appdata\\local\\programs\\python\\python312\\lib\\site-packages (from beautifulsoup4->gdown->-r ../requirements.txt (line 3)) (4.15.0)\n",
      "Requirement already satisfied: charset_normalizer<4,>=2 in c:\\users\\samir\\appdata\\local\\programs\\python\\python312\\lib\\site-packages (from requests[socks]->gdown->-r ../requirements.txt (line 3)) (3.4.3)\n",
      "Requirement already satisfied: idna<4,>=2.5 in c:\\users\\samir\\appdata\\local\\programs\\python\\python312\\lib\\site-packages (from requests[socks]->gdown->-r ../requirements.txt (line 3)) (3.10)\n",
      "Requirement already satisfied: urllib3<3,>=1.21.1 in c:\\users\\samir\\appdata\\local\\programs\\python\\python312\\lib\\site-packages (from requests[socks]->gdown->-r ../requirements.txt (line 3)) (2.5.0)\n",
      "Requirement already satisfied: certifi>=2017.4.17 in c:\\users\\samir\\appdata\\local\\programs\\python\\python312\\lib\\site-packages (from requests[socks]->gdown->-r ../requirements.txt (line 3)) (2025.8.3)\n",
      "Requirement already satisfied: PySocks!=1.5.7,>=1.5.6 in c:\\users\\samir\\appdata\\local\\programs\\python\\python312\\lib\\site-packages (from requests[socks]->gdown->-r ../requirements.txt (line 3)) (1.7.1)\n",
      "Requirement already satisfied: colorama in c:\\users\\samir\\appdata\\roaming\\python\\python312\\site-packages (from tqdm->gdown->-r ../requirements.txt (line 3)) (0.4.6)\n",
      "Note: you may need to restart the kernel to use updated packages.\n"
     ]
    },
    {
     "name": "stderr",
     "output_type": "stream",
     "text": [
      "\n",
      "[notice] A new release of pip is available: 23.2.1 -> 25.2\n",
      "[notice] To update, run: python.exe -m pip install --upgrade pip\n"
     ]
    }
   ],
   "source": [
    "%pip install -r ../requirements.txt"
   ]
  },
  {
   "cell_type": "code",
   "execution_count": 2,
   "id": "f8169d7d",
   "metadata": {},
   "outputs": [
    {
     "name": "stdout",
     "output_type": "stream",
     "text": [
      "c:\\Users\\samir\\AppData\\Local\\Programs\\Python\\Python312\\python.exe 2.3.3\n",
      "21.0.0 c:\\Users\\samir\\AppData\\Local\\Programs\\Python\\Python312\\Lib\\site-packages\\pyarrow\\__init__.py\n"
     ]
    }
   ],
   "source": [
    "import sys, pandas as pd\n",
    "print(sys.executable, pd.__version__)\n",
    "import pyarrow as pa\n",
    "print(pa.__version__, pa.__file__)"
   ]
  },
  {
   "cell_type": "code",
   "execution_count": 3,
   "id": "bab2624b",
   "metadata": {},
   "outputs": [],
   "source": [
    "from pathlib import Path\n",
    "import pandas as pd\n",
    "\n",
    "DATA_DIR = Path(\"../data/raw\")\n",
    "\n",
    "PD_KW = dict(dtype_backend=\"pyarrow\") "
   ]
  },
  {
   "cell_type": "code",
   "execution_count": 4,
   "id": "b7779c96",
   "metadata": {},
   "outputs": [],
   "source": [
    "def load_csv(path: Path, usecols=None, dtypes=None, nrows=None):\n",
    "    \"\"\"\n",
    "    Carga un CSV a DataFrame de forma robusta.\n",
    "    - usecols: columnas a leer (si quieres probar con un subconjunto).\n",
    "    - dtypes: mapeo de tipos por columna si ya los conoces.\n",
    "    - nrows: para muestrear primeras N filas si necesitas una carga rápida.\n",
    "    \"\"\"\n",
    "    if not path.exists():\n",
    "        raise FileNotFoundError(f\"No existe: {path}\")\n",
    "\n",
    "    try:\n",
    "        df = pd.read_csv(\n",
    "            path,\n",
    "            usecols=usecols,\n",
    "            dtype=dtypes,\n",
    "            low_memory=False,    # evita inferencias parciales\n",
    "            on_bad_lines=\"warn\", # avisa si hay líneas corruptas\n",
    "            **PD_KW               # usa backend pyarrow si está disponible\n",
    "        )\n",
    "    except TypeError:\n",
    "        df = pd.read_csv(\n",
    "            path,\n",
    "            usecols=usecols,\n",
    "            dtype=dtypes,\n",
    "            low_memory=False,\n",
    "            on_bad_lines=\"warn\",\n",
    "        )\n",
    "    return df\n"
   ]
  },
  {
   "cell_type": "code",
   "execution_count": 7,
   "id": "1c1c80a0",
   "metadata": {},
   "outputs": [],
   "source": [
    "path_chess   = DATA_DIR / \"chessData.csv\"\n",
    "path_random  = DATA_DIR / \"random_evals.csv\"\n",
    "path_tactic  = DATA_DIR / \"tactic_evals.csv\"\n",
    "\n",
    "df_chess  = load_csv(path_chess)\n",
    "df_random = load_csv(path_random)\n",
    "df_tactic = load_csv(path_tactic)"
   ]
  },
  {
   "cell_type": "code",
   "execution_count": 6,
   "id": "04a51d39",
   "metadata": {},
   "outputs": [],
   "source": [
    "def overview(df: pd.DataFrame, name: str = \"DataFrame\", show_cols=20):\n",
    "    print(\"=\" * 100)\n",
    "    print(f\"📦 {name}\")\n",
    "    print(\"- Dimensiones:\", df.shape)                 \n",
    "    print(\"- Columnas:\", len(df.columns))\n",
    "    print(\"- Primeras columnas:\", list(df.columns[:show_cols]))\n",
    "    print(\"\\n🔹 Tipos de datos:\")\n",
    "    display(df.dtypes.to_frame(\"dtype\").head(show_cols))\n",
    "\n",
    "    print(\"\\n🔹 Memoria estimada por columna (Top 10):\")\n",
    "    mem = df.memory_usage(deep=True).sort_values(ascending=False).head(10)\n",
    "    display((mem / (1024**2)).round(3).rename(\"MB\").to_frame())\n",
    "\n",
    "    print(\"\\n🔹 df.info():\")\n",
    "    df.info(memory_usage=\"deep\")\n",
    "\n",
    "    print(\"\\n🔹 df.head():\")\n",
    "    display(df.head(3))\n",
    "\n",
    "    print(\"\\n🔹 Valores únicos por columna (muestra):\")\n",
    "    display(df.nunique(dropna=True).sort_values(ascending=False).head(10).to_frame(\"nunique\"))\n",
    "\n",
    "    # (complemento mínimo para Paso 4, solo conteo bruto de nulos)\n",
    "    print(\"\\n🔹 Conteo de nulos (Top 10):\")\n",
    "    display(df.isna().sum().sort_values(ascending=False).head(10).to_frame(\"nulos\"))\n"
   ]
  },
  {
   "cell_type": "code",
   "execution_count": 8,
   "id": "c413c465",
   "metadata": {},
   "outputs": [
    {
     "name": "stdout",
     "output_type": "stream",
     "text": [
      "====================================================================================================\n",
      "📦 chessData.csv\n",
      "- Dimensiones: (12958035, 2)\n",
      "- Columnas: 2\n",
      "- Primeras columnas: ['FEN', 'Evaluation']\n",
      "\n",
      "🔹 Tipos de datos:\n"
     ]
    },
    {
     "data": {
      "text/html": [
       "<div>\n",
       "<style scoped>\n",
       "    .dataframe tbody tr th:only-of-type {\n",
       "        vertical-align: middle;\n",
       "    }\n",
       "\n",
       "    .dataframe tbody tr th {\n",
       "        vertical-align: top;\n",
       "    }\n",
       "\n",
       "    .dataframe thead th {\n",
       "        text-align: right;\n",
       "    }\n",
       "</style>\n",
       "<table border=\"1\" class=\"dataframe\">\n",
       "  <thead>\n",
       "    <tr style=\"text-align: right;\">\n",
       "      <th></th>\n",
       "      <th>dtype</th>\n",
       "    </tr>\n",
       "  </thead>\n",
       "  <tbody>\n",
       "    <tr>\n",
       "      <th>FEN</th>\n",
       "      <td>string[pyarrow]</td>\n",
       "    </tr>\n",
       "    <tr>\n",
       "      <th>Evaluation</th>\n",
       "      <td>string[pyarrow]</td>\n",
       "    </tr>\n",
       "  </tbody>\n",
       "</table>\n",
       "</div>"
      ],
      "text/plain": [
       "                      dtype\n",
       "FEN         string[pyarrow]\n",
       "Evaluation  string[pyarrow]"
      ]
     },
     "metadata": {},
     "output_type": "display_data"
    },
    {
     "name": "stdout",
     "output_type": "stream",
     "text": [
      "\n",
      "🔹 Memoria estimada por columna (Top 10):\n"
     ]
    },
    {
     "data": {
      "text/html": [
       "<div>\n",
       "<style scoped>\n",
       "    .dataframe tbody tr th:only-of-type {\n",
       "        vertical-align: middle;\n",
       "    }\n",
       "\n",
       "    .dataframe tbody tr th {\n",
       "        vertical-align: top;\n",
       "    }\n",
       "\n",
       "    .dataframe thead th {\n",
       "        text-align: right;\n",
       "    }\n",
       "</style>\n",
       "<table border=\"1\" class=\"dataframe\">\n",
       "  <thead>\n",
       "    <tr style=\"text-align: right;\">\n",
       "      <th></th>\n",
       "      <th>MB</th>\n",
       "    </tr>\n",
       "  </thead>\n",
       "  <tbody>\n",
       "    <tr>\n",
       "      <th>FEN</th>\n",
       "      <td>741.373</td>\n",
       "    </tr>\n",
       "    <tr>\n",
       "      <th>Evaluation</th>\n",
       "      <td>90.911</td>\n",
       "    </tr>\n",
       "    <tr>\n",
       "      <th>Index</th>\n",
       "      <td>0.000</td>\n",
       "    </tr>\n",
       "  </tbody>\n",
       "</table>\n",
       "</div>"
      ],
      "text/plain": [
       "                 MB\n",
       "FEN         741.373\n",
       "Evaluation   90.911\n",
       "Index         0.000"
      ]
     },
     "metadata": {},
     "output_type": "display_data"
    },
    {
     "name": "stdout",
     "output_type": "stream",
     "text": [
      "\n",
      "🔹 df.info():\n",
      "<class 'pandas.core.frame.DataFrame'>\n",
      "RangeIndex: 12958035 entries, 0 to 12958034\n",
      "Data columns (total 2 columns):\n",
      " #   Column      Dtype          \n",
      "---  ------      -----          \n",
      " 0   FEN         string[pyarrow]\n",
      " 1   Evaluation  string[pyarrow]\n",
      "dtypes: string[pyarrow](2)\n",
      "memory usage: 832.3 MB\n",
      "\n",
      "🔹 df.head():\n"
     ]
    },
    {
     "data": {
      "text/html": [
       "<div>\n",
       "<style scoped>\n",
       "    .dataframe tbody tr th:only-of-type {\n",
       "        vertical-align: middle;\n",
       "    }\n",
       "\n",
       "    .dataframe tbody tr th {\n",
       "        vertical-align: top;\n",
       "    }\n",
       "\n",
       "    .dataframe thead th {\n",
       "        text-align: right;\n",
       "    }\n",
       "</style>\n",
       "<table border=\"1\" class=\"dataframe\">\n",
       "  <thead>\n",
       "    <tr style=\"text-align: right;\">\n",
       "      <th></th>\n",
       "      <th>FEN</th>\n",
       "      <th>Evaluation</th>\n",
       "    </tr>\n",
       "  </thead>\n",
       "  <tbody>\n",
       "    <tr>\n",
       "      <th>0</th>\n",
       "      <td>rnbqkbnr/pppppppp/8/8/4P3/8/PPPP1PPP/RNBQKBNR ...</td>\n",
       "      <td>-10</td>\n",
       "    </tr>\n",
       "    <tr>\n",
       "      <th>1</th>\n",
       "      <td>rnbqkbnr/pppp1ppp/4p3/8/4P3/8/PPPP1PPP/RNBQKBN...</td>\n",
       "      <td>+56</td>\n",
       "    </tr>\n",
       "    <tr>\n",
       "      <th>2</th>\n",
       "      <td>rnbqkbnr/pppp1ppp/4p3/8/3PP3/8/PPP2PPP/RNBQKBN...</td>\n",
       "      <td>-9</td>\n",
       "    </tr>\n",
       "  </tbody>\n",
       "</table>\n",
       "</div>"
      ],
      "text/plain": [
       "                                                 FEN Evaluation\n",
       "0  rnbqkbnr/pppppppp/8/8/4P3/8/PPPP1PPP/RNBQKBNR ...        -10\n",
       "1  rnbqkbnr/pppp1ppp/4p3/8/4P3/8/PPPP1PPP/RNBQKBN...        +56\n",
       "2  rnbqkbnr/pppp1ppp/4p3/8/3PP3/8/PPP2PPP/RNBQKBN...         -9"
      ]
     },
     "metadata": {},
     "output_type": "display_data"
    },
    {
     "name": "stdout",
     "output_type": "stream",
     "text": [
      "\n",
      "🔹 Valores únicos por columna (muestra):\n"
     ]
    },
    {
     "data": {
      "text/html": [
       "<div>\n",
       "<style scoped>\n",
       "    .dataframe tbody tr th:only-of-type {\n",
       "        vertical-align: middle;\n",
       "    }\n",
       "\n",
       "    .dataframe tbody tr th {\n",
       "        vertical-align: top;\n",
       "    }\n",
       "\n",
       "    .dataframe thead th {\n",
       "        text-align: right;\n",
       "    }\n",
       "</style>\n",
       "<table border=\"1\" class=\"dataframe\">\n",
       "  <thead>\n",
       "    <tr style=\"text-align: right;\">\n",
       "      <th></th>\n",
       "      <th>nunique</th>\n",
       "    </tr>\n",
       "  </thead>\n",
       "  <tbody>\n",
       "    <tr>\n",
       "      <th>FEN</th>\n",
       "      <td>12954834</td>\n",
       "    </tr>\n",
       "    <tr>\n",
       "      <th>Evaluation</th>\n",
       "      <td>13544</td>\n",
       "    </tr>\n",
       "  </tbody>\n",
       "</table>\n",
       "</div>"
      ],
      "text/plain": [
       "             nunique\n",
       "FEN         12954834\n",
       "Evaluation     13544"
      ]
     },
     "metadata": {},
     "output_type": "display_data"
    },
    {
     "name": "stdout",
     "output_type": "stream",
     "text": [
      "\n",
      "🔹 Conteo de nulos (Top 10):\n"
     ]
    },
    {
     "data": {
      "text/html": [
       "<div>\n",
       "<style scoped>\n",
       "    .dataframe tbody tr th:only-of-type {\n",
       "        vertical-align: middle;\n",
       "    }\n",
       "\n",
       "    .dataframe tbody tr th {\n",
       "        vertical-align: top;\n",
       "    }\n",
       "\n",
       "    .dataframe thead th {\n",
       "        text-align: right;\n",
       "    }\n",
       "</style>\n",
       "<table border=\"1\" class=\"dataframe\">\n",
       "  <thead>\n",
       "    <tr style=\"text-align: right;\">\n",
       "      <th></th>\n",
       "      <th>nulos</th>\n",
       "    </tr>\n",
       "  </thead>\n",
       "  <tbody>\n",
       "    <tr>\n",
       "      <th>FEN</th>\n",
       "      <td>0</td>\n",
       "    </tr>\n",
       "    <tr>\n",
       "      <th>Evaluation</th>\n",
       "      <td>0</td>\n",
       "    </tr>\n",
       "  </tbody>\n",
       "</table>\n",
       "</div>"
      ],
      "text/plain": [
       "            nulos\n",
       "FEN             0\n",
       "Evaluation      0"
      ]
     },
     "metadata": {},
     "output_type": "display_data"
    },
    {
     "name": "stdout",
     "output_type": "stream",
     "text": [
      "====================================================================================================\n",
      "📦 random_evals.csv\n",
      "- Dimensiones: (1000273, 2)\n",
      "- Columnas: 2\n",
      "- Primeras columnas: ['FEN', 'Evaluation']\n",
      "\n",
      "🔹 Tipos de datos:\n"
     ]
    },
    {
     "data": {
      "text/html": [
       "<div>\n",
       "<style scoped>\n",
       "    .dataframe tbody tr th:only-of-type {\n",
       "        vertical-align: middle;\n",
       "    }\n",
       "\n",
       "    .dataframe tbody tr th {\n",
       "        vertical-align: top;\n",
       "    }\n",
       "\n",
       "    .dataframe thead th {\n",
       "        text-align: right;\n",
       "    }\n",
       "</style>\n",
       "<table border=\"1\" class=\"dataframe\">\n",
       "  <thead>\n",
       "    <tr style=\"text-align: right;\">\n",
       "      <th></th>\n",
       "      <th>dtype</th>\n",
       "    </tr>\n",
       "  </thead>\n",
       "  <tbody>\n",
       "    <tr>\n",
       "      <th>FEN</th>\n",
       "      <td>string[pyarrow]</td>\n",
       "    </tr>\n",
       "    <tr>\n",
       "      <th>Evaluation</th>\n",
       "      <td>string[pyarrow]</td>\n",
       "    </tr>\n",
       "  </tbody>\n",
       "</table>\n",
       "</div>"
      ],
      "text/plain": [
       "                      dtype\n",
       "FEN         string[pyarrow]\n",
       "Evaluation  string[pyarrow]"
      ]
     },
     "metadata": {},
     "output_type": "display_data"
    },
    {
     "name": "stdout",
     "output_type": "stream",
     "text": [
      "\n",
      "🔹 Memoria estimada por columna (Top 10):\n"
     ]
    },
    {
     "data": {
      "text/html": [
       "<div>\n",
       "<style scoped>\n",
       "    .dataframe tbody tr th:only-of-type {\n",
       "        vertical-align: middle;\n",
       "    }\n",
       "\n",
       "    .dataframe tbody tr th {\n",
       "        vertical-align: top;\n",
       "    }\n",
       "\n",
       "    .dataframe thead th {\n",
       "        text-align: right;\n",
       "    }\n",
       "</style>\n",
       "<table border=\"1\" class=\"dataframe\">\n",
       "  <thead>\n",
       "    <tr style=\"text-align: right;\">\n",
       "      <th></th>\n",
       "      <th>MB</th>\n",
       "    </tr>\n",
       "  </thead>\n",
       "  <tbody>\n",
       "    <tr>\n",
       "      <th>FEN</th>\n",
       "      <td>60.420</td>\n",
       "    </tr>\n",
       "    <tr>\n",
       "      <th>Evaluation</th>\n",
       "      <td>7.507</td>\n",
       "    </tr>\n",
       "    <tr>\n",
       "      <th>Index</th>\n",
       "      <td>0.000</td>\n",
       "    </tr>\n",
       "  </tbody>\n",
       "</table>\n",
       "</div>"
      ],
      "text/plain": [
       "                MB\n",
       "FEN         60.420\n",
       "Evaluation   7.507\n",
       "Index        0.000"
      ]
     },
     "metadata": {},
     "output_type": "display_data"
    },
    {
     "name": "stdout",
     "output_type": "stream",
     "text": [
      "\n",
      "🔹 df.info():\n",
      "<class 'pandas.core.frame.DataFrame'>\n",
      "RangeIndex: 1000273 entries, 0 to 1000272\n",
      "Data columns (total 2 columns):\n",
      " #   Column      Non-Null Count    Dtype          \n",
      "---  ------      --------------    -----          \n",
      " 0   FEN         1000273 non-null  string[pyarrow]\n",
      " 1   Evaluation  1000273 non-null  string[pyarrow]\n",
      "dtypes: string[pyarrow](2)\n",
      "memory usage: 67.9 MB\n",
      "\n",
      "🔹 df.head():\n"
     ]
    },
    {
     "data": {
      "text/html": [
       "<div>\n",
       "<style scoped>\n",
       "    .dataframe tbody tr th:only-of-type {\n",
       "        vertical-align: middle;\n",
       "    }\n",
       "\n",
       "    .dataframe tbody tr th {\n",
       "        vertical-align: top;\n",
       "    }\n",
       "\n",
       "    .dataframe thead th {\n",
       "        text-align: right;\n",
       "    }\n",
       "</style>\n",
       "<table border=\"1\" class=\"dataframe\">\n",
       "  <thead>\n",
       "    <tr style=\"text-align: right;\">\n",
       "      <th></th>\n",
       "      <th>FEN</th>\n",
       "      <th>Evaluation</th>\n",
       "    </tr>\n",
       "  </thead>\n",
       "  <tbody>\n",
       "    <tr>\n",
       "      <th>0</th>\n",
       "      <td>rnbqkb1r/pppppppp/B4n2/8/4P3/8/PPPP1PPP/RNBQK1...</td>\n",
       "      <td>-459</td>\n",
       "    </tr>\n",
       "    <tr>\n",
       "      <th>1</th>\n",
       "      <td>rnbqkb1r/pppppppp/5n2/1B6/4P3/8/PPPP1PPP/RNBQK...</td>\n",
       "      <td>-125</td>\n",
       "    </tr>\n",
       "    <tr>\n",
       "      <th>2</th>\n",
       "      <td>rnbqkbnr/p1pppppp/8/1p6/4P3/8/PPPP1PPP/RNBQKBN...</td>\n",
       "      <td>+198</td>\n",
       "    </tr>\n",
       "  </tbody>\n",
       "</table>\n",
       "</div>"
      ],
      "text/plain": [
       "                                                 FEN Evaluation\n",
       "0  rnbqkb1r/pppppppp/B4n2/8/4P3/8/PPPP1PPP/RNBQK1...       -459\n",
       "1  rnbqkb1r/pppppppp/5n2/1B6/4P3/8/PPPP1PPP/RNBQK...       -125\n",
       "2  rnbqkbnr/p1pppppp/8/1p6/4P3/8/PPPP1PPP/RNBQKBN...       +198"
      ]
     },
     "metadata": {},
     "output_type": "display_data"
    },
    {
     "name": "stdout",
     "output_type": "stream",
     "text": [
      "\n",
      "🔹 Valores únicos por columna (muestra):\n"
     ]
    },
    {
     "data": {
      "text/html": [
       "<div>\n",
       "<style scoped>\n",
       "    .dataframe tbody tr th:only-of-type {\n",
       "        vertical-align: middle;\n",
       "    }\n",
       "\n",
       "    .dataframe tbody tr th {\n",
       "        vertical-align: top;\n",
       "    }\n",
       "\n",
       "    .dataframe thead th {\n",
       "        text-align: right;\n",
       "    }\n",
       "</style>\n",
       "<table border=\"1\" class=\"dataframe\">\n",
       "  <thead>\n",
       "    <tr style=\"text-align: right;\">\n",
       "      <th></th>\n",
       "      <th>nunique</th>\n",
       "    </tr>\n",
       "  </thead>\n",
       "  <tbody>\n",
       "    <tr>\n",
       "      <th>FEN</th>\n",
       "      <td>1000273</td>\n",
       "    </tr>\n",
       "    <tr>\n",
       "      <th>Evaluation</th>\n",
       "      <td>12297</td>\n",
       "    </tr>\n",
       "  </tbody>\n",
       "</table>\n",
       "</div>"
      ],
      "text/plain": [
       "            nunique\n",
       "FEN         1000273\n",
       "Evaluation    12297"
      ]
     },
     "metadata": {},
     "output_type": "display_data"
    },
    {
     "name": "stdout",
     "output_type": "stream",
     "text": [
      "\n",
      "🔹 Conteo de nulos (Top 10):\n"
     ]
    },
    {
     "data": {
      "text/html": [
       "<div>\n",
       "<style scoped>\n",
       "    .dataframe tbody tr th:only-of-type {\n",
       "        vertical-align: middle;\n",
       "    }\n",
       "\n",
       "    .dataframe tbody tr th {\n",
       "        vertical-align: top;\n",
       "    }\n",
       "\n",
       "    .dataframe thead th {\n",
       "        text-align: right;\n",
       "    }\n",
       "</style>\n",
       "<table border=\"1\" class=\"dataframe\">\n",
       "  <thead>\n",
       "    <tr style=\"text-align: right;\">\n",
       "      <th></th>\n",
       "      <th>nulos</th>\n",
       "    </tr>\n",
       "  </thead>\n",
       "  <tbody>\n",
       "    <tr>\n",
       "      <th>FEN</th>\n",
       "      <td>0</td>\n",
       "    </tr>\n",
       "    <tr>\n",
       "      <th>Evaluation</th>\n",
       "      <td>0</td>\n",
       "    </tr>\n",
       "  </tbody>\n",
       "</table>\n",
       "</div>"
      ],
      "text/plain": [
       "            nulos\n",
       "FEN             0\n",
       "Evaluation      0"
      ]
     },
     "metadata": {},
     "output_type": "display_data"
    },
    {
     "name": "stdout",
     "output_type": "stream",
     "text": [
      "====================================================================================================\n",
      "📦 tactic_evals.csv\n",
      "- Dimensiones: (2628219, 3)\n",
      "- Columnas: 3\n",
      "- Primeras columnas: ['FEN', 'Evaluation', 'Move']\n",
      "\n",
      "🔹 Tipos de datos:\n"
     ]
    },
    {
     "data": {
      "text/html": [
       "<div>\n",
       "<style scoped>\n",
       "    .dataframe tbody tr th:only-of-type {\n",
       "        vertical-align: middle;\n",
       "    }\n",
       "\n",
       "    .dataframe tbody tr th {\n",
       "        vertical-align: top;\n",
       "    }\n",
       "\n",
       "    .dataframe thead th {\n",
       "        text-align: right;\n",
       "    }\n",
       "</style>\n",
       "<table border=\"1\" class=\"dataframe\">\n",
       "  <thead>\n",
       "    <tr style=\"text-align: right;\">\n",
       "      <th></th>\n",
       "      <th>dtype</th>\n",
       "    </tr>\n",
       "  </thead>\n",
       "  <tbody>\n",
       "    <tr>\n",
       "      <th>FEN</th>\n",
       "      <td>string[pyarrow]</td>\n",
       "    </tr>\n",
       "    <tr>\n",
       "      <th>Evaluation</th>\n",
       "      <td>string[pyarrow]</td>\n",
       "    </tr>\n",
       "    <tr>\n",
       "      <th>Move</th>\n",
       "      <td>string[pyarrow]</td>\n",
       "    </tr>\n",
       "  </tbody>\n",
       "</table>\n",
       "</div>"
      ],
      "text/plain": [
       "                      dtype\n",
       "FEN         string[pyarrow]\n",
       "Evaluation  string[pyarrow]\n",
       "Move        string[pyarrow]"
      ]
     },
     "metadata": {},
     "output_type": "display_data"
    },
    {
     "name": "stdout",
     "output_type": "stream",
     "text": [
      "\n",
      "🔹 Memoria estimada por columna (Top 10):\n"
     ]
    },
    {
     "data": {
      "text/html": [
       "<div>\n",
       "<style scoped>\n",
       "    .dataframe tbody tr th:only-of-type {\n",
       "        vertical-align: middle;\n",
       "    }\n",
       "\n",
       "    .dataframe tbody tr th {\n",
       "        vertical-align: top;\n",
       "    }\n",
       "\n",
       "    .dataframe thead th {\n",
       "        text-align: right;\n",
       "    }\n",
       "</style>\n",
       "<table border=\"1\" class=\"dataframe\">\n",
       "  <thead>\n",
       "    <tr style=\"text-align: right;\">\n",
       "      <th></th>\n",
       "      <th>MB</th>\n",
       "    </tr>\n",
       "  </thead>\n",
       "  <tbody>\n",
       "    <tr>\n",
       "      <th>FEN</th>\n",
       "      <td>143.590</td>\n",
       "    </tr>\n",
       "    <tr>\n",
       "      <th>Move</th>\n",
       "      <td>20.057</td>\n",
       "    </tr>\n",
       "    <tr>\n",
       "      <th>Evaluation</th>\n",
       "      <td>19.714</td>\n",
       "    </tr>\n",
       "    <tr>\n",
       "      <th>Index</th>\n",
       "      <td>0.000</td>\n",
       "    </tr>\n",
       "  </tbody>\n",
       "</table>\n",
       "</div>"
      ],
      "text/plain": [
       "                 MB\n",
       "FEN         143.590\n",
       "Move         20.057\n",
       "Evaluation   19.714\n",
       "Index         0.000"
      ]
     },
     "metadata": {},
     "output_type": "display_data"
    },
    {
     "name": "stdout",
     "output_type": "stream",
     "text": [
      "\n",
      "🔹 df.info():\n",
      "<class 'pandas.core.frame.DataFrame'>\n",
      "RangeIndex: 2628219 entries, 0 to 2628218\n",
      "Data columns (total 3 columns):\n",
      " #   Column      Dtype          \n",
      "---  ------      -----          \n",
      " 0   FEN         string[pyarrow]\n",
      " 1   Evaluation  string[pyarrow]\n",
      " 2   Move        string[pyarrow]\n",
      "dtypes: string[pyarrow](3)\n",
      "memory usage: 183.4 MB\n",
      "\n",
      "🔹 df.head():\n"
     ]
    },
    {
     "data": {
      "text/html": [
       "<div>\n",
       "<style scoped>\n",
       "    .dataframe tbody tr th:only-of-type {\n",
       "        vertical-align: middle;\n",
       "    }\n",
       "\n",
       "    .dataframe tbody tr th {\n",
       "        vertical-align: top;\n",
       "    }\n",
       "\n",
       "    .dataframe thead th {\n",
       "        text-align: right;\n",
       "    }\n",
       "</style>\n",
       "<table border=\"1\" class=\"dataframe\">\n",
       "  <thead>\n",
       "    <tr style=\"text-align: right;\">\n",
       "      <th></th>\n",
       "      <th>FEN</th>\n",
       "      <th>Evaluation</th>\n",
       "      <th>Move</th>\n",
       "    </tr>\n",
       "  </thead>\n",
       "  <tbody>\n",
       "    <tr>\n",
       "      <th>0</th>\n",
       "      <td>r2qkbr1/pb1nn3/1ppp3p/8/3P1p2/2PB1N1P/PPQN1PP1...</td>\n",
       "      <td>#+2</td>\n",
       "      <td>d3g6</td>\n",
       "    </tr>\n",
       "    <tr>\n",
       "      <th>1</th>\n",
       "      <td>r2qkb2/pb1nn3/1ppp2rp/8/3P1p2/2P2N1P/PPQN1PP1/...</td>\n",
       "      <td>#+1</td>\n",
       "      <td>c2g6</td>\n",
       "    </tr>\n",
       "    <tr>\n",
       "      <th>2</th>\n",
       "      <td>r2qkbr1/pb1nn3/1ppp2Bp/8/3P1p2/2P2N1P/PPQN1PP1...</td>\n",
       "      <td>#+1</td>\n",
       "      <td>g8g6</td>\n",
       "    </tr>\n",
       "  </tbody>\n",
       "</table>\n",
       "</div>"
      ],
      "text/plain": [
       "                                                 FEN Evaluation  Move\n",
       "0  r2qkbr1/pb1nn3/1ppp3p/8/3P1p2/2PB1N1P/PPQN1PP1...        #+2  d3g6\n",
       "1  r2qkb2/pb1nn3/1ppp2rp/8/3P1p2/2P2N1P/PPQN1PP1/...        #+1  c2g6\n",
       "2  r2qkbr1/pb1nn3/1ppp2Bp/8/3P1p2/2P2N1P/PPQN1PP1...        #+1  g8g6"
      ]
     },
     "metadata": {},
     "output_type": "display_data"
    },
    {
     "name": "stdout",
     "output_type": "stream",
     "text": [
      "\n",
      "🔹 Valores únicos por columna (muestra):\n"
     ]
    },
    {
     "data": {
      "text/html": [
       "<div>\n",
       "<style scoped>\n",
       "    .dataframe tbody tr th:only-of-type {\n",
       "        vertical-align: middle;\n",
       "    }\n",
       "\n",
       "    .dataframe tbody tr th {\n",
       "        vertical-align: top;\n",
       "    }\n",
       "\n",
       "    .dataframe thead th {\n",
       "        text-align: right;\n",
       "    }\n",
       "</style>\n",
       "<table border=\"1\" class=\"dataframe\">\n",
       "  <thead>\n",
       "    <tr style=\"text-align: right;\">\n",
       "      <th></th>\n",
       "      <th>nunique</th>\n",
       "    </tr>\n",
       "  </thead>\n",
       "  <tbody>\n",
       "    <tr>\n",
       "      <th>FEN</th>\n",
       "      <td>2628219</td>\n",
       "    </tr>\n",
       "    <tr>\n",
       "      <th>Evaluation</th>\n",
       "      <td>8014</td>\n",
       "    </tr>\n",
       "    <tr>\n",
       "      <th>Move</th>\n",
       "      <td>1942</td>\n",
       "    </tr>\n",
       "  </tbody>\n",
       "</table>\n",
       "</div>"
      ],
      "text/plain": [
       "            nunique\n",
       "FEN         2628219\n",
       "Evaluation     8014\n",
       "Move           1942"
      ]
     },
     "metadata": {},
     "output_type": "display_data"
    },
    {
     "name": "stdout",
     "output_type": "stream",
     "text": [
      "\n",
      "🔹 Conteo de nulos (Top 10):\n"
     ]
    },
    {
     "data": {
      "text/html": [
       "<div>\n",
       "<style scoped>\n",
       "    .dataframe tbody tr th:only-of-type {\n",
       "        vertical-align: middle;\n",
       "    }\n",
       "\n",
       "    .dataframe tbody tr th {\n",
       "        vertical-align: top;\n",
       "    }\n",
       "\n",
       "    .dataframe thead th {\n",
       "        text-align: right;\n",
       "    }\n",
       "</style>\n",
       "<table border=\"1\" class=\"dataframe\">\n",
       "  <thead>\n",
       "    <tr style=\"text-align: right;\">\n",
       "      <th></th>\n",
       "      <th>nulos</th>\n",
       "    </tr>\n",
       "  </thead>\n",
       "  <tbody>\n",
       "    <tr>\n",
       "      <th>Move</th>\n",
       "      <td>83768</td>\n",
       "    </tr>\n",
       "    <tr>\n",
       "      <th>FEN</th>\n",
       "      <td>0</td>\n",
       "    </tr>\n",
       "    <tr>\n",
       "      <th>Evaluation</th>\n",
       "      <td>0</td>\n",
       "    </tr>\n",
       "  </tbody>\n",
       "</table>\n",
       "</div>"
      ],
      "text/plain": [
       "            nulos\n",
       "Move        83768\n",
       "FEN             0\n",
       "Evaluation      0"
      ]
     },
     "metadata": {},
     "output_type": "display_data"
    }
   ],
   "source": [
    "overview(df_chess,  \"chessData.csv\")\n",
    "overview(df_random, \"random_evals.csv\")\n",
    "overview(df_tactic, \"tactic_evals.csv\")\n"
   ]
  }
 ],
 "metadata": {
  "kernelspec": {
   "display_name": "Python 3",
   "language": "python",
   "name": "python3"
  },
  "language_info": {
   "codemirror_mode": {
    "name": "ipython",
    "version": 3
   },
   "file_extension": ".py",
   "mimetype": "text/x-python",
   "name": "python",
   "nbconvert_exporter": "python",
   "pygments_lexer": "ipython3",
   "version": "3.12.1"
  }
 },
 "nbformat": 4,
 "nbformat_minor": 5
}
