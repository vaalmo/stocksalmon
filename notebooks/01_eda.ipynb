{
 "cells": [
  {
   "cell_type": "code",
   "execution_count": 2,
   "id": "bab2624b",
   "metadata": {},
   "outputs": [],
   "source": [
    "import pandas as pd\n",
    "import numpy as np\n",
    "from pathlib import Path\n",
    "import matplotlib.pyplot as plt\n",
    "\n",
    "DATA_DIR = Path(\"../data/raw\")\n",
    "\n",
    "PD_KW = dict(dtype_backend=\"pyarrow\") "
   ]
  },
  {
   "cell_type": "code",
   "execution_count": 3,
   "id": "b7779c96",
   "metadata": {},
   "outputs": [],
   "source": [
    "def load_csv(path: Path, usecols=None, dtypes=None, nrows=None):\n",
    "    \"\"\"\n",
    "    Carga un CSV a DataFrame de forma robusta.\n",
    "    - usecols: columnas a leer (si quieres probar con un subconjunto).\n",
    "    - dtypes: mapeo de tipos por columna si ya los conoces.\n",
    "    - nrows: para muestrear primeras N filas si necesitas una carga rápida.\n",
    "    \"\"\"\n",
    "    if not path.exists():\n",
    "        raise FileNotFoundError(f\"No existe: {path}\")\n",
    "\n",
    "    try:\n",
    "        df = pd.read_csv(\n",
    "            path,\n",
    "            usecols=usecols,\n",
    "            dtype=dtypes,\n",
    "            low_memory=False,    # evita inferencias parciales\n",
    "            on_bad_lines=\"warn\", # avisa si hay líneas corruptas\n",
    "            **PD_KW               # usa backend pyarrow si está disponible\n",
    "        )\n",
    "    except TypeError:\n",
    "        df = pd.read_csv(\n",
    "            path,\n",
    "            usecols=usecols,\n",
    "            dtype=dtypes,\n",
    "            low_memory=False,\n",
    "            on_bad_lines=\"warn\",\n",
    "        )\n",
    "    return df\n"
   ]
  },
  {
   "cell_type": "code",
   "execution_count": 4,
   "id": "1c1c80a0",
   "metadata": {},
   "outputs": [],
   "source": [
    "path_chess   = DATA_DIR / \"chessData.csv\"\n",
    "path_random  = DATA_DIR / \"random_evals.csv\"\n",
    "path_tactic  = DATA_DIR / \"tactic_evals.csv\"\n",
    "\n",
    "df_chess  = load_csv(path_chess)\n",
    "#df_random = load_csv(path_random)\n",
    "#df_tactic = load_csv(path_tactic)"
   ]
  },
  {
   "cell_type": "code",
   "execution_count": 5,
   "id": "04a51d39",
   "metadata": {},
   "outputs": [],
   "source": [
    "def overview(df: pd.DataFrame, name: str = \"DataFrame\", show_cols=20):\n",
    "    print(\"=\" * 100)\n",
    "    print(f\"📦 {name}\")\n",
    "    print(\"- Dimensiones:\", df.shape)                 \n",
    "    print(\"- Columnas:\", len(df.columns))\n",
    "    print(\"- Primeras columnas:\", list(df.columns[:show_cols]))\n",
    "    print(\"\\n🔹 Tipos de datos:\")\n",
    "    display(df.dtypes.to_frame(\"dtype\").head(show_cols))\n",
    "\n",
    "    print(\"\\n🔹 Memoria estimada por columna (Top 10):\")\n",
    "    mem = df.memory_usage(deep=True).sort_values(ascending=False).head(10)\n",
    "    display((mem / (1024**2)).round(3).rename(\"MB\").to_frame())\n",
    "\n",
    "    print(\"\\n🔹 df.info():\")\n",
    "    df.info(memory_usage=\"deep\")\n",
    "\n",
    "    print(\"\\n🔹 df.head():\")\n",
    "    display(df.head(3))\n",
    "\n",
    "    print(\"\\n🔹 Valores únicos por columna (muestra):\")\n",
    "    display(df.nunique(dropna=True).sort_values(ascending=False).head(10).to_frame(\"nunique\"))\n",
    "\n",
    "    # (complemento mínimo para Paso 4, solo conteo bruto de nulos)\n",
    "    print(\"\\n🔹 Conteo de nulos (Top 10):\")\n",
    "    display(df.isna().sum().sort_values(ascending=False).head(10).to_frame(\"nulos\"))\n"
   ]
  },
  {
   "cell_type": "code",
   "execution_count": 6,
   "id": "c413c465",
   "metadata": {},
   "outputs": [
    {
     "name": "stdout",
     "output_type": "stream",
     "text": [
      "====================================================================================================\n",
      "📦 chessData.csv\n",
      "- Dimensiones: (12958035, 2)\n",
      "- Columnas: 2\n",
      "- Primeras columnas: ['FEN', 'Evaluation']\n",
      "\n",
      "🔹 Tipos de datos:\n"
     ]
    },
    {
     "data": {
      "application/vnd.microsoft.datawrangler.viewer.v0+json": {
       "columns": [
        {
         "name": "index",
         "rawType": "object",
         "type": "string"
        },
        {
         "name": "dtype",
         "rawType": "object",
         "type": "unknown"
        }
       ],
       "ref": "818069f8-0d2c-4380-925f-7152af3682af",
       "rows": [
        [
         "FEN",
         "string[pyarrow]"
        ],
        [
         "Evaluation",
         "string[pyarrow]"
        ]
       ],
       "shape": {
        "columns": 1,
        "rows": 2
       }
      },
      "text/html": [
       "<div>\n",
       "<style scoped>\n",
       "    .dataframe tbody tr th:only-of-type {\n",
       "        vertical-align: middle;\n",
       "    }\n",
       "\n",
       "    .dataframe tbody tr th {\n",
       "        vertical-align: top;\n",
       "    }\n",
       "\n",
       "    .dataframe thead th {\n",
       "        text-align: right;\n",
       "    }\n",
       "</style>\n",
       "<table border=\"1\" class=\"dataframe\">\n",
       "  <thead>\n",
       "    <tr style=\"text-align: right;\">\n",
       "      <th></th>\n",
       "      <th>dtype</th>\n",
       "    </tr>\n",
       "  </thead>\n",
       "  <tbody>\n",
       "    <tr>\n",
       "      <th>FEN</th>\n",
       "      <td>string[pyarrow]</td>\n",
       "    </tr>\n",
       "    <tr>\n",
       "      <th>Evaluation</th>\n",
       "      <td>string[pyarrow]</td>\n",
       "    </tr>\n",
       "  </tbody>\n",
       "</table>\n",
       "</div>"
      ],
      "text/plain": [
       "                      dtype\n",
       "FEN         string[pyarrow]\n",
       "Evaluation  string[pyarrow]"
      ]
     },
     "metadata": {},
     "output_type": "display_data"
    },
    {
     "name": "stdout",
     "output_type": "stream",
     "text": [
      "\n",
      "🔹 Memoria estimada por columna (Top 10):\n"
     ]
    },
    {
     "data": {
      "application/vnd.microsoft.datawrangler.viewer.v0+json": {
       "columns": [
        {
         "name": "index",
         "rawType": "object",
         "type": "string"
        },
        {
         "name": "MB",
         "rawType": "float64",
         "type": "float"
        }
       ],
       "ref": "aa99e232-cb61-4aa7-9ce4-25a464955318",
       "rows": [
        [
         "FEN",
         "741.373"
        ],
        [
         "Evaluation",
         "90.911"
        ],
        [
         "Index",
         "0.0"
        ]
       ],
       "shape": {
        "columns": 1,
        "rows": 3
       }
      },
      "text/html": [
       "<div>\n",
       "<style scoped>\n",
       "    .dataframe tbody tr th:only-of-type {\n",
       "        vertical-align: middle;\n",
       "    }\n",
       "\n",
       "    .dataframe tbody tr th {\n",
       "        vertical-align: top;\n",
       "    }\n",
       "\n",
       "    .dataframe thead th {\n",
       "        text-align: right;\n",
       "    }\n",
       "</style>\n",
       "<table border=\"1\" class=\"dataframe\">\n",
       "  <thead>\n",
       "    <tr style=\"text-align: right;\">\n",
       "      <th></th>\n",
       "      <th>MB</th>\n",
       "    </tr>\n",
       "  </thead>\n",
       "  <tbody>\n",
       "    <tr>\n",
       "      <th>FEN</th>\n",
       "      <td>741.373</td>\n",
       "    </tr>\n",
       "    <tr>\n",
       "      <th>Evaluation</th>\n",
       "      <td>90.911</td>\n",
       "    </tr>\n",
       "    <tr>\n",
       "      <th>Index</th>\n",
       "      <td>0.000</td>\n",
       "    </tr>\n",
       "  </tbody>\n",
       "</table>\n",
       "</div>"
      ],
      "text/plain": [
       "                 MB\n",
       "FEN         741.373\n",
       "Evaluation   90.911\n",
       "Index         0.000"
      ]
     },
     "metadata": {},
     "output_type": "display_data"
    },
    {
     "name": "stdout",
     "output_type": "stream",
     "text": [
      "\n",
      "🔹 df.info():\n",
      "<class 'pandas.core.frame.DataFrame'>\n",
      "RangeIndex: 12958035 entries, 0 to 12958034\n",
      "Data columns (total 2 columns):\n",
      " #   Column      Dtype          \n",
      "---  ------      -----          \n",
      " 0   FEN         string[pyarrow]\n",
      " 1   Evaluation  string[pyarrow]\n",
      "dtypes: string[pyarrow](2)\n",
      "memory usage: 832.3 MB\n",
      "\n",
      "🔹 df.head():\n"
     ]
    },
    {
     "data": {
      "application/vnd.microsoft.datawrangler.viewer.v0+json": {
       "columns": [
        {
         "name": "index",
         "rawType": "int64",
         "type": "integer"
        },
        {
         "name": "FEN",
         "rawType": "string[pyarrow]",
         "type": "unknown"
        },
        {
         "name": "Evaluation",
         "rawType": "string[pyarrow]",
         "type": "unknown"
        }
       ],
       "ref": "6892ad24-8a6b-4eaa-88c0-e918a87561a1",
       "rows": [
        [
         "0",
         "rnbqkbnr/pppppppp/8/8/4P3/8/PPPP1PPP/RNBQKBNR b KQkq - 0 1",
         "-10"
        ],
        [
         "1",
         "rnbqkbnr/pppp1ppp/4p3/8/4P3/8/PPPP1PPP/RNBQKBNR w KQkq - 0 2",
         "+56"
        ],
        [
         "2",
         "rnbqkbnr/pppp1ppp/4p3/8/3PP3/8/PPP2PPP/RNBQKBNR b KQkq - 0 2",
         "-9"
        ]
       ],
       "shape": {
        "columns": 2,
        "rows": 3
       }
      },
      "text/html": [
       "<div>\n",
       "<style scoped>\n",
       "    .dataframe tbody tr th:only-of-type {\n",
       "        vertical-align: middle;\n",
       "    }\n",
       "\n",
       "    .dataframe tbody tr th {\n",
       "        vertical-align: top;\n",
       "    }\n",
       "\n",
       "    .dataframe thead th {\n",
       "        text-align: right;\n",
       "    }\n",
       "</style>\n",
       "<table border=\"1\" class=\"dataframe\">\n",
       "  <thead>\n",
       "    <tr style=\"text-align: right;\">\n",
       "      <th></th>\n",
       "      <th>FEN</th>\n",
       "      <th>Evaluation</th>\n",
       "    </tr>\n",
       "  </thead>\n",
       "  <tbody>\n",
       "    <tr>\n",
       "      <th>0</th>\n",
       "      <td>rnbqkbnr/pppppppp/8/8/4P3/8/PPPP1PPP/RNBQKBNR ...</td>\n",
       "      <td>-10</td>\n",
       "    </tr>\n",
       "    <tr>\n",
       "      <th>1</th>\n",
       "      <td>rnbqkbnr/pppp1ppp/4p3/8/4P3/8/PPPP1PPP/RNBQKBN...</td>\n",
       "      <td>+56</td>\n",
       "    </tr>\n",
       "    <tr>\n",
       "      <th>2</th>\n",
       "      <td>rnbqkbnr/pppp1ppp/4p3/8/3PP3/8/PPP2PPP/RNBQKBN...</td>\n",
       "      <td>-9</td>\n",
       "    </tr>\n",
       "  </tbody>\n",
       "</table>\n",
       "</div>"
      ],
      "text/plain": [
       "                                                 FEN Evaluation\n",
       "0  rnbqkbnr/pppppppp/8/8/4P3/8/PPPP1PPP/RNBQKBNR ...        -10\n",
       "1  rnbqkbnr/pppp1ppp/4p3/8/4P3/8/PPPP1PPP/RNBQKBN...        +56\n",
       "2  rnbqkbnr/pppp1ppp/4p3/8/3PP3/8/PPP2PPP/RNBQKBN...         -9"
      ]
     },
     "metadata": {},
     "output_type": "display_data"
    },
    {
     "name": "stdout",
     "output_type": "stream",
     "text": [
      "\n",
      "🔹 Valores únicos por columna (muestra):\n"
     ]
    },
    {
     "data": {
      "application/vnd.microsoft.datawrangler.viewer.v0+json": {
       "columns": [
        {
         "name": "index",
         "rawType": "object",
         "type": "string"
        },
        {
         "name": "nunique",
         "rawType": "int64",
         "type": "integer"
        }
       ],
       "ref": "dfbc906a-2c33-46cf-848f-8713e51b36a9",
       "rows": [
        [
         "FEN",
         "12954834"
        ],
        [
         "Evaluation",
         "13544"
        ]
       ],
       "shape": {
        "columns": 1,
        "rows": 2
       }
      },
      "text/html": [
       "<div>\n",
       "<style scoped>\n",
       "    .dataframe tbody tr th:only-of-type {\n",
       "        vertical-align: middle;\n",
       "    }\n",
       "\n",
       "    .dataframe tbody tr th {\n",
       "        vertical-align: top;\n",
       "    }\n",
       "\n",
       "    .dataframe thead th {\n",
       "        text-align: right;\n",
       "    }\n",
       "</style>\n",
       "<table border=\"1\" class=\"dataframe\">\n",
       "  <thead>\n",
       "    <tr style=\"text-align: right;\">\n",
       "      <th></th>\n",
       "      <th>nunique</th>\n",
       "    </tr>\n",
       "  </thead>\n",
       "  <tbody>\n",
       "    <tr>\n",
       "      <th>FEN</th>\n",
       "      <td>12954834</td>\n",
       "    </tr>\n",
       "    <tr>\n",
       "      <th>Evaluation</th>\n",
       "      <td>13544</td>\n",
       "    </tr>\n",
       "  </tbody>\n",
       "</table>\n",
       "</div>"
      ],
      "text/plain": [
       "             nunique\n",
       "FEN         12954834\n",
       "Evaluation     13544"
      ]
     },
     "metadata": {},
     "output_type": "display_data"
    },
    {
     "name": "stdout",
     "output_type": "stream",
     "text": [
      "\n",
      "🔹 Conteo de nulos (Top 10):\n"
     ]
    },
    {
     "data": {
      "application/vnd.microsoft.datawrangler.viewer.v0+json": {
       "columns": [
        {
         "name": "index",
         "rawType": "object",
         "type": "string"
        },
        {
         "name": "nulos",
         "rawType": "int64",
         "type": "integer"
        }
       ],
       "ref": "2a45a84a-4257-4586-b422-1755fc70f969",
       "rows": [
        [
         "FEN",
         "0"
        ],
        [
         "Evaluation",
         "0"
        ]
       ],
       "shape": {
        "columns": 1,
        "rows": 2
       }
      },
      "text/html": [
       "<div>\n",
       "<style scoped>\n",
       "    .dataframe tbody tr th:only-of-type {\n",
       "        vertical-align: middle;\n",
       "    }\n",
       "\n",
       "    .dataframe tbody tr th {\n",
       "        vertical-align: top;\n",
       "    }\n",
       "\n",
       "    .dataframe thead th {\n",
       "        text-align: right;\n",
       "    }\n",
       "</style>\n",
       "<table border=\"1\" class=\"dataframe\">\n",
       "  <thead>\n",
       "    <tr style=\"text-align: right;\">\n",
       "      <th></th>\n",
       "      <th>nulos</th>\n",
       "    </tr>\n",
       "  </thead>\n",
       "  <tbody>\n",
       "    <tr>\n",
       "      <th>FEN</th>\n",
       "      <td>0</td>\n",
       "    </tr>\n",
       "    <tr>\n",
       "      <th>Evaluation</th>\n",
       "      <td>0</td>\n",
       "    </tr>\n",
       "  </tbody>\n",
       "</table>\n",
       "</div>"
      ],
      "text/plain": [
       "            nulos\n",
       "FEN             0\n",
       "Evaluation      0"
      ]
     },
     "metadata": {},
     "output_type": "display_data"
    }
   ],
   "source": [
    "#overview(df_random, \"random_evals.csv\")\n",
    "#overview(df_tactic, \"tactic_evals.csv\")\n",
    "overview(df_chess,  \"chessData.csv\")"
   ]
  },
  {
   "cell_type": "markdown",
   "id": "bc2fba6b",
   "metadata": {},
   "source": [
    "# 3. Estadísticas univariadas categóricas"
   ]
  },
  {
   "cell_type": "code",
   "execution_count": 7,
   "id": "58490d3a",
   "metadata": {},
   "outputs": [],
   "source": [
    "def get_categorical_columns(df: pd.DataFrame, max_card_as_cat: int = 200):\n",
    "    \"\"\"\n",
    "    Devuelve columnas categóricas (object/string/category/bool) + numéricas discretas con poca cardinalidad.\n",
    "    - max_card_as_cat: si una numérica tiene <= ese número de únicos, la tratamos como categórica (discreta).\n",
    "    \"\"\"\n",
    "    # dtypes categóricos obvios\n",
    "    cat_like = df.select_dtypes(include=[\"object\", \"string\", \"category\", \"bool\"]).columns.tolist()\n",
    "\n",
    "    # numéricas con baja cardinalidad (ej. 0/1, 1..10, etc.)\n",
    "    numeric_low_card = []\n",
    "    for c in df.select_dtypes(include=[np.number]).columns:\n",
    "        nunq = df[c].nunique(dropna=True)\n",
    "        if nunq <= max_card_as_cat:\n",
    "            numeric_low_card.append(c)\n",
    "\n",
    "    # combinación única preservando orden\n",
    "    seen, result = set(), []\n",
    "    for c in cat_like + numeric_low_card:\n",
    "        if c not in seen:\n",
    "            seen.add(c)\n",
    "            result.append(c)\n",
    "    return result\n"
   ]
  },
  {
   "cell_type": "code",
   "execution_count": 8,
   "id": "5a75e46a",
   "metadata": {},
   "outputs": [],
   "source": [
    "def summarize_categoricals(df: pd.DataFrame, cols=None, topn_mode: int = 1):\n",
    "    \"\"\"\n",
    "    Retorna un DataFrame con:\n",
    "    - dtype\n",
    "    - n_unique y %_unique\n",
    "    - n_missing y %_missing\n",
    "    - mode (moda) y su frecuencia relativa\n",
    "    \"\"\"\n",
    "    if cols is None:\n",
    "        cols = get_categorical_columns(df)\n",
    "\n",
    "    rows = []\n",
    "    n = len(df)\n",
    "    for c in cols:\n",
    "        ser = df[c]\n",
    "        nunq = ser.nunique(dropna=True)\n",
    "        nmiss = ser.isna().sum()\n",
    "        vc = ser.value_counts(dropna=True)\n",
    "        if len(vc) > 0:\n",
    "            moda = \", \".join([f\"{idx}\" for idx in vc.index[:topn_mode]])\n",
    "            moda_freq = float((vc.iloc[0] / (n - nmiss)).round(4))\n",
    "        else:\n",
    "            moda, moda_freq = None, np.nan\n",
    "\n",
    "        rows.append({\n",
    "            \"col\": c,\n",
    "            \"dtype\": str(ser.dtype),\n",
    "            \"n_unique\": nunq,\n",
    "            \"%_unique\": round(100 * nunq / max(1, n - nmiss), 2),\n",
    "            \"n_missing\": int(nmiss),\n",
    "            \"%_missing\": round(100 * nmiss / n, 2),\n",
    "            \"mode\": moda,\n",
    "            \"mode_freq\": moda_freq,\n",
    "        })\n",
    "    out = pd.DataFrame(rows).set_index(\"col\").sort_values([\"%_missing\",\"%_unique\"], ascending=[False, False])\n",
    "    return out"
   ]
  },
  {
   "cell_type": "code",
   "execution_count": 9,
   "id": "49d30706",
   "metadata": {},
   "outputs": [],
   "source": [
    "def analyze_categorical(\n",
    "    df: pd.DataFrame, \n",
    "    col: str, \n",
    "    target: str | None = None,\n",
    "    top_k: int = 20, \n",
    "    min_freq_plot: int = 1\n",
    "):\n",
    "    \"\"\"\n",
    "    - Tabla de frecuencias absolutas y relativas\n",
    "    - Barras Top-K\n",
    "    - (Opcional) Resumen del target por categoría (count, mean, median, std)\n",
    "    \"\"\"\n",
    "    ser = df[col]\n",
    "    n = len(ser)\n",
    "    vc = ser.value_counts(dropna=False)\n",
    "    vc_nonan = ser.value_counts(dropna=True)\n",
    "\n",
    "    # Tabla de frecuencias\n",
    "    freq_tbl = pd.DataFrame({\n",
    "        \"count\": vc_nonan,\n",
    "        \"pct\": (vc_nonan / vc_nonan.sum() * 100).round(2)\n",
    "    })\n",
    "    display(freq_tbl.head(top_k))\n",
    "\n",
    "    # Barras (Top-K) – evita ruido de la larga cola\n",
    "    vc_plot = vc_nonan[vc_nonan >= min_freq_plot].head(top_k)\n",
    "    plt.figure(figsize=(9, 4))\n",
    "    vc_plot.sort_values(ascending=True).plot(kind=\"barh\")\n",
    "    plt.title(f\"{col} – Top {len(vc_plot)} categorías\")\n",
    "    plt.xlabel(\"frecuencia\")\n",
    "    plt.tight_layout()\n",
    "    plt.show()\n",
    "\n",
    "    # (Opcional) Relación con target numérico\n",
    "    if target is not None and target in df.columns and np.issubdtype(df[target].dtype, np.number):\n",
    "        # Tomar solo las Top-K categorías para que sea legible\n",
    "        topcats = vc_nonan.index[:top_k]\n",
    "        tmp = df[df[col].isin(topcats)][[col, target]].dropna()\n",
    "        grp = tmp.groupby(col)[target].agg([\"count\",\"mean\",\"median\",\"std\"]).sort_values(\"count\", ascending=False)\n",
    "        display(grp)\n",
    "\n",
    "        # Boxplot del target por categoría (Top-K)\n",
    "        if len(topcats) >= 2:\n",
    "            plt.figure(figsize=(10, 4))\n",
    "            tmp = tmp.copy()\n",
    "            tmp[col] = tmp[col].astype(\"category\")\n",
    "            tmp[col] = tmp[col].cat.reorder_categories(list(topcats), ordered=True)\n",
    "            tmp.boxplot(column=target, by=col, rot=45)\n",
    "            plt.suptitle(\"\")\n",
    "            plt.title(f\"{target} por {col} (Top {len(topcats)})\")\n",
    "            plt.tight_layout()\n",
    "            plt.show()\n"
   ]
  },
  {
   "cell_type": "code",
   "execution_count": 10,
   "id": "eb29229e",
   "metadata": {},
   "outputs": [
    {
     "data": {
      "application/vnd.microsoft.datawrangler.viewer.v0+json": {
       "columns": [
        {
         "name": "col",
         "rawType": "object",
         "type": "string"
        },
        {
         "name": "dtype",
         "rawType": "object",
         "type": "string"
        },
        {
         "name": "n_unique",
         "rawType": "int64",
         "type": "integer"
        },
        {
         "name": "%_unique",
         "rawType": "float64",
         "type": "float"
        },
        {
         "name": "n_missing",
         "rawType": "int64",
         "type": "integer"
        },
        {
         "name": "%_missing",
         "rawType": "float64",
         "type": "float"
        },
        {
         "name": "mode",
         "rawType": "object",
         "type": "string"
        },
        {
         "name": "mode_freq",
         "rawType": "float64",
         "type": "float"
        }
       ],
       "ref": "9ce7b653-7af0-45fd-b1cc-e2c4326169ae",
       "rows": [
        [
         "FEN",
         "string[pyarrow]",
         "12954834",
         "99.98",
         "0",
         "0.0",
         "r2qkbnr/pp3ppp/2bpp3/8/3QP3/2N2N2/PPP2PPP/R1B2RK1 b kq - 1 8",
         "0.0"
        ],
        [
         "Evaluation",
         "string[pyarrow]",
         "13544",
         "0.1",
         "0",
         "0.0",
         "0",
         "0.0973"
        ]
       ],
       "shape": {
        "columns": 7,
        "rows": 2
       }
      },
      "text/html": [
       "<div>\n",
       "<style scoped>\n",
       "    .dataframe tbody tr th:only-of-type {\n",
       "        vertical-align: middle;\n",
       "    }\n",
       "\n",
       "    .dataframe tbody tr th {\n",
       "        vertical-align: top;\n",
       "    }\n",
       "\n",
       "    .dataframe thead th {\n",
       "        text-align: right;\n",
       "    }\n",
       "</style>\n",
       "<table border=\"1\" class=\"dataframe\">\n",
       "  <thead>\n",
       "    <tr style=\"text-align: right;\">\n",
       "      <th></th>\n",
       "      <th>dtype</th>\n",
       "      <th>n_unique</th>\n",
       "      <th>%_unique</th>\n",
       "      <th>n_missing</th>\n",
       "      <th>%_missing</th>\n",
       "      <th>mode</th>\n",
       "      <th>mode_freq</th>\n",
       "    </tr>\n",
       "    <tr>\n",
       "      <th>col</th>\n",
       "      <th></th>\n",
       "      <th></th>\n",
       "      <th></th>\n",
       "      <th></th>\n",
       "      <th></th>\n",
       "      <th></th>\n",
       "      <th></th>\n",
       "    </tr>\n",
       "  </thead>\n",
       "  <tbody>\n",
       "    <tr>\n",
       "      <th>FEN</th>\n",
       "      <td>string[pyarrow]</td>\n",
       "      <td>12954834</td>\n",
       "      <td>99.98</td>\n",
       "      <td>0</td>\n",
       "      <td>0.0</td>\n",
       "      <td>r2qkbnr/pp3ppp/2bpp3/8/3QP3/2N2N2/PPP2PPP/R1B2...</td>\n",
       "      <td>0.0000</td>\n",
       "    </tr>\n",
       "    <tr>\n",
       "      <th>Evaluation</th>\n",
       "      <td>string[pyarrow]</td>\n",
       "      <td>13544</td>\n",
       "      <td>0.10</td>\n",
       "      <td>0</td>\n",
       "      <td>0.0</td>\n",
       "      <td>0</td>\n",
       "      <td>0.0973</td>\n",
       "    </tr>\n",
       "  </tbody>\n",
       "</table>\n",
       "</div>"
      ],
      "text/plain": [
       "                      dtype  n_unique  %_unique  n_missing  %_missing  \\\n",
       "col                                                                     \n",
       "FEN         string[pyarrow]  12954834     99.98          0        0.0   \n",
       "Evaluation  string[pyarrow]     13544      0.10          0        0.0   \n",
       "\n",
       "                                                         mode  mode_freq  \n",
       "col                                                                       \n",
       "FEN         r2qkbnr/pp3ppp/2bpp3/8/3QP3/2N2N2/PPP2PPP/R1B2...     0.0000  \n",
       "Evaluation                                                  0     0.0973  "
      ]
     },
     "metadata": {},
     "output_type": "display_data"
    },
    {
     "name": "stdout",
     "output_type": "stream",
     "text": [
      "====================================================================================================\n",
      "🔹 Evaluation\n"
     ]
    },
    {
     "data": {
      "application/vnd.microsoft.datawrangler.viewer.v0+json": {
       "columns": [
        {
         "name": "Evaluation",
         "rawType": "string[pyarrow]",
         "type": "unknown"
        },
        {
         "name": "count",
         "rawType": "int64[pyarrow]",
         "type": "unknown"
        },
        {
         "name": "pct",
         "rawType": "double[pyarrow]",
         "type": "unknown"
        }
       ],
       "ref": "a11577de-e732-46c5-a21b-5af88abea9ce",
       "rows": [
        [
         "0",
         "1261356",
         "9.73"
        ],
        [
         "+13",
         "157897",
         "1.22"
        ],
        [
         "-13",
         "148689",
         "1.15"
        ],
        [
         "+46",
         "41674",
         "0.32"
        ],
        [
         "+53",
         "41404",
         "0.32"
        ],
        [
         "+61",
         "40257",
         "0.31"
        ],
        [
         "+38",
         "39831",
         "0.31"
        ],
        [
         "+69",
         "39133",
         "0.3"
        ],
        [
         "+30",
         "38798",
         "0.3"
        ],
        [
         "+76",
         "38247",
         "0.3"
        ],
        [
         "+23",
         "37220",
         "0.29"
        ],
        [
         "+84",
         "36049",
         "0.28"
        ],
        [
         "+92",
         "34788",
         "0.27"
        ],
        [
         "+100",
         "32544",
         "0.25"
        ],
        [
         "+15",
         "32454",
         "0.25"
        ],
        [
         "-30",
         "31123",
         "0.24"
        ],
        [
         "-23",
         "30687",
         "0.24"
        ],
        [
         "-38",
         "30180",
         "0.23"
        ],
        [
         "+107",
         "29898",
         "0.23"
        ],
        [
         "-46",
         "29649",
         "0.23"
        ]
       ],
       "shape": {
        "columns": 2,
        "rows": 20
       }
      },
      "text/html": [
       "<div>\n",
       "<style scoped>\n",
       "    .dataframe tbody tr th:only-of-type {\n",
       "        vertical-align: middle;\n",
       "    }\n",
       "\n",
       "    .dataframe tbody tr th {\n",
       "        vertical-align: top;\n",
       "    }\n",
       "\n",
       "    .dataframe thead th {\n",
       "        text-align: right;\n",
       "    }\n",
       "</style>\n",
       "<table border=\"1\" class=\"dataframe\">\n",
       "  <thead>\n",
       "    <tr style=\"text-align: right;\">\n",
       "      <th></th>\n",
       "      <th>count</th>\n",
       "      <th>pct</th>\n",
       "    </tr>\n",
       "    <tr>\n",
       "      <th>Evaluation</th>\n",
       "      <th></th>\n",
       "      <th></th>\n",
       "    </tr>\n",
       "  </thead>\n",
       "  <tbody>\n",
       "    <tr>\n",
       "      <th>0</th>\n",
       "      <td>1261356</td>\n",
       "      <td>9.73</td>\n",
       "    </tr>\n",
       "    <tr>\n",
       "      <th>+13</th>\n",
       "      <td>157897</td>\n",
       "      <td>1.22</td>\n",
       "    </tr>\n",
       "    <tr>\n",
       "      <th>-13</th>\n",
       "      <td>148689</td>\n",
       "      <td>1.15</td>\n",
       "    </tr>\n",
       "    <tr>\n",
       "      <th>+46</th>\n",
       "      <td>41674</td>\n",
       "      <td>0.32</td>\n",
       "    </tr>\n",
       "    <tr>\n",
       "      <th>+53</th>\n",
       "      <td>41404</td>\n",
       "      <td>0.32</td>\n",
       "    </tr>\n",
       "    <tr>\n",
       "      <th>+61</th>\n",
       "      <td>40257</td>\n",
       "      <td>0.31</td>\n",
       "    </tr>\n",
       "    <tr>\n",
       "      <th>+38</th>\n",
       "      <td>39831</td>\n",
       "      <td>0.31</td>\n",
       "    </tr>\n",
       "    <tr>\n",
       "      <th>+69</th>\n",
       "      <td>39133</td>\n",
       "      <td>0.3</td>\n",
       "    </tr>\n",
       "    <tr>\n",
       "      <th>+30</th>\n",
       "      <td>38798</td>\n",
       "      <td>0.3</td>\n",
       "    </tr>\n",
       "    <tr>\n",
       "      <th>+76</th>\n",
       "      <td>38247</td>\n",
       "      <td>0.3</td>\n",
       "    </tr>\n",
       "    <tr>\n",
       "      <th>+23</th>\n",
       "      <td>37220</td>\n",
       "      <td>0.29</td>\n",
       "    </tr>\n",
       "    <tr>\n",
       "      <th>+84</th>\n",
       "      <td>36049</td>\n",
       "      <td>0.28</td>\n",
       "    </tr>\n",
       "    <tr>\n",
       "      <th>+92</th>\n",
       "      <td>34788</td>\n",
       "      <td>0.27</td>\n",
       "    </tr>\n",
       "    <tr>\n",
       "      <th>+100</th>\n",
       "      <td>32544</td>\n",
       "      <td>0.25</td>\n",
       "    </tr>\n",
       "    <tr>\n",
       "      <th>+15</th>\n",
       "      <td>32454</td>\n",
       "      <td>0.25</td>\n",
       "    </tr>\n",
       "    <tr>\n",
       "      <th>-30</th>\n",
       "      <td>31123</td>\n",
       "      <td>0.24</td>\n",
       "    </tr>\n",
       "    <tr>\n",
       "      <th>-23</th>\n",
       "      <td>30687</td>\n",
       "      <td>0.24</td>\n",
       "    </tr>\n",
       "    <tr>\n",
       "      <th>-38</th>\n",
       "      <td>30180</td>\n",
       "      <td>0.23</td>\n",
       "    </tr>\n",
       "    <tr>\n",
       "      <th>+107</th>\n",
       "      <td>29898</td>\n",
       "      <td>0.23</td>\n",
       "    </tr>\n",
       "    <tr>\n",
       "      <th>-46</th>\n",
       "      <td>29649</td>\n",
       "      <td>0.23</td>\n",
       "    </tr>\n",
       "  </tbody>\n",
       "</table>\n",
       "</div>"
      ],
      "text/plain": [
       "              count   pct\n",
       "Evaluation               \n",
       "0           1261356  9.73\n",
       "+13          157897  1.22\n",
       "-13          148689  1.15\n",
       "+46           41674  0.32\n",
       "+53           41404  0.32\n",
       "+61           40257  0.31\n",
       "+38           39831  0.31\n",
       "+69           39133   0.3\n",
       "+30           38798   0.3\n",
       "+76           38247   0.3\n",
       "+23           37220  0.29\n",
       "+84           36049  0.28\n",
       "+92           34788  0.27\n",
       "+100          32544  0.25\n",
       "+15           32454  0.25\n",
       "-30           31123  0.24\n",
       "-23           30687  0.24\n",
       "-38           30180  0.23\n",
       "+107          29898  0.23\n",
       "-46           29649  0.23"
      ]
     },
     "metadata": {},
     "output_type": "display_data"
    },
    {
     "data": {
      "image/png": "[encoded data removed]",
      "text/plain": [
       "<Figure size 900x400 with 1 Axes>"
      ]
     },
     "metadata": {},
     "output_type": "display_data"
    }
   ],
   "source": [
    "# Detectar categóricas (y filtrar altísima cardinalidad, p.ej. FEN)\n",
    "cat_cols = get_categorical_columns(df_chess, max_card_as_cat=100)  # ajusta si lo requieres\n",
    "summary = summarize_categoricals(df_chess, cols=cat_cols)\n",
    "display(summary.head(30))\n",
    "\n",
    "# Heurística para excluir columnas \"ID-like\" (casi todos únicos) o cardinalidad muy alta\n",
    "mask_keep = (summary[\"%_unique\"] <= 50)  # quedarnos con columnas con <=50% de únicos\n",
    "cols_to_plot = summary[mask_keep].index.tolist()\n",
    "\n",
    "# (Si tienes un target numérico, pásalo acá; si no, deja None)\n",
    "TARGET_COL = None  # por ejemplo \"eval\" o \"score\" cuando lo definas\n",
    "\n",
    "for c in cols_to_plot:\n",
    "    print(\"=\"*100)\n",
    "    print(f\"🔹 {c}\")\n",
    "    analyze_categorical(df_chess, c, target=TARGET_COL, top_k=20, min_freq_plot=2)\n"
   ]
  }
 ],
 "metadata": {
  "kernelspec": {
   "display_name": "venv",
   "language": "python",
   "name": "python3"
  },
  "language_info": {
   "codemirror_mode": {
    "name": "ipython",
    "version": 3
   },
   "file_extension": ".py",
   "mimetype": "text/x-python",
   "name": "python",
   "nbconvert_exporter": "python",
   "pygments_lexer": "ipython3",
   "version": "3.13.7"
  }
 },
 "nbformat": 4,
 "nbformat_minor": 5
}
