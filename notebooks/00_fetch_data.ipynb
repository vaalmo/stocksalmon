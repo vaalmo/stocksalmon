{
 "cells": [
  {
   "cell_type": "code",
   "execution_count": null,
   "id": "f8b0c07a",
   "metadata": {},
   "outputs": [],
   "source": [
    "# Parameters\n",
    "RAW_DIR = \"../data/raw\"\n",
    "DRIVE_FILE_ID = \"1ApZqHWxtuhxrNqdL-odfDxxIceoCiA2z\"  # tu ID de Drive\n",
    "ZIP_NAME = \"archive.zip\"\n",
    "\n",
    "REQUIRED_FILES = [\n",
    "    \"chessData.csv\",\n",
    "    \"random_evals.csv\",\n",
    "    \"tactic_evals.csv\",\n",
    "]"
   ]
  },
  {
   "cell_type": "code",
   "execution_count": 2,
   "id": "7a4981b0",
   "metadata": {},
   "outputs": [
    {
     "name": "stdout",
     "output_type": "stream",
     "text": [
      "Note: you may need to restart the kernel to use updated packages.\n"
     ]
    },
    {
     "name": "stderr",
     "output_type": "stream",
     "text": [
      "  WARNING: The script tqdm.exe is installed in 'c:\\Users\\samir\\AppData\\Local\\Programs\\Python\\Python312\\Scripts' which is not on PATH.\n",
      "  Consider adding this directory to PATH or, if you prefer to suppress this warning, use --no-warn-script-location.\n",
      "  WARNING: The script normalizer.exe is installed in 'c:\\Users\\samir\\AppData\\Local\\Programs\\Python\\Python312\\Scripts' which is not on PATH.\n",
      "  Consider adding this directory to PATH or, if you prefer to suppress this warning, use --no-warn-script-location.\n",
      "  WARNING: The script gdown.exe is installed in 'c:\\Users\\samir\\AppData\\Local\\Programs\\Python\\Python312\\Scripts' which is not on PATH.\n",
      "  Consider adding this directory to PATH or, if you prefer to suppress this warning, use --no-warn-script-location.\n",
      "\n",
      "[notice] A new release of pip is available: 23.2.1 -> 25.2\n",
      "[notice] To update, run: python.exe -m pip install --upgrade pip\n"
     ]
    }
   ],
   "source": [
    "%pip install -q gdown"
   ]
  },
  {
   "cell_type": "code",
   "execution_count": 5,
   "id": "9956eb72",
   "metadata": {},
   "outputs": [
    {
     "name": "stdout",
     "output_type": "stream",
     "text": [
      "✅ Archivos ya presentes en data/raw. Nada que hacer.\n"
     ]
    }
   ],
   "source": [
    "from pathlib import Path\n",
    "import zipfile\n",
    "import sys\n",
    "import gdown\n",
    "\n",
    "raw_dir = Path(RAW_DIR)\n",
    "raw_dir.mkdir(parents=True, exist_ok=True)\n",
    "\n",
    "required_paths = [raw_dir / f for f in REQUIRED_FILES]\n",
    "zip_path = raw_dir / ZIP_NAME\n",
    "\n",
    "def all_exist(paths):\n",
    "    return all(p.is_file() for p in paths)\n",
    "\n",
    "if all_exist(required_paths):\n",
    "    print(\"✅ Archivos ya presentes en data/raw. Nada que hacer.\")\n",
    "else:\n",
    "    # Descarga el ZIP si no está\n",
    "    if not zip_path.exists():\n",
    "        url = f\"https://drive.google.com/uc?id={DRIVE_FILE_ID}\"\n",
    "        print(f\"⬇️ Descargando {ZIP_NAME} desde Drive a {zip_path} ...\")\n",
    "        gdown.download(url, str(zip_path), quiet=False)\n",
    "\n",
    "    if not zip_path.exists():\n",
    "        raise RuntimeError(\"No se pudo descargar el ZIP desde Drive.\")\n",
    "\n",
    "    # Descomprimir\n",
    "    print(f\"📦 Descomprimiendo {zip_path} en {raw_dir} ...\")\n",
    "    with zipfile.ZipFile(zip_path, \"r\") as zf:\n",
    "        zf.extractall(raw_dir)\n",
    "\n",
    "    # Verificación final\n",
    "    missing = [p.name for p in required_paths if not p.exists()]\n",
    "    if missing:\n",
    "        print(\"⚠️ Faltan archivos tras descomprimir:\", missing, file=sys.stderr)\n",
    "        raise FileNotFoundError(f\"Faltan: {missing}\")\n",
    "    else:\n",
    "        print(\"✅ Archivos listos en data/raw.\")\n"
   ]
  }
 ],
 "metadata": {
  "kernelspec": {
   "display_name": "Python 3",
   "language": "python",
   "name": "python3"
  },
  "language_info": {
   "codemirror_mode": {
    "name": "ipython",
    "version": 3
   },
   "file_extension": ".py",
   "mimetype": "text/x-python",
   "name": "python",
   "nbconvert_exporter": "python",
   "pygments_lexer": "ipython3",
   "version": "3.12.1"
  }
 },
 "nbformat": 4,
 "nbformat_minor": 5
}
