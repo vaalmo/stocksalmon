{
 "cells": [
  {
   "cell_type": "code",
   "execution_count": 1,
   "id": "f8b0c07a",
   "metadata": {},
   "outputs": [],
   "source": [
    "# Parameters\n",
    "RAW_DIR = \"../data/raw\"\n",
    "DRIVE_FILE_ID = \"1ApZqHWxtuhxrNqdL-odfDxxIceoCiA2z\"  # tu ID de Drive\n",
    "ZIP_NAME = \"archive.zip\"\n",
    "\n",
    "REQUIRED_FILES = [\n",
    "    \"chessData.csv\",\n",
    "    \"random_evals.csv\",\n",
    "    \"tactic_evals.csv\",\n",
    "]"
   ]
  },
  {
   "cell_type": "code",
   "execution_count": 13,
   "id": "352b405d",
   "metadata": {},
   "outputs": [
    {
     "name": "stdout",
     "output_type": "stream",
     "text": [
      "Collecting gdown\n",
      "  Using cached gdown-5.2.0-py3-none-any.whl.metadata (5.8 kB)\n",
      "Requirement already satisfied: beautifulsoup4 in c:\\users\\asus\\appdata\\local\\programs\\python\\python313\\lib\\site-packages (from gdown) (4.13.5)\n",
      "Collecting filelock (from gdown)\n",
      "  Using cached filelock-3.19.1-py3-none-any.whl.metadata (2.1 kB)\n",
      "Requirement already satisfied: requests[socks] in c:\\users\\asus\\appdata\\local\\programs\\python\\python313\\lib\\site-packages (from gdown) (2.32.5)\n",
      "Requirement already satisfied: tqdm in c:\\users\\asus\\appdata\\local\\programs\\python\\python313\\lib\\site-packages (from gdown) (4.67.1)\n",
      "Requirement already satisfied: soupsieve>1.2 in c:\\users\\asus\\appdata\\local\\programs\\python\\python313\\lib\\site-packages (from beautifulsoup4->gdown) (2.8)\n",
      "Requirement already satisfied: typing-extensions>=4.0.0 in c:\\users\\asus\\appdata\\local\\programs\\python\\python313\\lib\\site-packages (from beautifulsoup4->gdown) (4.15.0)\n",
      "Requirement already satisfied: charset_normalizer<4,>=2 in c:\\users\\asus\\appdata\\local\\programs\\python\\python313\\lib\\site-packages (from requests[socks]->gdown) (3.4.3)\n",
      "Requirement already satisfied: idna<4,>=2.5 in c:\\users\\asus\\appdata\\local\\programs\\python\\python313\\lib\\site-packages (from requests[socks]->gdown) (3.10)\n",
      "Requirement already satisfied: urllib3<3,>=1.21.1 in c:\\users\\asus\\appdata\\local\\programs\\python\\python313\\lib\\site-packages (from requests[socks]->gdown) (2.5.0)\n",
      "Requirement already satisfied: certifi>=2017.4.17 in c:\\users\\asus\\appdata\\local\\programs\\python\\python313\\lib\\site-packages (from requests[socks]->gdown) (2025.8.3)\n",
      "Collecting PySocks!=1.5.7,>=1.5.6 (from requests[socks]->gdown)\n",
      "  Using cached PySocks-1.7.1-py3-none-any.whl.metadata (13 kB)\n",
      "Requirement already satisfied: colorama in c:\\users\\asus\\appdata\\local\\programs\\python\\python313\\lib\\site-packages (from tqdm->gdown) (0.4.6)\n",
      "Using cached gdown-5.2.0-py3-none-any.whl (18 kB)\n",
      "Using cached filelock-3.19.1-py3-none-any.whl (15 kB)\n",
      "Using cached PySocks-1.7.1-py3-none-any.whl (16 kB)\n",
      "Installing collected packages: PySocks, filelock, gdown\n",
      "\n",
      "   ---------------------------------------- 3/3 [gdown]\n",
      "\n",
      "Successfully installed PySocks-1.7.1 filelock-3.19.1 gdown-5.2.0\n",
      "Note: you may need to restart the kernel to use updated packages.\n"
     ]
    }
   ],
   "source": [
    "%pip install gdown"
   ]
  },
  {
   "cell_type": "code",
   "execution_count": 14,
   "id": "9956eb72",
   "metadata": {},
   "outputs": [
    {
     "name": "stdout",
     "output_type": "stream",
     "text": [
      "⬇️ Descargando archive.zip desde Drive a ..\\data\\raw\\archive.zip ...\n"
     ]
    },
    {
     "name": "stderr",
     "output_type": "stream",
     "text": [
      "Downloading...\n",
      "From (original): https://drive.google.com/uc?id=1ApZqHWxtuhxrNqdL-odfDxxIceoCiA2z\n",
      "From (redirected): https://drive.google.com/uc?id=1ApZqHWxtuhxrNqdL-odfDxxIceoCiA2z&confirm=t&uuid=ebffd124-c3b6-4dbd-b123-b9b9f8f97d08\n",
      "To: c:\\Users\\ASUS\\Desktop\\stocksalmon\\data\\raw\\archive.zip\n",
      "100%|██████████| 209M/209M [03:05<00:00, 1.13MB/s] \n"
     ]
    },
    {
     "name": "stdout",
     "output_type": "stream",
     "text": [
      "📦 Descomprimiendo ..\\data\\raw\\archive.zip en ..\\data\\raw ...\n",
      "✅ Archivos listos en data/raw.\n"
     ]
    }
   ],
   "source": [
    "from pathlib import Path\n",
    "import zipfile\n",
    "import sys\n",
    "import gdown\n",
    "\n",
    "raw_dir = Path(RAW_DIR)\n",
    "raw_dir.mkdir(parents=True, exist_ok=True)\n",
    "\n",
    "required_paths = [raw_dir / f for f in REQUIRED_FILES]\n",
    "zip_path = raw_dir / ZIP_NAME\n",
    "\n",
    "def all_exist(paths):\n",
    "    return all(p.is_file() for p in paths)\n",
    "\n",
    "if all_exist(required_paths):\n",
    "    print(\"✅ Archivos ya presentes en data/raw. Nada que hacer.\")\n",
    "else:\n",
    "    # Descarga el ZIP si no está\n",
    "    if not zip_path.exists():\n",
    "        url = f\"https://drive.google.com/uc?id={DRIVE_FILE_ID}\"\n",
    "        print(f\"⬇️ Descargando {ZIP_NAME} desde Drive a {zip_path} ...\")\n",
    "        gdown.download(url, str(zip_path), quiet=False)\n",
    "\n",
    "    if not zip_path.exists():\n",
    "        raise RuntimeError(\"No se pudo descargar el ZIP desde Drive.\")\n",
    "\n",
    "    # Descomprimir\n",
    "    print(f\"📦 Descomprimiendo {zip_path} en {raw_dir} ...\")\n",
    "    with zipfile.ZipFile(zip_path, \"r\") as zf:\n",
    "        zf.extractall(raw_dir)\n",
    "\n",
    "    # Verificación final\n",
    "    missing = [p.name for p in required_paths if not p.exists()]\n",
    "    if missing:\n",
    "        print(\"⚠️ Faltan archivos tras descomprimir:\", missing, file=sys.stderr)\n",
    "        raise FileNotFoundError(f\"Faltan: {missing}\")\n",
    "    else:\n",
    "        print(\"✅ Archivos listos en data/raw.\")\n"
   ]
  }
 ],
 "metadata": {
  "kernelspec": {
   "display_name": "Python 3",
   "language": "python",
   "name": "python3"
  },
  "language_info": {
   "codemirror_mode": {
    "name": "ipython",
    "version": 3
   },
   "file_extension": ".py",
   "mimetype": "text/x-python",
   "name": "python",
   "nbconvert_exporter": "python",
   "pygments_lexer": "ipython3",
   "version": "3.13.7"
  }
 },
 "nbformat": 4,
 "nbformat_minor": 5
}
