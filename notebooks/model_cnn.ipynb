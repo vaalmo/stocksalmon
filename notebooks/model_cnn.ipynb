{
 "cells": [
  {
   "cell_type": "code",
   "execution_count": 81,
   "id": "232edd5d",
   "metadata": {},
   "outputs": [],
   "source": [
    "import numpy as np # linear algebra\n",
    "import pandas as pd # data processing, CSV file I/O (e.g. pd.read_csv)\n",
    "from sklearn.model_selection import train_test_split\n",
    "from matplotlib import pyplot as plt\n",
    "from keras.optimizers import Adam\n",
    "from keras.models import Sequential\n",
    "from keras.layers import *\n",
    "from keras.callbacks import EarlyStopping, ReduceLROnPlateau, ModelCheckpoint\n",
    "import optuna\n",
    "from pathlib import Path\n",
    "import os\n",
    "\n",
    "DATA_DIR = Path('../data/processed')"
   ]
  },
  {
   "cell_type": "markdown",
   "id": "63db717f",
   "metadata": {},
   "source": [
    "Funciones adicionales:\n",
    "Estimar RAM"
   ]
  },
  {
   "cell_type": "code",
   "execution_count": 82,
   "id": "91935a18",
   "metadata": {},
   "outputs": [],
   "source": [
    "CONFIGS = {\n",
    "    \"limited\": {\n",
    "        \"function_5_sample\": 500,\n",
    "        \"max_train\": 10_000,\n",
    "        \"max_val\": 2_000,\n",
    "        \"max_test\": 1_000,\n",
    "        \"batch_size\": 16\n",
    "    },\n",
    "    \"basic\": {\n",
    "        \"function_5_sample\": 2_000,\n",
    "        \"max_train\": 25_000,\n",
    "        \"max_val\": 5_000,\n",
    "        \"max_test\": 2_500,\n",
    "        \"batch_size\": 32\n",
    "    },\n",
    "    \"moderate\": {\n",
    "        \"function_5_sample\": 5_000,\n",
    "        \"max_train\": 75_000,\n",
    "        \"max_val\": 15_000,\n",
    "        \"max_test\": 7_500,\n",
    "        \"batch_size\": 64\n",
    "    },\n",
    "    \"high\": {\n",
    "        \"function_5_sample\": 10_000,\n",
    "        \"max_train\": 300_000,\n",
    "        \"max_val\": 60_000,\n",
    "        \"max_test\": 30_000,\n",
    "        \"batch_size\": 128,\n",
    "        \"use_augmentation\": True\n",
    "    },\n",
    "    \"server\": {\n",
    "        \"function_5_sample\": 25_000,\n",
    "        \"max_train\": 800_000,\n",
    "        \"max_val\": 150_000,\n",
    "        \"max_test\": 75_000,\n",
    "        \"batch_size\": 256\n",
    "    },\n",
    "    # 🚀 NUEVA CONFIGURACIÓN PARA DATOS GRANDES\n",
    "    \"large_dataset\": {\n",
    "        \"function_5_sample\": 15_000,\n",
    "        \"max_train\": 1_000_000,  # 1 millón de muestras\n",
    "        \"max_val\": 200_000,      # 200K validación\n",
    "        \"max_test\": 100_000,     # 100K test\n",
    "        \"batch_size\": 128,\n",
    "        \"use_augmentation\": True\n",
    "    }\n",
    "}"
   ]
  },
  {
   "cell_type": "code",
   "execution_count": null,
   "id": "71869004",
   "metadata": {},
   "outputs": [
    {
     "name": "stdout",
     "output_type": "stream",
     "text": [
      "🎯 Usando configuración: HIGH\n",
      "  function_5_sample: 10,000\n",
      "  max_train: 300,000\n",
      "  max_val: 60,000\n",
      "  max_test: 30,000\n",
      "  batch_size: 128\n",
      "  use_augmentation: 1\n"
     ]
    }
   ],
   "source": [
    "CONFIG_NAME = \"server\"  # Cambia esto por: \"limited\", \"basic\", \"moderate\", \"high\", \"server\", o \"large_dataset\"\n",
    "config = CONFIGS[CONFIG_NAME]\n",
    "\n",
    "print(f\"🎯 Usando configuración: {CONFIG_NAME.upper()}\")\n",
    "for key, value in config.items():\n",
    "    if isinstance(value, int):\n",
    "        print(f\"  {key}: {value:,}\")\n",
    "    else:\n",
    "        print(f\"  {key}: {value}\")\n",
    "\n",
    "# Asignar valores para usar en el resto del código\n",
    "optimal_sizes = config"
   ]
  },
  {
   "cell_type": "code",
   "execution_count": 84,
   "id": "2dc4e4f3",
   "metadata": {},
   "outputs": [
    {
     "name": "stdout",
     "output_type": "stream",
     "text": [
      "Datos de entrenamiento: 11,610,568 posiciones\n",
      "Datos de validación: 3,317,307 posiciones\n",
      "Datos de prueba: 1,658,652 posiciones\n"
     ]
    }
   ],
   "source": [
    "chess_train_df = pd.read_parquet(DATA_DIR / 'training_data.parquet')\n",
    "chess_validation_df = pd.read_parquet(DATA_DIR / 'validation_data.parquet')\n",
    "chess_test_df = pd.read_parquet(DATA_DIR / 'testing_data.parquet')\n",
    "\n",
    "print(f\"Datos de entrenamiento: {len(chess_train_df):,} posiciones\")\n",
    "print(f\"Datos de validación: {len(chess_validation_df):,} posiciones\")\n",
    "print(f\"Datos de prueba: {len(chess_test_df):,} posiciones\")"
   ]
  },
  {
   "cell_type": "code",
   "execution_count": 85,
   "id": "1a0ef9b0",
   "metadata": {},
   "outputs": [
    {
     "name": "stdout",
     "output_type": "stream",
     "text": [
      "Mapeo de piezas: {'P': 0, 'N': 1, 'B': 2, 'R': 3, 'Q': 4, 'K': 5}\n"
     ]
    }
   ],
   "source": [
    "def create_piece_mapping():\n",
    "    \"\"\"\n",
    "    Crea un mapeo de piezas de ajedrez a índices numéricos.\n",
    "    \n",
    "    Returns:\n",
    "        dict: Mapeo de símbolo de pieza -> índice (0-5)\n",
    "              P=0, N=1, B=2, R=3, Q=4, K=5\n",
    "    \"\"\"\n",
    "    piece_symbols = [\"P\", \"N\", \"B\", \"R\", \"Q\", \"K\"]  # Peón, Caballo, Alfil, Torre, Dama, Rey\n",
    "    piece_to_index = {piece: idx for idx, piece in enumerate(piece_symbols)}\n",
    "    return piece_to_index\n",
    "\n",
    "piece_mapping = create_piece_mapping()\n",
    "print(\"Mapeo de piezas:\", piece_mapping)"
   ]
  },
  {
   "cell_type": "code",
   "execution_count": 86,
   "id": "475ed86c",
   "metadata": {},
   "outputs": [
    {
     "name": "stdout",
     "output_type": "stream",
     "text": [
      "Fila parseada tiene 8 casillas\n",
      "Primera casilla (torre negra): [0, 0, 0, 0, 0, 0, 0, 0, 0, 1, 0, 0]\n"
     ]
    }
   ],
   "source": [
    "# === FUNCIÓN 2: Parser de fila del tablero ===\n",
    "def parse_board_row(row_string, piece_mapping):\n",
    "    \"\"\"\n",
    "    Convierte una fila FEN en representación one-hot de 8x12.\n",
    "    \n",
    "    Args:\n",
    "        row_string (str): Fila del FEN (ej: \"rnbqkbnr\" o \"pppppppp\" o \"8\")\n",
    "        piece_mapping (dict): Mapeo pieza -> índice\n",
    "        \n",
    "    Returns:\n",
    "        list: Lista de 8 casillas, cada una con vector de 12 elementos\n",
    "              [6 piezas blancas + 6 piezas negras] en one-hot\n",
    "              \n",
    "    Explicación del encoding:\n",
    "    - Cada casilla = vector de 12 elementos [P,N,B,R,Q,K,p,n,b,r,q,k]\n",
    "    - Mayúscula = pieza blanca (índices 0-5)\n",
    "    - Minúscula = pieza negra (índices 6-11)\n",
    "    - Número = casillas vacías consecutivas\n",
    "    \"\"\"\n",
    "    row_squares = []\n",
    "    \n",
    "    for char in row_string:\n",
    "        # Vector de 12 ceros para cada casilla (6 blancas + 6 negras)\n",
    "        square_vector = [0] * (len(piece_mapping) * 2)\n",
    "        \n",
    "        if char in piece_mapping:  # Pieza blanca (mayúscula)\n",
    "            square_vector[piece_mapping[char]] = 1\n",
    "        elif char.upper() in piece_mapping:  # Pieza negra (minúscula)\n",
    "            square_vector[piece_mapping[char.upper()] + len(piece_mapping)] = 1\n",
    "        \n",
    "        # Manejo de números (casillas vacías)\n",
    "        num_empty_squares = int(char) if char.isdigit() else 1\n",
    "        \n",
    "        for _ in range(num_empty_squares):\n",
    "            row_squares.append(square_vector.copy())\n",
    "    \n",
    "    return row_squares\n",
    "\n",
    "# Prueba de la función\n",
    "test_row = parse_board_row(\"rnbqkbnr\", piece_mapping)\n",
    "print(f\"Fila parseada tiene {len(test_row)} casillas\")\n",
    "print(f\"Primera casilla (torre negra): {test_row[0]}\")"
   ]
  },
  {
   "cell_type": "code",
   "execution_count": 87,
   "id": "bec979d6",
   "metadata": {},
   "outputs": [
    {
     "name": "stdout",
     "output_type": "stream",
     "text": [
      "Tensor del tablero: (8, 8, 12)\n",
      "¿Le toca a negras? False\n"
     ]
    }
   ],
   "source": [
    "# === FUNCIÓN 3: Parser completo de FEN ===\n",
    "def parse_fen_to_tensor(fen_string, piece_mapping):\n",
    "    \"\"\"\n",
    "    Convierte una posición FEN completa en tensor 8x8x12.\n",
    "    \n",
    "    Args:\n",
    "        fen_string (str): Posición FEN completa\n",
    "        piece_mapping (dict): Mapeo pieza -> índice\n",
    "        \n",
    "    Returns:\n",
    "        tuple: (board_tensor, is_black_turn)\n",
    "               - board_tensor: np.array shape (8,8,12)\n",
    "               - is_black_turn: bool, True si le toca a negras\n",
    "               \n",
    "    Explicación de la normalización por turno:\n",
    "    - Si le toca a negras, se invierte el tablero (flip vertical + swap colors)\n",
    "    - Esto hace que la CNN siempre vea desde perspectiva del jugador activo\n",
    "    \"\"\"\n",
    "    fen_parts = fen_string.split(\" \")\n",
    "    board_position = fen_parts[0]  # Solo la posición, no el turno ni otros datos\n",
    "    active_color = fen_parts[1] if len(fen_parts) > 1 else 'w'\n",
    "    \n",
    "    is_black_turn = (active_color == \"b\")\n",
    "    \n",
    "    # Si le toca a negras, invertir colores para normalizar perspectiva\n",
    "    if is_black_turn:\n",
    "        # Invertir colores: mayúscula<->minúscula y reversa del string\n",
    "        board_position = \"\".join(reversed(board_position.swapcase()))\n",
    "    \n",
    "    # Parsear cada fila (separadas por \"/\")\n",
    "    board_rows = [parse_board_row(row, piece_mapping) for row in board_position.split(\"/\")]\n",
    "    board_tensor = np.array(board_rows)\n",
    "    \n",
    "    return board_tensor, is_black_turn\n",
    "\n",
    "# Prueba con posición inicial\n",
    "initial_fen = \"rnbqkbnr/pppppppp/8/8/8/8/PPPPPPPP/RNBQKBNR w KQkq - 0 1\"\n",
    "board_tensor, is_black = parse_fen_to_tensor(initial_fen, piece_mapping)\n",
    "print(f\"Tensor del tablero: {board_tensor.shape}\")\n",
    "print(f\"¿Le toca a negras? {is_black}\")"
   ]
  },
  {
   "cell_type": "code",
   "execution_count": 88,
   "id": "ddd8614c",
   "metadata": {},
   "outputs": [],
   "source": [
    "# === FUNCIÓN 4: Parser de evaluaciones ===\n",
    "def parse_evaluation_to_class(evaluation_string):\n",
    "    \"\"\"\n",
    "    Convierte evaluación de Stockfish a clases: [Ventaja Blanca, Empate, Ventaja Negra].\n",
    "    \n",
    "    Args:\n",
    "        evaluation_string (str): Evaluación (\"#3\", \"0.5\", \"-2.1\", etc.)\n",
    "        \n",
    "    Returns:\n",
    "        int: 0=VentajaBlanca (>+1.5), 1=Empate (±1.5), 2=VentajaNegra (<-1.5)\n",
    "        \n",
    "    Explicación de umbrales:\n",
    "    - Mate (#): se convierte a ±15.0 (muy alto)\n",
    "    - >+1.5: ventaja significativa para blancas (clase 0)\n",
    "    - [-1.5, +1.5]: posición equilibrada (clase 1) \n",
    "    - <-1.5: ventaja significativa para negras (clase 2)\n",
    "    \"\"\"\n",
    "    eval_str = evaluation_string.strip()\n",
    "    \n",
    "    # Manejo de mates (formato #N o M±N)\n",
    "    if eval_str.startswith(\"#\"):\n",
    "        mate_value = eval_str[1:] + \"000\"  # \"#3\" -> \"30000\" \n",
    "        eval_numeric = float(mate_value)\n",
    "    else:\n",
    "        eval_numeric = float(eval_str)\n",
    "    \n",
    "    # Umbrales de clasificación (en pawns/centipawns)\n",
    "    WHITE_ADVANTAGE_THRESHOLD = 150  # +1.5 pawns\n",
    "    BLACK_ADVANTAGE_THRESHOLD = -150  # -1.5 pawns\n",
    "    \n",
    "    if eval_numeric > WHITE_ADVANTAGE_THRESHOLD:\n",
    "        return 0  # Ventaja blanca\n",
    "    elif eval_numeric < BLACK_ADVANTAGE_THRESHOLD:\n",
    "        return 2  # Ventaja negra\n",
    "    else:\n",
    "        return 1  # Empate/equilibrado\n"
   ]
  },
  {
   "cell_type": "code",
   "execution_count": 89,
   "id": "c260887a",
   "metadata": {},
   "outputs": [],
   "source": [
    "# === FUNCIÓN 5: Preprocessor completo ===\n",
    "def preprocess_chess_position(row_data, piece_mapping):\n",
    "    \"\"\"\n",
    "    Procesa una fila completa: FEN -> tensor + evaluación -> one-hot.\n",
    "    \n",
    "    Args:\n",
    "        row_data (pd.Series): Fila con columnas ['FEN', 'Evaluation']\n",
    "        piece_mapping (dict): Mapeo de piezas\n",
    "        \n",
    "    Returns:\n",
    "        tuple: (board_tensor, evaluation_onehot)\n",
    "               - board_tensor: (8,8,12) posición del tablero\n",
    "               - evaluation_onehot: (3,) vector one-hot de la clase\n",
    "    \"\"\"\n",
    "    fen_string = row_data.iloc[0]  # Asumiendo que FEN está en primera columna\n",
    "    eval_string = row_data.iloc[1]  # Evaluación en segunda columna\n",
    "    \n",
    "    # Procesar posición\n",
    "    board_tensor, is_black_turn = parse_fen_to_tensor(fen_string, piece_mapping)\n",
    "    \n",
    "    # Procesar evaluación\n",
    "    eval_class = parse_evaluation_to_class(eval_string)\n",
    "    \n",
    "    # Si le toca a negras, invertir la evaluación\n",
    "    if is_black_turn:\n",
    "        eval_class = 2 - eval_class  # 0->2, 1->1, 2->0\n",
    "    \n",
    "    # Convertir a one-hot\n",
    "    evaluation_onehot = np.zeros(3)\n",
    "    evaluation_onehot[eval_class] = 1\n",
    "    \n",
    "    return board_tensor, evaluation_onehot\n"
   ]
  },
  {
   "cell_type": "code",
   "execution_count": 90,
   "id": "b977a205",
   "metadata": {},
   "outputs": [],
   "source": [
    "# === FUNCIÓN 6: Creación de arrays de entrenamiento ===\n",
    "def create_training_arrays(dataframe, piece_mapping, max_samples=None):\n",
    "    \"\"\"\n",
    "    Convierte DataFrame completo en arrays X, y listos para CNN.\n",
    "    \n",
    "    Args:\n",
    "        dataframe (pd.DataFrame): Datos con columnas FEN y Evaluation\n",
    "        piece_mapping (dict): Mapeo de piezas\n",
    "        max_samples (int, optional): Límite de muestras para evitar memoria\n",
    "        \n",
    "    Returns:\n",
    "        tuple: (X_array, y_array)\n",
    "               - X_array: (N, 8, 8, 12) tensores de posiciones\n",
    "               - y_array: (N, 3) evaluaciones one-hot\n",
    "    \"\"\"\n",
    "    if max_samples:\n",
    "        dataframe = dataframe.head(max_samples)\n",
    "    \n",
    "    print(f\"Procesando {len(dataframe):,} posiciones...\")\n",
    "    \n",
    "    # Aplicar preprocessing directo (como Kaggle)\n",
    "    processed_data = dataframe.apply(\n",
    "        lambda row: preprocess_chess_position(row, piece_mapping), \n",
    "        axis=1\n",
    "    )\n",
    "    \n",
    "    # Separar X e y\n",
    "    positions = [item[0] for item in processed_data]\n",
    "    evaluations = [item[1] for item in processed_data]\n",
    "    \n",
    "    X = np.stack(positions, axis=0)\n",
    "    y = np.stack(evaluations, axis=0)\n",
    "    \n",
    "    print(f\"✅ Arrays creados: X{X.shape}, y{y.shape}\")\n",
    "    return X, y"
   ]
  },
  {
   "cell_type": "code",
   "execution_count": 91,
   "id": "8702f2e0",
   "metadata": {},
   "outputs": [
    {
     "name": "stdout",
     "output_type": "stream",
     "text": [
      "Procesando 300,000 posiciones...\n",
      "✅ Arrays creados: X(300000, 8, 8, 12), y(300000, 3)\n",
      "Procesando 60,000 posiciones...\n",
      "✅ Arrays creados: X(60000, 8, 8, 12), y(60000, 3)\n",
      "\n",
      "📊 NUEVA DISTRIBUCIÓN DE CLASES:\n",
      "Clase 0 (Ventaja Blanca): 89,195 (29.7%)\n",
      "Clase 1 (Empate): 144,554 (48.2%)\n",
      "Clase 2 (Ventaja Negra): 66,251 (22.1%)\n",
      "\n",
      "✅ Dataset grande activado exitosamente!\n",
      "Factor de aumento real: 1.0x\n"
     ]
    }
   ],
   "source": [
    "X_train, y_train = create_training_arrays(\n",
    "    chess_train_df, piece_mapping, optimal_sizes[\"max_train\"]\n",
    ")\n",
    "X_val, y_val = create_training_arrays(\n",
    "    chess_validation_df, piece_mapping, optimal_sizes[\"max_val\"]\n",
    ")\n",
    "\n",
    "#Verificar distribución de clases actualizada\n",
    "class_counts = np.sum(y_train, axis=0)\n",
    "class_percentages = class_counts / len(y_train) * 100\n",
    "print(f\"\\n📊 NUEVA DISTRIBUCIÓN DE CLASES:\")\n",
    "print(f\"Clase 0 (Ventaja Blanca): {class_counts[0]:,.0f} ({class_percentages[0]:.1f}%)\")\n",
    "print(f\"Clase 1 (Empate): {class_counts[1]:,.0f} ({class_percentages[1]:.1f}%)\")\n",
    "print(f\"Clase 2 (Ventaja Negra): {class_counts[2]:,.0f} ({class_percentages[2]:.1f}%)\")\n",
    "\n",
    "print(f\"\\n✅ Dataset grande activado exitosamente!\")\n",
    "print(f\"Factor de aumento real: {X_train.shape[0] / optimal_sizes['max_train']:.1f}x\")"
   ]
  },
  {
   "cell_type": "code",
   "execution_count": 92,
   "id": "73dd589a",
   "metadata": {},
   "outputs": [
    {
     "name": "stderr",
     "output_type": "stream",
     "text": [
      "c:\\Users\\ASUS\\Desktop\\stocksalmon\\venv\\Lib\\site-packages\\keras\\src\\layers\\convolutional\\base_conv.py:113: UserWarning: Do not pass an `input_shape`/`input_dim` argument to a layer. When using Sequential models, prefer using an `Input(shape)` object as the first layer in the model instead.\n",
      "  super().__init__(activity_regularizer=activity_regularizer, **kwargs)\n"
     ]
    },
    {
     "data": {
      "text/html": [
       "<pre style=\"white-space:pre;overflow-x:auto;line-height:normal;font-family:Menlo,'DejaVu Sans Mono',consolas,'Courier New',monospace\"><span style=\"font-weight: bold\">Model: \"sequential_19\"</span>\n",
       "</pre>\n"
      ],
      "text/plain": [
       "\u001b[1mModel: \"sequential_19\"\u001b[0m\n"
      ]
     },
     "metadata": {},
     "output_type": "display_data"
    },
    {
     "data": {
      "text/html": [
       "<pre style=\"white-space:pre;overflow-x:auto;line-height:normal;font-family:Menlo,'DejaVu Sans Mono',consolas,'Courier New',monospace\">┏━━━━━━━━━━━━━━━━━━━━━━━━━━━━━━━━━┳━━━━━━━━━━━━━━━━━━━━━━━━┳━━━━━━━━━━━━━━━┓\n",
       "┃<span style=\"font-weight: bold\"> Layer (type)                    </span>┃<span style=\"font-weight: bold\"> Output Shape           </span>┃<span style=\"font-weight: bold\">       Param # </span>┃\n",
       "┡━━━━━━━━━━━━━━━━━━━━━━━━━━━━━━━━━╇━━━━━━━━━━━━━━━━━━━━━━━━╇━━━━━━━━━━━━━━━┩\n",
       "│ conv2d_40 (<span style=\"color: #0087ff; text-decoration-color: #0087ff\">Conv2D</span>)              │ (<span style=\"color: #00d7ff; text-decoration-color: #00d7ff\">None</span>, <span style=\"color: #00af00; text-decoration-color: #00af00\">8</span>, <span style=\"color: #00af00; text-decoration-color: #00af00\">8</span>, <span style=\"color: #00af00; text-decoration-color: #00af00\">250</span>)      │        <span style=\"color: #00af00; text-decoration-color: #00af00\">75,250</span> │\n",
       "├─────────────────────────────────┼────────────────────────┼───────────────┤\n",
       "│ conv2d_41 (<span style=\"color: #0087ff; text-decoration-color: #0087ff\">Conv2D</span>)              │ (<span style=\"color: #00d7ff; text-decoration-color: #00d7ff\">None</span>, <span style=\"color: #00af00; text-decoration-color: #00af00\">8</span>, <span style=\"color: #00af00; text-decoration-color: #00af00\">8</span>, <span style=\"color: #00af00; text-decoration-color: #00af00\">150</span>)      │       <span style=\"color: #00af00; text-decoration-color: #00af00\">937,650</span> │\n",
       "├─────────────────────────────────┼────────────────────────┼───────────────┤\n",
       "│ flatten_3 (<span style=\"color: #0087ff; text-decoration-color: #0087ff\">Flatten</span>)             │ (<span style=\"color: #00d7ff; text-decoration-color: #00d7ff\">None</span>, <span style=\"color: #00af00; text-decoration-color: #00af00\">9600</span>)           │             <span style=\"color: #00af00; text-decoration-color: #00af00\">0</span> │\n",
       "├─────────────────────────────────┼────────────────────────┼───────────────┤\n",
       "│ dense_40 (<span style=\"color: #0087ff; text-decoration-color: #0087ff\">Dense</span>)                │ (<span style=\"color: #00d7ff; text-decoration-color: #00d7ff\">None</span>, <span style=\"color: #00af00; text-decoration-color: #00af00\">32</span>)             │       <span style=\"color: #00af00; text-decoration-color: #00af00\">307,232</span> │\n",
       "├─────────────────────────────────┼────────────────────────┼───────────────┤\n",
       "│ dense_41 (<span style=\"color: #0087ff; text-decoration-color: #0087ff\">Dense</span>)                │ (<span style=\"color: #00d7ff; text-decoration-color: #00d7ff\">None</span>, <span style=\"color: #00af00; text-decoration-color: #00af00\">3</span>)              │            <span style=\"color: #00af00; text-decoration-color: #00af00\">99</span> │\n",
       "└─────────────────────────────────┴────────────────────────┴───────────────┘\n",
       "</pre>\n"
      ],
      "text/plain": [
       "┏━━━━━━━━━━━━━━━━━━━━━━━━━━━━━━━━━┳━━━━━━━━━━━━━━━━━━━━━━━━┳━━━━━━━━━━━━━━━┓\n",
       "┃\u001b[1m \u001b[0m\u001b[1mLayer (type)                   \u001b[0m\u001b[1m \u001b[0m┃\u001b[1m \u001b[0m\u001b[1mOutput Shape          \u001b[0m\u001b[1m \u001b[0m┃\u001b[1m \u001b[0m\u001b[1m      Param #\u001b[0m\u001b[1m \u001b[0m┃\n",
       "┡━━━━━━━━━━━━━━━━━━━━━━━━━━━━━━━━━╇━━━━━━━━━━━━━━━━━━━━━━━━╇━━━━━━━━━━━━━━━┩\n",
       "│ conv2d_40 (\u001b[38;5;33mConv2D\u001b[0m)              │ (\u001b[38;5;45mNone\u001b[0m, \u001b[38;5;34m8\u001b[0m, \u001b[38;5;34m8\u001b[0m, \u001b[38;5;34m250\u001b[0m)      │        \u001b[38;5;34m75,250\u001b[0m │\n",
       "├─────────────────────────────────┼────────────────────────┼───────────────┤\n",
       "│ conv2d_41 (\u001b[38;5;33mConv2D\u001b[0m)              │ (\u001b[38;5;45mNone\u001b[0m, \u001b[38;5;34m8\u001b[0m, \u001b[38;5;34m8\u001b[0m, \u001b[38;5;34m150\u001b[0m)      │       \u001b[38;5;34m937,650\u001b[0m │\n",
       "├─────────────────────────────────┼────────────────────────┼───────────────┤\n",
       "│ flatten_3 (\u001b[38;5;33mFlatten\u001b[0m)             │ (\u001b[38;5;45mNone\u001b[0m, \u001b[38;5;34m9600\u001b[0m)           │             \u001b[38;5;34m0\u001b[0m │\n",
       "├─────────────────────────────────┼────────────────────────┼───────────────┤\n",
       "│ dense_40 (\u001b[38;5;33mDense\u001b[0m)                │ (\u001b[38;5;45mNone\u001b[0m, \u001b[38;5;34m32\u001b[0m)             │       \u001b[38;5;34m307,232\u001b[0m │\n",
       "├─────────────────────────────────┼────────────────────────┼───────────────┤\n",
       "│ dense_41 (\u001b[38;5;33mDense\u001b[0m)                │ (\u001b[38;5;45mNone\u001b[0m, \u001b[38;5;34m3\u001b[0m)              │            \u001b[38;5;34m99\u001b[0m │\n",
       "└─────────────────────────────────┴────────────────────────┴───────────────┘\n"
      ]
     },
     "metadata": {},
     "output_type": "display_data"
    },
    {
     "data": {
      "text/html": [
       "<pre style=\"white-space:pre;overflow-x:auto;line-height:normal;font-family:Menlo,'DejaVu Sans Mono',consolas,'Courier New',monospace\"><span style=\"font-weight: bold\"> Total params: </span><span style=\"color: #00af00; text-decoration-color: #00af00\">1,320,231</span> (5.04 MB)\n",
       "</pre>\n"
      ],
      "text/plain": [
       "\u001b[1m Total params: \u001b[0m\u001b[38;5;34m1,320,231\u001b[0m (5.04 MB)\n"
      ]
     },
     "metadata": {},
     "output_type": "display_data"
    },
    {
     "data": {
      "text/html": [
       "<pre style=\"white-space:pre;overflow-x:auto;line-height:normal;font-family:Menlo,'DejaVu Sans Mono',consolas,'Courier New',monospace\"><span style=\"font-weight: bold\"> Trainable params: </span><span style=\"color: #00af00; text-decoration-color: #00af00\">1,320,231</span> (5.04 MB)\n",
       "</pre>\n"
      ],
      "text/plain": [
       "\u001b[1m Trainable params: \u001b[0m\u001b[38;5;34m1,320,231\u001b[0m (5.04 MB)\n"
      ]
     },
     "metadata": {},
     "output_type": "display_data"
    },
    {
     "data": {
      "text/html": [
       "<pre style=\"white-space:pre;overflow-x:auto;line-height:normal;font-family:Menlo,'DejaVu Sans Mono',consolas,'Courier New',monospace\"><span style=\"font-weight: bold\"> Non-trainable params: </span><span style=\"color: #00af00; text-decoration-color: #00af00\">0</span> (0.00 B)\n",
       "</pre>\n"
      ],
      "text/plain": [
       "\u001b[1m Non-trainable params: \u001b[0m\u001b[38;5;34m0\u001b[0m (0.00 B)\n"
      ]
     },
     "metadata": {},
     "output_type": "display_data"
    }
   ],
   "source": [
    "# === FUNCIÓN 7: Construcción del modelo CNN ===\n",
    "def create_chess_cnn_model(input_shape=(8, 8, 12)):\n",
    "    \"\"\"\n",
    "    Construye modelo CNN para evaluación de posiciones de ajedrez.\n",
    "    \n",
    "    Arquitectura:\n",
    "    1. Conv2D(250, 5x5) + ReLU: Extrae patrones locales de piezas\n",
    "    2. Conv2D(150, 5x5) + ReLU: Refina características espaciales  \n",
    "    3. Flatten: Convierte a vector 1D\n",
    "    4. Dense(32) + ReLU: Capa fully connected para combinación de features\n",
    "    5. Dense(3) + Softmax: Clasificación final (3 clases)\n",
    "    \n",
    "    Args:\n",
    "        input_shape (tuple): Forma de entrada (8,8,12)\n",
    "        \n",
    "    Returns:\n",
    "        keras.Model: Modelo CNN compilado\n",
    "    \"\"\"\n",
    "    chess_model = Sequential([\n",
    "        # Arquitectura ganadora de Kaggle\n",
    "        Conv2D(250, kernel_size=5, padding=\"same\", \n",
    "               activation=\"relu\", input_shape=input_shape),\n",
    "        Conv2D(150, kernel_size=5, padding=\"same\", activation=\"relu\"),\n",
    "        Flatten(),  # ← Mantener información espacial completa\n",
    "        Dense(32, activation=\"relu\"),\n",
    "        Dense(3, activation=\"softmax\"),\n",
    "    ])\n",
    "    \n",
    "    # Configuración simple y efectiva\n",
    "    chess_model.compile(\n",
    "        optimizer=\"adam\",  # ← Adam default funciona mejor\n",
    "        loss=\"categorical_crossentropy\",\n",
    "        metrics=[\"categorical_accuracy\"]\n",
    "    )\n",
    "    \n",
    "    return chess_model\n",
    "\n",
    "# Crear y mostrar modelo\n",
    "chess_cnn_model = create_chess_cnn_model()\n",
    "chess_cnn_model.summary()"
   ]
  },
  {
   "cell_type": "code",
   "execution_count": 93,
   "id": "ce4f401e",
   "metadata": {},
   "outputs": [],
   "source": [
    "def get_improved_callbacks():\n",
    "    \"\"\"\n",
    "    Callback para mejor entrenamiento y prevención de overfitting.\n",
    "    \"\"\"\n",
    "    callback = [\n",
    "        # Early stopping más estricto\n",
    "        EarlyStopping(\n",
    "            monitor='val_categorical_accuracy',\n",
    "            patience=5,\n",
    "            restore_best_weights=True,\n",
    "        )\n",
    "    ]\n",
    "    return callback"
   ]
  },
  {
   "cell_type": "code",
   "execution_count": 94,
   "id": "288a5c87",
   "metadata": {},
   "outputs": [
    {
     "name": "stdout",
     "output_type": "stream",
     "text": [
      "Epoch 1/100\n",
      "\u001b[1m2344/2344\u001b[0m \u001b[32m━━━━━━━━━━━━━━━━━━━━\u001b[0m\u001b[37m\u001b[0m \u001b[1m199s\u001b[0m 85ms/step - categorical_accuracy: 0.6051 - loss: 0.8458 - val_categorical_accuracy: 0.6392 - val_loss: 0.7931\n",
      "Epoch 2/100\n",
      "\u001b[1m2344/2344\u001b[0m \u001b[32m━━━━━━━━━━━━━━━━━━━━\u001b[0m\u001b[37m\u001b[0m \u001b[1m204s\u001b[0m 87ms/step - categorical_accuracy: 0.6605 - loss: 0.7534 - val_categorical_accuracy: 0.6314 - val_loss: 0.8006\n",
      "Epoch 3/100\n",
      "\u001b[1m2344/2344\u001b[0m \u001b[32m━━━━━━━━━━━━━━━━━━━━\u001b[0m\u001b[37m\u001b[0m \u001b[1m196s\u001b[0m 83ms/step - categorical_accuracy: 0.6993 - loss: 0.6820 - val_categorical_accuracy: 0.6555 - val_loss: 0.7637\n",
      "Epoch 4/100\n",
      "\u001b[1m2344/2344\u001b[0m \u001b[32m━━━━━━━━━━━━━━━━━━━━\u001b[0m\u001b[37m\u001b[0m \u001b[1m204s\u001b[0m 87ms/step - categorical_accuracy: 0.7431 - loss: 0.5988 - val_categorical_accuracy: 0.6533 - val_loss: 0.8108\n",
      "Epoch 5/100\n",
      "\u001b[1m2344/2344\u001b[0m \u001b[32m━━━━━━━━━━━━━━━━━━━━\u001b[0m\u001b[37m\u001b[0m \u001b[1m206s\u001b[0m 88ms/step - categorical_accuracy: 0.7928 - loss: 0.4967 - val_categorical_accuracy: 0.6476 - val_loss: 0.9035\n",
      "Epoch 6/100\n",
      "\u001b[1m2344/2344\u001b[0m \u001b[32m━━━━━━━━━━━━━━━━━━━━\u001b[0m\u001b[37m\u001b[0m \u001b[1m208s\u001b[0m 89ms/step - categorical_accuracy: 0.8401 - loss: 0.3922 - val_categorical_accuracy: 0.6373 - val_loss: 1.0078\n",
      "Epoch 7/100\n",
      "\u001b[1m2344/2344\u001b[0m \u001b[32m━━━━━━━━━━━━━━━━━━━━\u001b[0m\u001b[37m\u001b[0m \u001b[1m209s\u001b[0m 89ms/step - categorical_accuracy: 0.8799 - loss: 0.3006 - val_categorical_accuracy: 0.6285 - val_loss: 1.2214\n",
      "Epoch 8/100\n",
      "\u001b[1m2344/2344\u001b[0m \u001b[32m━━━━━━━━━━━━━━━━━━━━\u001b[0m\u001b[37m\u001b[0m \u001b[1m203s\u001b[0m 87ms/step - categorical_accuracy: 0.9072 - loss: 0.2356 - val_categorical_accuracy: 0.6253 - val_loss: 1.3819\n"
     ]
    }
   ],
   "source": [
    "# === FUNCIÓN 8: Entrenamiento del modelo ===\n",
    "\n",
    "history = chess_cnn_model.fit(\n",
    "    X_train, y_train,\n",
    "    validation_data=(X_val, y_val),\n",
    "    epochs=100,\n",
    "    batch_size=128,\n",
    "    callbacks=get_improved_callbacks(),\n",
    "    verbose=1\n",
    ")"
   ]
  },
  {
   "cell_type": "code",
   "execution_count": 95,
   "id": "240392ce",
   "metadata": {},
   "outputs": [
    {
     "data": {
      "image/png": "[encoded data removed]",
      "text/plain": [
       "<Figure size 1500x500 with 2 Axes>"
      ]
     },
     "metadata": {},
     "output_type": "display_data"
    }
   ],
   "source": [
    "# === FUNCIÓN 9: Visualización de resultados ===\n",
    "\n",
    "def plot_training_history(history):\n",
    "    \"\"\"\n",
    "    Grafica métricas de entrenamiento vs validación.\n",
    "    \"\"\"\n",
    "    fig, (ax1, ax2) = plt.subplots(1, 2, figsize=(15, 5))\n",
    "    \n",
    "    # Pérdida\n",
    "    ax1.plot(history.history['loss'], label='Entrenamiento', color='blue')\n",
    "    ax1.plot(history.history['val_loss'], label='Validación', color='red')\n",
    "    ax1.set_title('Pérdida del Modelo')\n",
    "    ax1.set_xlabel('Época')\n",
    "    ax1.set_ylabel('Pérdida')\n",
    "    ax1.legend()\n",
    "    ax1.grid(True)\n",
    "    \n",
    "    # Precisión\n",
    "    ax2.plot(history.history['categorical_accuracy'], label='Entrenamiento', color='blue')\n",
    "    ax2.plot(history.history['val_categorical_accuracy'], label='Validación', color='red')\n",
    "    ax2.set_title('Precisión del Modelo')\n",
    "    ax2.set_xlabel('Época')\n",
    "    ax2.set_ylabel('Precisión')\n",
    "    ax2.legend()\n",
    "    ax2.grid(True)\n",
    "    \n",
    "    plt.tight_layout()\n",
    "    plt.show()\n",
    "\n",
    "# Visualizar entrenamiento\n",
    "plot_training_history(history)"
   ]
  },
  {
   "cell_type": "code",
   "execution_count": 96,
   "id": "f6c86f62",
   "metadata": {},
   "outputs": [
    {
     "name": "stdout",
     "output_type": "stream",
     "text": [
      "Creando datos de prueba...\n",
      "Procesando 5,000 posiciones...\n",
      "✅ Arrays creados: X(5000, 8, 8, 12), y(5000, 3)\n",
      "\u001b[1m157/157\u001b[0m \u001b[32m━━━━━━━━━━━━━━━━━━━━\u001b[0m\u001b[37m\u001b[0m \u001b[1m2s\u001b[0m 10ms/step - categorical_accuracy: 0.6750 - loss: 0.7425\n",
      "\n",
      "Resultados en datos de prueba:\n",
      "Pérdida: 0.7425\n",
      "Precisión: 0.6750\n",
      "\u001b[1m1/1\u001b[0m \u001b[32m━━━━━━━━━━━━━━━━━━━━\u001b[0m\u001b[37m\u001b[0m \u001b[1m0s\u001b[0m 54ms/step\n",
      "\n",
      "Ejemplo de predicciones:\n",
      "Posición 1: Empate (confianza: 0.389)\n",
      "Posición 2: Ventaja Negra (confianza: 0.493)\n",
      "Posición 3: Empate (confianza: 0.593)\n",
      "Posición 4: Ventaja Blanca (confianza: 0.899)\n",
      "Posición 5: Ventaja Negra (confianza: 0.796)\n"
     ]
    }
   ],
   "source": [
    "# === Evaluación final en datos de prueba ===\n",
    "if len(chess_test_df) > 0:\n",
    "    print(\"Creando datos de prueba...\")\n",
    "    X_test, y_test = create_training_arrays(chess_test_df, piece_mapping, 5000)\n",
    "    \n",
    "    # Evaluar modelo\n",
    "    test_results = chess_cnn_model.evaluate(X_test, y_test, verbose=1)\n",
    "    print(f\"\\nResultados en datos de prueba:\")\n",
    "    print(f\"Pérdida: {test_results[0]:.4f}\")\n",
    "    print(f\"Precisión: {test_results[1]:.4f}\")\n",
    "    \n",
    "    # Predicciones de ejemplo\n",
    "    sample_predictions = chess_cnn_model.predict(X_test[:5])\n",
    "    print(f\"\\nEjemplo de predicciones:\")\n",
    "    class_names = ['Ventaja Blanca', 'Empate', 'Ventaja Negra']\n",
    "    for i, pred in enumerate(sample_predictions):\n",
    "        predicted_class = np.argmax(pred)\n",
    "        confidence = pred[predicted_class]\n",
    "        print(f\"Posición {i+1}: {class_names[predicted_class]} (confianza: {confidence:.3f})\")"
   ]
  }
 ],
 "metadata": {
  "kernelspec": {
   "display_name": "venv",
   "language": "python",
   "name": "python3"
  },
  "language_info": {
   "codemirror_mode": {
    "name": "ipython",
    "version": 3
   },
   "file_extension": ".py",
   "mimetype": "text/x-python",
   "name": "python",
   "nbconvert_exporter": "python",
   "pygments_lexer": "ipython3",
   "version": "3.13.7"
  }
 },
 "nbformat": 4,
 "nbformat_minor": 5
}
