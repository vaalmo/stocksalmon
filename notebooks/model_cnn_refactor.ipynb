{
 "cells": [
  {
   "cell_type": "markdown",
   "metadata": {},
   "source": [
    "# CNN Refactor: Parser y Perspectiva Corregidos + Regularización\n",
    "\n",
    "Objetivo: corregir el preprocesamiento (etiquetado y normalización de perspectiva) y entrenar un modelo CNN regularizado para mejorar la generalización."
   ]
  },
  {
   "cell_type": "markdown",
   "metadata": {},
   "source": [
    "## Cambios clave (concepto → acción)\n",
    "- Etiquetas coherentes: convertir `Evaluation` a centipawns (cp) y mapear mates a ±10000 cp; clasificar con umbrales ±150 cp.\n",
    "- Perspectiva corregida: si mueve negras, solo se invierte verticalmente (ranks) y se swappean colores; no se invierten columnas.\n",
    "- Sin invertir la clase: al normalizar perspectiva, ya no se transforma la etiqueta (0/1/2).\n",
    "- Modelo regularizado: Conv2D más pequeño + BatchNorm + Dropout + L2 + GlobalAveragePooling2D.\n",
    "- Entrenamiento robusto: early stopping (val_loss) + ReduceLROnPlateau; reporte y matriz de confusión."
   ]
  },
  {
   "cell_type": "code",
   "execution_count": 1,
   "metadata": {},
   "outputs": [],
   "source": [
    "# Imports y configuración de paths\n",
    "import os\n",
    "from pathlib import Path\n",
    "import numpy as np\n",
    "import pandas as pd\n",
    "import matplotlib.pyplot as plt\n",
    "\n",
    "from keras.models import Sequential\n",
    "from keras.layers import Conv2D, BatchNormalization, Dropout, GlobalAveragePooling2D, Dense\n",
    "from keras.regularizers import l2\n",
    "from keras.callbacks import EarlyStopping, ReduceLROnPlateau\n",
    "\n",
    "from sklearn.metrics import classification_report, confusion_matrix\n",
    "\n",
    "DATA_DIR = Path('../data/processed')\n",
    "assert (DATA_DIR / 'training_data.parquet').exists(), 'Falta data procesada. Ejecuta el split previo.'"
   ]
  },
  {
   "cell_type": "markdown",
   "metadata": {},
   "source": [
    "## Parser de Evaluación (a centipawns)\n",
    "- Convierte distintas representaciones a cp:\n",
    "  - Flotantes con punto → pawns × 100 (ej. `2.5` → 250).\n",
    "  - Enteros o con `+`/`-` sin punto → cp directos (ej. `+34` → 34).\n",
    "  - Mates `#±N` o variantes → ±10000 cp.\n",
    "- Clasificación en 3 clases con umbrales ±150 cp."
   ]
  },
  {
   "cell_type": "code",
   "execution_count": 2,
   "metadata": {},
   "outputs": [
    {
     "data": {
      "text/plain": [
       "[('#3', 10000.0, 0),\n",
       " ('#-2', -10000.0, 2),\n",
       " ('+34', 34.0, 1),\n",
       " ('-178', -178.0, 2),\n",
       " ('2.5', 250.0, 0),\n",
       " ('-1.8', -180.0, 2),\n",
       " ('0.0', 0.0, 1)]"
      ]
     },
     "execution_count": 2,
     "metadata": {},
     "output_type": "execute_result"
    }
   ],
   "source": [
    "def eval_to_centipawns(eval_str: str) -> float:\n",
    "    s = str(eval_str).strip()\n",
    "    if not s:\n",
    "        return 0.0\n",
    "    # Mates tipo '#3' o '#-2'\n",
    "    if s.startswith('#'):\n",
    "        try:\n",
    "            v = float(s[1:])\n",
    "            return 10000.0 if v >= 0 else -10000.0\n",
    "        except Exception:\n",
    "            return 0.0\n",
    "    # Intento de float genérico\n",
    "    try:\n",
    "        v = float(s)\n",
    "    except Exception:\n",
    "        return 0.0\n",
    "    # Heurística: si tenía punto decimal, lo interpretamos como pawns\n",
    "    if '.' in s:\n",
    "        return v * 100.0\n",
    "    # De lo contrario, asumimos cp directo\n",
    "    return v\n",
    "\n",
    "def cp_to_class(cp: float, thr: int = 150) -> int:\n",
    "    if cp > thr:\n",
    "        return 0  # Ventaja blanca\n",
    "    if cp < -thr:\n",
    "        return 2  # Ventaja negra\n",
    "    return 1       # Empate/equilibrado\n",
    "\n",
    "# Pruebas rápidas\n",
    "tests = ['#3', '#-2', '+34', '-178', '2.5', '-1.8', '0.0']\n",
    "[(t, eval_to_centipawns(t), cp_to_class(eval_to_centipawns(t))) for t in tests]"
   ]
  },
  {
   "cell_type": "markdown",
   "metadata": {},
   "source": [
    "## Parser de FEN y normalización de perspectiva\n",
    "- Representación one-hot 8×8×12: [P,N,B,R,Q,K]×[blanca, negra].\n",
    "- Si mueve negras: swapcase (colores) + flip vertical (orden de filas).\n",
    "- No se invierten columnas; la clase ya no se transforma."
   ]
  },
  {
   "cell_type": "code",
   "execution_count": 3,
   "metadata": {},
   "outputs": [
    {
     "data": {
      "text/plain": [
       "((8, 8, 12), False, (8, 8, 12), True)"
      ]
     },
     "execution_count": 3,
     "metadata": {},
     "output_type": "execute_result"
    }
   ],
   "source": [
    "def create_piece_mapping():\n",
    "    pieces = ['P','N','B','R','Q','K']\n",
    "    return {p: i for i, p in enumerate(pieces)}\n",
    "\n",
    "PIECE_MAPPING = create_piece_mapping()\n",
    "\n",
    "def parse_board_row(row_string: str, piece_mapping: dict) -> list[list[int]]:\n",
    "    row_squares = []\n",
    "    for ch in row_string:\n",
    "        vec = [0] * (len(piece_mapping) * 2)\n",
    "        if ch in piece_mapping:  # blanca\n",
    "            vec[piece_mapping[ch]] = 1\n",
    "            row_squares.append(vec)\n",
    "        elif ch.upper() in piece_mapping:  # negra\n",
    "            vec[piece_mapping[ch.upper()] + len(piece_mapping)] = 1\n",
    "            row_squares.append(vec)\n",
    "        elif ch.isdigit():  # vacías\n",
    "            for _ in range(int(ch)):\n",
    "                row_squares.append(vec.copy())\n",
    "        else:\n",
    "            # separadores u otros símbolos no esperados\n",
    "            pass\n",
    "    return row_squares\n",
    "\n",
    "def parse_fen_to_tensor_fixed(fen_string: str, piece_mapping: dict) -> tuple[np.ndarray, bool]:\n",
    "    parts = fen_string.split(' ')\n",
    "    board = parts[0]\n",
    "    active = parts[1] if len(parts) > 1 else 'w'\n",
    "    is_black_turn = (active == 'b')\n",
    "    # swapcase de colores si juega negras\n",
    "    if is_black_turn:\n",
    "        board_proc = board.swapcase()\n",
    "        rows = board_proc.split('/')\n",
    "        rows = list(reversed(rows))  # flip vertical (ranks)\n",
    "    else:\n",
    "        rows = board.split('/')\n",
    "    board_rows = [parse_board_row(r, piece_mapping) for r in rows]\n",
    "    tensor = np.array(board_rows, dtype=np.float32)\n",
    "    return tensor, is_black_turn\n",
    "\n",
    "# Prueba rápida\n",
    "initial_fen = 'rnbqkbnr/pppppppp/8/8/8/8/PPPPPPPP/RNBQKBNR w KQkq - 0 1'\n",
    "t_w, is_b = parse_fen_to_tensor_fixed(initial_fen, PIECE_MAPPING)\n",
    "t_b, is_b2 = parse_fen_to_tensor_fixed(initial_fen.replace(' w ', ' b '), PIECE_MAPPING)\n",
    "t_w.shape, is_b, t_b.shape, is_b2"
   ]
  },
  {
   "cell_type": "markdown",
   "metadata": {},
   "source": [
    "## Preprocesamiento fila → (tensor, clase)\n",
    "- `FEN` → tensor 8×8×12\n",
    "- `Evaluation` → cp → clase (0/1/2) → one-hot\n",
    "- Nota: sin inversión de clase cuando juega negras."
   ]
  },
  {
   "cell_type": "code",
   "execution_count": 4,
   "metadata": {},
   "outputs": [],
   "source": [
    "def preprocess_row(row: pd.Series, piece_mapping: dict) -> tuple[np.ndarray, np.ndarray]:\n",
    "    fen = row['FEN']\n",
    "    ev = row['Evaluation']\n",
    "    board_tensor, is_black_turn = parse_fen_to_tensor_fixed(fen, piece_mapping)\n",
    "    cp = eval_to_centipawns(str(ev))\n",
    "    cls = cp_to_class(cp)\n",
    "    y = np.zeros(3, dtype=np.float32)\n",
    "    y[cls] = 1.0\n",
    "    return board_tensor, y\n",
    "\n",
    "def create_Xy(df: pd.DataFrame, max_samples: int | None = None) -> tuple[np.ndarray, np.ndarray]:\n",
    "    if max_samples:\n",
    "        df = df.head(max_samples)\n",
    "    X_list, y_list = [], []\n",
    "    for _, r in df.iterrows():\n",
    "        try:\n",
    "            x, y = preprocess_row(r, PIECE_MAPPING)\n",
    "            X_list.append(x)\n",
    "            y_list.append(y)\n",
    "        except Exception:\n",
    "            continue\n",
    "    X = np.stack(X_list, axis=0)\n",
    "    y = np.stack(y_list, axis=0)\n",
    "    return X, y"
   ]
  },
  {
   "cell_type": "markdown",
   "metadata": {},
   "source": [
    "## Carga de datos y muestreo\n",
    "- Leemos Parquet persistidos en `data/processed`.\n",
    "- Por defecto usamos tamaños moderados para prueba; ajusta `MAX_*` según RAM."
   ]
  },
  {
   "cell_type": "code",
   "execution_count": null,
   "metadata": {},
   "outputs": [
    {
     "name": "stdout",
     "output_type": "stream",
     "text": [
      "Train: 11,610,568 | Val: 3,317,307 | Test: 1,658,652\n"
     ]
    },
    {
     "data": {
      "text/plain": [
       "((50000, 8, 8, 12),\n",
       " (50000, 3),\n",
       " (10000, 8, 8, 12),\n",
       " (10000, 3),\n",
       " (10000, 8, 8, 12),\n",
       " (10000, 3))"
      ]
     },
     "execution_count": 5,
     "metadata": {},
     "output_type": "execute_result"
    }
   ],
   "source": [
    "# Tamaños por defecto (ajustables)\n",
    "MAX_TRAIN = int(os.environ.get('MAX_TRAIN', 50_000))\n",
    "MAX_VAL   = int(os.environ.get('MAX_VAL',   10_000))\n",
    "MAX_TEST  = int(os.environ.get('MAX_TEST',  10_000))\n",
    "\n",
    "train_df = pd.read_parquet(DATA_DIR / 'training_data.parquet')\n",
    "val_df   = pd.read_parquet(DATA_DIR / 'validation_data.parquet')\n",
    "test_df  = pd.read_parquet(DATA_DIR / 'testing_data.parquet')\n",
    "\n",
    "print(f'Train: {len(train_df):,} | Val: {len(val_df):,} | Test: {len(test_df):,}')\n",
    "\n",
    "X_train, y_train = create_Xy(train_df, MAX_TRAIN)\n",
    "X_val,   y_val   = create_Xy(val_df,   MAX_VAL)\n",
    "X_test,  y_test  = create_Xy(test_df,  MAX_TEST)\n",
    "\n",
    "X_train.shape, y_train.shape, X_val.shape, y_val.shape, X_test.shape, y_test.shape"
   ]
  },
  {
   "cell_type": "markdown",
   "metadata": {},
   "source": [
    "## Modelo CNN regularizado\n",
    "- Arquitectura compacta con regularización explícita.\n",
    "- Evitamos `Flatten`; usamos `GlobalAveragePooling2D`.\n",
    "- Métrica: `categorical_accuracy`."
   ]
  },
  {
   "cell_type": "code",
   "execution_count": 6,
   "metadata": {},
   "outputs": [
    {
     "name": "stderr",
     "output_type": "stream",
     "text": [
      "c:\\Users\\samir\\Documents\\noveno semestre\\aprendizaje maquina\\stocksalmon\\venv\\Lib\\site-packages\\keras\\src\\layers\\convolutional\\base_conv.py:113: UserWarning: Do not pass an `input_shape`/`input_dim` argument to a layer. When using Sequential models, prefer using an `Input(shape)` object as the first layer in the model instead.\n",
      "  super().__init__(activity_regularizer=activity_regularizer, **kwargs)\n"
     ]
    },
    {
     "data": {
      "text/html": [
       "<pre style=\"white-space:pre;overflow-x:auto;line-height:normal;font-family:Menlo,'DejaVu Sans Mono',consolas,'Courier New',monospace\"><span style=\"font-weight: bold\">Model: \"sequential\"</span>\n",
       "</pre>\n"
      ],
      "text/plain": [
       "\u001b[1mModel: \"sequential\"\u001b[0m\n"
      ]
     },
     "metadata": {},
     "output_type": "display_data"
    },
    {
     "data": {
      "text/html": [
       "<pre style=\"white-space:pre;overflow-x:auto;line-height:normal;font-family:Menlo,'DejaVu Sans Mono',consolas,'Courier New',monospace\">┏━━━━━━━━━━━━━━━━━━━━━━━━━━━━━━━━━┳━━━━━━━━━━━━━━━━━━━━━━━━┳━━━━━━━━━━━━━━━┓\n",
       "┃<span style=\"font-weight: bold\"> Layer (type)                    </span>┃<span style=\"font-weight: bold\"> Output Shape           </span>┃<span style=\"font-weight: bold\">       Param # </span>┃\n",
       "┡━━━━━━━━━━━━━━━━━━━━━━━━━━━━━━━━━╇━━━━━━━━━━━━━━━━━━━━━━━━╇━━━━━━━━━━━━━━━┩\n",
       "│ conv2d (<span style=\"color: #0087ff; text-decoration-color: #0087ff\">Conv2D</span>)                 │ (<span style=\"color: #00d7ff; text-decoration-color: #00d7ff\">None</span>, <span style=\"color: #00af00; text-decoration-color: #00af00\">8</span>, <span style=\"color: #00af00; text-decoration-color: #00af00\">8</span>, <span style=\"color: #00af00; text-decoration-color: #00af00\">64</span>)       │         <span style=\"color: #00af00; text-decoration-color: #00af00\">6,976</span> │\n",
       "├─────────────────────────────────┼────────────────────────┼───────────────┤\n",
       "│ batch_normalization             │ (<span style=\"color: #00d7ff; text-decoration-color: #00d7ff\">None</span>, <span style=\"color: #00af00; text-decoration-color: #00af00\">8</span>, <span style=\"color: #00af00; text-decoration-color: #00af00\">8</span>, <span style=\"color: #00af00; text-decoration-color: #00af00\">64</span>)       │           <span style=\"color: #00af00; text-decoration-color: #00af00\">256</span> │\n",
       "│ (<span style=\"color: #0087ff; text-decoration-color: #0087ff\">BatchNormalization</span>)            │                        │               │\n",
       "├─────────────────────────────────┼────────────────────────┼───────────────┤\n",
       "│ conv2d_1 (<span style=\"color: #0087ff; text-decoration-color: #0087ff\">Conv2D</span>)               │ (<span style=\"color: #00d7ff; text-decoration-color: #00d7ff\">None</span>, <span style=\"color: #00af00; text-decoration-color: #00af00\">8</span>, <span style=\"color: #00af00; text-decoration-color: #00af00\">8</span>, <span style=\"color: #00af00; text-decoration-color: #00af00\">64</span>)       │        <span style=\"color: #00af00; text-decoration-color: #00af00\">36,928</span> │\n",
       "├─────────────────────────────────┼────────────────────────┼───────────────┤\n",
       "│ batch_normalization_1           │ (<span style=\"color: #00d7ff; text-decoration-color: #00d7ff\">None</span>, <span style=\"color: #00af00; text-decoration-color: #00af00\">8</span>, <span style=\"color: #00af00; text-decoration-color: #00af00\">8</span>, <span style=\"color: #00af00; text-decoration-color: #00af00\">64</span>)       │           <span style=\"color: #00af00; text-decoration-color: #00af00\">256</span> │\n",
       "│ (<span style=\"color: #0087ff; text-decoration-color: #0087ff\">BatchNormalization</span>)            │                        │               │\n",
       "├─────────────────────────────────┼────────────────────────┼───────────────┤\n",
       "│ dropout (<span style=\"color: #0087ff; text-decoration-color: #0087ff\">Dropout</span>)               │ (<span style=\"color: #00d7ff; text-decoration-color: #00d7ff\">None</span>, <span style=\"color: #00af00; text-decoration-color: #00af00\">8</span>, <span style=\"color: #00af00; text-decoration-color: #00af00\">8</span>, <span style=\"color: #00af00; text-decoration-color: #00af00\">64</span>)       │             <span style=\"color: #00af00; text-decoration-color: #00af00\">0</span> │\n",
       "├─────────────────────────────────┼────────────────────────┼───────────────┤\n",
       "│ global_average_pooling2d        │ (<span style=\"color: #00d7ff; text-decoration-color: #00d7ff\">None</span>, <span style=\"color: #00af00; text-decoration-color: #00af00\">64</span>)             │             <span style=\"color: #00af00; text-decoration-color: #00af00\">0</span> │\n",
       "│ (<span style=\"color: #0087ff; text-decoration-color: #0087ff\">GlobalAveragePooling2D</span>)        │                        │               │\n",
       "├─────────────────────────────────┼────────────────────────┼───────────────┤\n",
       "│ dense (<span style=\"color: #0087ff; text-decoration-color: #0087ff\">Dense</span>)                   │ (<span style=\"color: #00d7ff; text-decoration-color: #00d7ff\">None</span>, <span style=\"color: #00af00; text-decoration-color: #00af00\">64</span>)             │         <span style=\"color: #00af00; text-decoration-color: #00af00\">4,160</span> │\n",
       "├─────────────────────────────────┼────────────────────────┼───────────────┤\n",
       "│ dropout_1 (<span style=\"color: #0087ff; text-decoration-color: #0087ff\">Dropout</span>)             │ (<span style=\"color: #00d7ff; text-decoration-color: #00d7ff\">None</span>, <span style=\"color: #00af00; text-decoration-color: #00af00\">64</span>)             │             <span style=\"color: #00af00; text-decoration-color: #00af00\">0</span> │\n",
       "├─────────────────────────────────┼────────────────────────┼───────────────┤\n",
       "│ dense_1 (<span style=\"color: #0087ff; text-decoration-color: #0087ff\">Dense</span>)                 │ (<span style=\"color: #00d7ff; text-decoration-color: #00d7ff\">None</span>, <span style=\"color: #00af00; text-decoration-color: #00af00\">3</span>)              │           <span style=\"color: #00af00; text-decoration-color: #00af00\">195</span> │\n",
       "└─────────────────────────────────┴────────────────────────┴───────────────┘\n",
       "</pre>\n"
      ],
      "text/plain": [
       "┏━━━━━━━━━━━━━━━━━━━━━━━━━━━━━━━━━┳━━━━━━━━━━━━━━━━━━━━━━━━┳━━━━━━━━━━━━━━━┓\n",
       "┃\u001b[1m \u001b[0m\u001b[1mLayer (type)                   \u001b[0m\u001b[1m \u001b[0m┃\u001b[1m \u001b[0m\u001b[1mOutput Shape          \u001b[0m\u001b[1m \u001b[0m┃\u001b[1m \u001b[0m\u001b[1m      Param #\u001b[0m\u001b[1m \u001b[0m┃\n",
       "┡━━━━━━━━━━━━━━━━━━━━━━━━━━━━━━━━━╇━━━━━━━━━━━━━━━━━━━━━━━━╇━━━━━━━━━━━━━━━┩\n",
       "│ conv2d (\u001b[38;5;33mConv2D\u001b[0m)                 │ (\u001b[38;5;45mNone\u001b[0m, \u001b[38;5;34m8\u001b[0m, \u001b[38;5;34m8\u001b[0m, \u001b[38;5;34m64\u001b[0m)       │         \u001b[38;5;34m6,976\u001b[0m │\n",
       "├─────────────────────────────────┼────────────────────────┼───────────────┤\n",
       "│ batch_normalization             │ (\u001b[38;5;45mNone\u001b[0m, \u001b[38;5;34m8\u001b[0m, \u001b[38;5;34m8\u001b[0m, \u001b[38;5;34m64\u001b[0m)       │           \u001b[38;5;34m256\u001b[0m │\n",
       "│ (\u001b[38;5;33mBatchNormalization\u001b[0m)            │                        │               │\n",
       "├─────────────────────────────────┼────────────────────────┼───────────────┤\n",
       "│ conv2d_1 (\u001b[38;5;33mConv2D\u001b[0m)               │ (\u001b[38;5;45mNone\u001b[0m, \u001b[38;5;34m8\u001b[0m, \u001b[38;5;34m8\u001b[0m, \u001b[38;5;34m64\u001b[0m)       │        \u001b[38;5;34m36,928\u001b[0m │\n",
       "├─────────────────────────────────┼────────────────────────┼───────────────┤\n",
       "│ batch_normalization_1           │ (\u001b[38;5;45mNone\u001b[0m, \u001b[38;5;34m8\u001b[0m, \u001b[38;5;34m8\u001b[0m, \u001b[38;5;34m64\u001b[0m)       │           \u001b[38;5;34m256\u001b[0m │\n",
       "│ (\u001b[38;5;33mBatchNormalization\u001b[0m)            │                        │               │\n",
       "├─────────────────────────────────┼────────────────────────┼───────────────┤\n",
       "│ dropout (\u001b[38;5;33mDropout\u001b[0m)               │ (\u001b[38;5;45mNone\u001b[0m, \u001b[38;5;34m8\u001b[0m, \u001b[38;5;34m8\u001b[0m, \u001b[38;5;34m64\u001b[0m)       │             \u001b[38;5;34m0\u001b[0m │\n",
       "├─────────────────────────────────┼────────────────────────┼───────────────┤\n",
       "│ global_average_pooling2d        │ (\u001b[38;5;45mNone\u001b[0m, \u001b[38;5;34m64\u001b[0m)             │             \u001b[38;5;34m0\u001b[0m │\n",
       "│ (\u001b[38;5;33mGlobalAveragePooling2D\u001b[0m)        │                        │               │\n",
       "├─────────────────────────────────┼────────────────────────┼───────────────┤\n",
       "│ dense (\u001b[38;5;33mDense\u001b[0m)                   │ (\u001b[38;5;45mNone\u001b[0m, \u001b[38;5;34m64\u001b[0m)             │         \u001b[38;5;34m4,160\u001b[0m │\n",
       "├─────────────────────────────────┼────────────────────────┼───────────────┤\n",
       "│ dropout_1 (\u001b[38;5;33mDropout\u001b[0m)             │ (\u001b[38;5;45mNone\u001b[0m, \u001b[38;5;34m64\u001b[0m)             │             \u001b[38;5;34m0\u001b[0m │\n",
       "├─────────────────────────────────┼────────────────────────┼───────────────┤\n",
       "│ dense_1 (\u001b[38;5;33mDense\u001b[0m)                 │ (\u001b[38;5;45mNone\u001b[0m, \u001b[38;5;34m3\u001b[0m)              │           \u001b[38;5;34m195\u001b[0m │\n",
       "└─────────────────────────────────┴────────────────────────┴───────────────┘\n"
      ]
     },
     "metadata": {},
     "output_type": "display_data"
    },
    {
     "data": {
      "text/html": [
       "<pre style=\"white-space:pre;overflow-x:auto;line-height:normal;font-family:Menlo,'DejaVu Sans Mono',consolas,'Courier New',monospace\"><span style=\"font-weight: bold\"> Total params: </span><span style=\"color: #00af00; text-decoration-color: #00af00\">48,771</span> (190.51 KB)\n",
       "</pre>\n"
      ],
      "text/plain": [
       "\u001b[1m Total params: \u001b[0m\u001b[38;5;34m48,771\u001b[0m (190.51 KB)\n"
      ]
     },
     "metadata": {},
     "output_type": "display_data"
    },
    {
     "data": {
      "text/html": [
       "<pre style=\"white-space:pre;overflow-x:auto;line-height:normal;font-family:Menlo,'DejaVu Sans Mono',consolas,'Courier New',monospace\"><span style=\"font-weight: bold\"> Trainable params: </span><span style=\"color: #00af00; text-decoration-color: #00af00\">48,515</span> (189.51 KB)\n",
       "</pre>\n"
      ],
      "text/plain": [
       "\u001b[1m Trainable params: \u001b[0m\u001b[38;5;34m48,515\u001b[0m (189.51 KB)\n"
      ]
     },
     "metadata": {},
     "output_type": "display_data"
    },
    {
     "data": {
      "text/html": [
       "<pre style=\"white-space:pre;overflow-x:auto;line-height:normal;font-family:Menlo,'DejaVu Sans Mono',consolas,'Courier New',monospace\"><span style=\"font-weight: bold\"> Non-trainable params: </span><span style=\"color: #00af00; text-decoration-color: #00af00\">256</span> (1.00 KB)\n",
       "</pre>\n"
      ],
      "text/plain": [
       "\u001b[1m Non-trainable params: \u001b[0m\u001b[38;5;34m256\u001b[0m (1.00 KB)\n"
      ]
     },
     "metadata": {},
     "output_type": "display_data"
    }
   ],
   "source": [
    "def build_model(input_shape=(8,8,12), l2w=1e-4, dp=0.4):\n",
    "    m = Sequential([\n",
    "        Conv2D(64, 3, padding='same', activation='relu', kernel_regularizer=l2(l2w), input_shape=input_shape),\n",
    "        BatchNormalization(),\n",
    "        Conv2D(64, 3, padding='same', activation='relu', kernel_regularizer=l2(l2w)),\n",
    "        BatchNormalization(),\n",
    "        Dropout(dp),\n",
    "        GlobalAveragePooling2D(),\n",
    "        Dense(64, activation='relu', kernel_regularizer=l2(l2w)),\n",
    "        Dropout(dp),\n",
    "        Dense(3, activation='softmax')\n",
    "    ])\n",
    "    m.compile(optimizer='adam', loss='categorical_crossentropy', metrics=['categorical_accuracy'])\n",
    "    return m\n",
    "\n",
    "model = build_model()\n",
    "model.summary()"
   ]
  },
  {
   "cell_type": "markdown",
   "metadata": {},
   "source": [
    "## Entrenamiento\n",
    "- EarlyStopping monitoriza `val_loss`.\n",
    "- ReduceLROnPlateau disminuye LR si no hay mejora."
   ]
  },
  {
   "cell_type": "code",
   "execution_count": 7,
   "metadata": {},
   "outputs": [
    {
     "name": "stdout",
     "output_type": "stream",
     "text": [
      "Epoch 1/30\n",
      "\u001b[1m782/782\u001b[0m \u001b[32m━━━━━━━━━━━━━━━━━━━━\u001b[0m\u001b[37m\u001b[0m \u001b[1m7s\u001b[0m 7ms/step - categorical_accuracy: 0.5094 - loss: 0.9892 - val_categorical_accuracy: 0.5230 - val_loss: 0.9907 - learning_rate: 0.0010\n",
      "Epoch 2/30\n",
      "\u001b[1m782/782\u001b[0m \u001b[32m━━━━━━━━━━━━━━━━━━━━\u001b[0m\u001b[37m\u001b[0m \u001b[1m5s\u001b[0m 7ms/step - categorical_accuracy: 0.5401 - loss: 0.9541 - val_categorical_accuracy: 0.5376 - val_loss: 0.9516 - learning_rate: 0.0010\n",
      "Epoch 3/30\n",
      "\u001b[1m782/782\u001b[0m \u001b[32m━━━━━━━━━━━━━━━━━━━━\u001b[0m\u001b[37m\u001b[0m \u001b[1m5s\u001b[0m 7ms/step - categorical_accuracy: 0.5459 - loss: 0.9405 - val_categorical_accuracy: 0.5400 - val_loss: 0.9520 - learning_rate: 0.0010\n",
      "Epoch 4/30\n",
      "\u001b[1m782/782\u001b[0m \u001b[32m━━━━━━━━━━━━━━━━━━━━\u001b[0m\u001b[37m\u001b[0m \u001b[1m5s\u001b[0m 7ms/step - categorical_accuracy: 0.5515 - loss: 0.9340 - val_categorical_accuracy: 0.5438 - val_loss: 0.9490 - learning_rate: 0.0010\n",
      "Epoch 5/30\n",
      "\u001b[1m782/782\u001b[0m \u001b[32m━━━━━━━━━━━━━━━━━━━━\u001b[0m\u001b[37m\u001b[0m \u001b[1m5s\u001b[0m 7ms/step - categorical_accuracy: 0.5575 - loss: 0.9265 - val_categorical_accuracy: 0.5538 - val_loss: 0.9381 - learning_rate: 0.0010\n",
      "Epoch 6/30\n",
      "\u001b[1m782/782\u001b[0m \u001b[32m━━━━━━━━━━━━━━━━━━━━\u001b[0m\u001b[37m\u001b[0m \u001b[1m5s\u001b[0m 7ms/step - categorical_accuracy: 0.5621 - loss: 0.9207 - val_categorical_accuracy: 0.5471 - val_loss: 0.9390 - learning_rate: 0.0010\n",
      "Epoch 7/30\n",
      "\u001b[1m782/782\u001b[0m \u001b[32m━━━━━━━━━━━━━━━━━━━━\u001b[0m\u001b[37m\u001b[0m \u001b[1m5s\u001b[0m 7ms/step - categorical_accuracy: 0.5649 - loss: 0.9174 - val_categorical_accuracy: 0.5358 - val_loss: 0.9552 - learning_rate: 0.0010\n",
      "Epoch 8/30\n",
      "\u001b[1m774/782\u001b[0m \u001b[32m━━━━━━━━━━━━━━━━━━━\u001b[0m\u001b[37m━\u001b[0m \u001b[1m0s\u001b[0m 6ms/step - categorical_accuracy: 0.5697 - loss: 0.9089\n",
      "Epoch 8: ReduceLROnPlateau reducing learning rate to 0.0005000000237487257.\n",
      "\u001b[1m782/782\u001b[0m \u001b[32m━━━━━━━━━━━━━━━━━━━━\u001b[0m\u001b[37m\u001b[0m \u001b[1m5s\u001b[0m 7ms/step - categorical_accuracy: 0.5689 - loss: 0.9120 - val_categorical_accuracy: 0.5365 - val_loss: 0.9646 - learning_rate: 0.0010\n",
      "Epoch 9/30\n",
      "\u001b[1m782/782\u001b[0m \u001b[32m━━━━━━━━━━━━━━━━━━━━\u001b[0m\u001b[37m\u001b[0m \u001b[1m5s\u001b[0m 6ms/step - categorical_accuracy: 0.5781 - loss: 0.8955 - val_categorical_accuracy: 0.5490 - val_loss: 0.9532 - learning_rate: 5.0000e-04\n",
      "Epoch 10/30\n",
      "\u001b[1m782/782\u001b[0m \u001b[32m━━━━━━━━━━━━━━━━━━━━\u001b[0m\u001b[37m\u001b[0m \u001b[1m5s\u001b[0m 6ms/step - categorical_accuracy: 0.5836 - loss: 0.8868 - val_categorical_accuracy: 0.5416 - val_loss: 0.9497 - learning_rate: 5.0000e-04\n",
      "Epoch 11/30\n",
      "\u001b[1m776/782\u001b[0m \u001b[32m━━━━━━━━━━━━━━━━━━━\u001b[0m\u001b[37m━\u001b[0m \u001b[1m0s\u001b[0m 6ms/step - categorical_accuracy: 0.5908 - loss: 0.8764\n",
      "Epoch 11: ReduceLROnPlateau reducing learning rate to 0.0002500000118743628.\n",
      "\u001b[1m782/782\u001b[0m \u001b[32m━━━━━━━━━━━━━━━━━━━━\u001b[0m\u001b[37m\u001b[0m \u001b[1m5s\u001b[0m 6ms/step - categorical_accuracy: 0.5877 - loss: 0.8809 - val_categorical_accuracy: 0.5485 - val_loss: 0.9452 - learning_rate: 5.0000e-04\n",
      "Epoch 11: early stopping\n",
      "Restoring model weights from the end of the best epoch: 5.\n"
     ]
    },
    {
     "data": {
      "image/png": "[encoded data removed]",
      "text/plain": [
       "<Figure size 1000x400 with 2 Axes>"
      ]
     },
     "metadata": {},
     "output_type": "display_data"
    }
   ],
   "source": [
    "early = EarlyStopping(monitor='val_loss', patience=6, restore_best_weights=True, verbose=1)\n",
    "rlr   = ReduceLROnPlateau(monitor='val_loss', factor=0.5, patience=3, min_lr=1e-5, verbose=1)\n",
    "\n",
    "history = model.fit(\n",
    "    X_train, y_train,\n",
    "    validation_data=(X_val, y_val),\n",
    "    epochs=30, batch_size=64,\n",
    "    callbacks=[early, rlr],\n",
    "    verbose=1\n",
    ")\n",
    "\n",
    "# Curvas de pérdida y accuracy\n",
    "fig, ax = plt.subplots(1,2, figsize=(10,4))\n",
    "ax[0].plot(history.history['loss'], label='train'); ax[0].plot(history.history['val_loss'], label='val'); ax[0].set_title('Loss'); ax[0].legend();\n",
    "ax[1].plot(history.history['categorical_accuracy'], label='train'); ax[1].plot(history.history['val_categorical_accuracy'], label='val'); ax[1].set_title('Accuracy'); ax[1].legend();\n",
    "plt.show()"
   ]
  },
  {
   "cell_type": "markdown",
   "metadata": {},
   "source": [
    "## Evaluación en Test\n",
    "- Reporte de clasificación y matriz de confusión."
   ]
  },
  {
   "cell_type": "code",
   "execution_count": 8,
   "metadata": {},
   "outputs": [
    {
     "name": "stdout",
     "output_type": "stream",
     "text": [
      "              precision    recall  f1-score   support\n",
      "\n",
      "      Blanca       0.44      0.53      0.48      2980\n",
      "      Empate       0.64      0.81      0.71      4812\n",
      "       Negra       0.44      0.07      0.11      2208\n",
      "\n",
      "    accuracy                           0.56     10000\n",
      "   macro avg       0.51      0.47      0.44     10000\n",
      "weighted avg       0.54      0.56      0.51     10000\n",
      "\n"
     ]
    },
    {
     "data": {
      "image/png": "[encoded data removed]",
      "text/plain": [
       "<Figure size 400x400 with 2 Axes>"
      ]
     },
     "metadata": {},
     "output_type": "display_data"
    }
   ],
   "source": [
    "pred = model.predict(X_test, verbose=0)\n",
    "y_true = np.argmax(y_test, axis=1)\n",
    "y_pred = np.argmax(pred, axis=1)\n",
    "\n",
    "print(classification_report(y_true, y_pred, target_names=['Blanca','Empate','Negra']))\n",
    "\n",
    "cm = confusion_matrix(y_true, y_pred)\n",
    "fig, ax = plt.subplots(figsize=(4,4))\n",
    "im = ax.imshow(cm, cmap='Blues')\n",
    "ax.set_xticks([0,1,2]); ax.set_yticks([0,1,2])\n",
    "ax.set_xticklabels(['B','=','N']); ax.set_yticklabels(['B','=', 'N'])\n",
    "for i in range(3):\n",
    "    for j in range(3):\n",
    "        ax.text(j, i, cm[i, j], ha='center', va='center')\n",
    "ax.set_title('Matriz de confusión')\n",
    "plt.colorbar(im); plt.tight_layout(); plt.show()"
   ]
  },
  {
   "cell_type": "markdown",
   "metadata": {},
   "source": [
    "## Notas finales\n",
    "- Este cuaderno estandariza el target y corrige la perspectiva, reduciendo ruido de etiquetado.\n",
    "- La arquitectura regularizada y GAP ayudan a disminuir el overfitting.\n",
    "- Ajusta `MAX_*` y el modelo según recursos; para mayores tamaños usa `tf.data` para streaming."
   ]
  }
 ],
 "metadata": {
  "kernelspec": {
   "display_name": "venv",
   "language": "python",
   "name": "python3"
  },
  "language_info": {
   "codemirror_mode": {
    "name": "ipython",
    "version": 3
   },
   "file_extension": ".py",
   "mimetype": "text/x-python",
   "name": "python",
   "nbconvert_exporter": "python",
   "pygments_lexer": "ipython3",
   "version": "3.12.10"
  }
 },
 "nbformat": 4,
 "nbformat_minor": 5
}
