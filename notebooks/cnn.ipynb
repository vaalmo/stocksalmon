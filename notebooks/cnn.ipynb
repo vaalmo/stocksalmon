{
 "cells": [
  {
   "cell_type": "code",
   "execution_count": 27,
   "id": "232edd5d",
   "metadata": {},
   "outputs": [],
   "source": [
    "import numpy as np # linear algebra\n",
    "import pandas as pd # data processing, CSV file I/O (e.g. pd.read_csv)\n",
    "from sklearn.model_selection import train_test_split\n",
    "from matplotlib import pyplot as plt\n",
    "\n",
    "from keras.models import Sequential\n",
    "from keras.layers import *\n",
    "from keras.callbacks import EarlyStopping\n",
    "\n",
    "from pathlib import Path\n",
    "import os\n",
    "\n",
    "DATA_DIR = Path('../data/processed')"
   ]
  },
  {
   "cell_type": "markdown",
   "id": "63db717f",
   "metadata": {},
   "source": [
    "Funciones adicionales:\n",
    "Estimar RAM"
   ]
  },
  {
   "cell_type": "code",
   "execution_count": 28,
   "id": "91935a18",
   "metadata": {},
   "outputs": [],
   "source": [
    "# === CONFIGURACIONES RECOMENDADAS ===\n",
    "\n",
    "# 🔴 RAM Limitada (8GB o menos)\n",
    "if \"limited_ram\":\n",
    "    SAMPLE_SIZE_FUNCTION_5 = 1_000      # Prueba rápida de funciones\n",
    "    MAX_TRAIN_SAMPLES = 25_000          # Entrenamiento básico\n",
    "    MAX_VAL_SAMPLES = 5_000             # Validación\n",
    "    MAX_TEST_SAMPLES = 2_000            # Evaluación\n",
    "\n",
    "# 🟡 RAM Moderada (16GB)\n",
    "elif \"moderate_ram\":\n",
    "    SAMPLE_SIZE_FUNCTION_5 = 5_000      # Prueba más robusta\n",
    "    MAX_TRAIN_SAMPLES = 100_000         # ~0.4GB\n",
    "    MAX_VAL_SAMPLES = 20_000            # ~80MB\n",
    "    MAX_TEST_SAMPLES = 10_000           # ~40MB\n",
    "\n",
    "# 🟢 RAM Alta (32GB+)\n",
    "elif \"high_ram\":\n",
    "    SAMPLE_SIZE_FUNCTION_5 = 10_000     # Prueba completa\n",
    "    MAX_TRAIN_SAMPLES = 500_000         # ~2GB\n",
    "    MAX_VAL_SAMPLES = 100_000           # ~400MB\n",
    "    MAX_TEST_SAMPLES = 50_000           # ~200MB\n",
    "\n",
    "# 🚀 Workstation/Servidor (64GB+)\n",
    "elif \"server_ram\":\n",
    "    SAMPLE_SIZE_FUNCTION_5 = 25_000     # Prueba exhaustiva\n",
    "    MAX_TRAIN_SAMPLES = 2_000_000       # ~8GB\n",
    "    MAX_VAL_SAMPLES = 400_000           # ~1.6GB\n",
    "    MAX_TEST_SAMPLES = 200_000          # ~800MB"
   ]
  },
  {
   "cell_type": "code",
   "execution_count": 29,
   "id": "fb355af2",
   "metadata": {},
   "outputs": [
    {
     "name": "stdout",
     "output_type": "stream",
     "text": [
      "10,000 muestras ≈ 0.04 GB de RAM\n",
      "50,000 muestras ≈ 0.19 GB de RAM\n",
      "100,000 muestras ≈ 0.38 GB de RAM\n",
      "250,000 muestras ≈ 0.95 GB de RAM\n",
      "500,000 muestras ≈ 1.91 GB de RAM\n",
      "1,000,000 muestras ≈ 3.81 GB de RAM\n"
     ]
    }
   ],
   "source": [
    "# Cálculo aproximado de memoria por posición\n",
    "# Una posición = (8, 8, 12) float32 = 768 * 4 bytes = 3,072 bytes ≈ 3KB\n",
    "# Más arrays auxiliares y overhead ≈ 4KB por posición\n",
    "\n",
    "def estimate_memory_usage(n_samples):\n",
    "    \"\"\"Estima uso de memoria en GB para n_samples posiciones\"\"\"\n",
    "    bytes_per_sample = 4 * 1024  # 4KB por posición (aprox)\n",
    "    total_bytes = n_samples * bytes_per_sample\n",
    "    gb_usage = total_bytes / (1024**3)\n",
    "    return gb_usage\n",
    "\n",
    "# Ejemplos de uso de memoria\n",
    "sample_sizes = [10_000, 50_000, 100_000, 250_000, 500_000, 1_000_000]\n",
    "for size in sample_sizes:\n",
    "    memory_gb = estimate_memory_usage(size)\n",
    "    print(f\"{size:,} muestras ≈ {memory_gb:.2f} GB de RAM\")"
   ]
  },
  {
   "cell_type": "code",
   "execution_count": 30,
   "id": "3f7aea9d",
   "metadata": {},
   "outputs": [
    {
     "name": "stdout",
     "output_type": "stream",
     "text": [
      "RAM Total: 39.6 GB\n",
      "RAM Disponible: 16.3 GB\n",
      "\n",
      "🎯 Configuración recomendada: HIGH\n",
      "  function_5_sample: 10,000\n",
      "  max_train: 200,000\n",
      "  max_val: 40,000\n",
      "  max_test: 20,000\n",
      "  batch_size: 128\n"
     ]
    }
   ],
   "source": [
    "import psutil\n",
    "import gc\n",
    "\n",
    "# === FUNCIÓN: Detección automática de RAM ===\n",
    "def get_optimal_sample_sizes():\n",
    "    \"\"\"\n",
    "    Detecta RAM disponible y sugiere tamaños de muestra óptimos.\n",
    "    \n",
    "    Returns:\n",
    "        dict: Tamaños recomendados por función\n",
    "    \"\"\"\n",
    "    # Obtener RAM total en GB\n",
    "    total_ram_gb = psutil.virtual_memory().total / (1024**3)\n",
    "    available_ram_gb = psutil.virtual_memory().available / (1024**3)\n",
    "    \n",
    "    print(f\"RAM Total: {total_ram_gb:.1f} GB\")\n",
    "    print(f\"RAM Disponible: {available_ram_gb:.1f} GB\")\n",
    "    \n",
    "    # Configurar según RAM disponible\n",
    "    if available_ram_gb < 4:\n",
    "        config = \"limited\"\n",
    "        sizes = {\n",
    "            \"function_5_sample\": 500,\n",
    "            \"max_train\": 10_000,\n",
    "            \"max_val\": 2_000,\n",
    "            \"max_test\": 1_000,\n",
    "            \"batch_size\": 16\n",
    "        }\n",
    "    elif available_ram_gb < 8:\n",
    "        config = \"basic\"  \n",
    "        sizes = {\n",
    "            \"function_5_sample\": 2_000,\n",
    "            \"max_train\": 25_000,\n",
    "            \"max_val\": 5_000,\n",
    "            \"max_test\": 2_500,\n",
    "            \"batch_size\": 32\n",
    "        }\n",
    "    elif available_ram_gb < 16:\n",
    "        config = \"moderate\"\n",
    "        sizes = {\n",
    "            \"function_5_sample\": 5_000,\n",
    "            \"max_train\": 75_000,\n",
    "            \"max_val\": 15_000,\n",
    "            \"max_test\": 7_500,\n",
    "            \"batch_size\": 64\n",
    "        }\n",
    "    elif available_ram_gb < 32:\n",
    "        config = \"high\"\n",
    "        sizes = {\n",
    "            \"function_5_sample\": 10_000,\n",
    "            \"max_train\": 200_000,\n",
    "            \"max_val\": 40_000,\n",
    "            \"max_test\": 20_000,\n",
    "            \"batch_size\": 128\n",
    "        }\n",
    "    else:\n",
    "        config = \"server\"\n",
    "        sizes = {\n",
    "            \"function_5_sample\": 25_000,\n",
    "            \"max_train\": 800_000,\n",
    "            \"max_val\": 150_000,\n",
    "            \"max_test\": 75_000,\n",
    "            \"batch_size\": 256\n",
    "        }\n",
    "    \n",
    "    print(f\"\\n🎯 Configuración recomendada: {config.upper()}\")\n",
    "    for key, value in sizes.items():\n",
    "        print(f\"  {key}: {value:,}\")\n",
    "    \n",
    "    return sizes\n",
    "\n",
    "# Obtener configuración óptima\n",
    "optimal_sizes = get_optimal_sample_sizes()"
   ]
  },
  {
   "cell_type": "code",
   "execution_count": 31,
   "id": "2dc4e4f3",
   "metadata": {},
   "outputs": [
    {
     "name": "stdout",
     "output_type": "stream",
     "text": [
      "Datos de entrenamiento: 11,610,568 posiciones\n",
      "Datos de validación: 3,317,307 posiciones\n",
      "Datos de prueba: 1,658,652 posiciones\n"
     ]
    }
   ],
   "source": [
    "chess_train_df = pd.read_parquet(DATA_DIR / 'training_data.parquet')\n",
    "chess_validation_df = pd.read_parquet(DATA_DIR / 'validation_data.parquet')\n",
    "chess_test_df = pd.read_parquet(DATA_DIR / 'testing_data.parquet')\n",
    "\n",
    "print(f\"Datos de entrenamiento: {len(chess_train_df):,} posiciones\")\n",
    "print(f\"Datos de validación: {len(chess_validation_df):,} posiciones\")\n",
    "print(f\"Datos de prueba: {len(chess_test_df):,} posiciones\")"
   ]
  },
  {
   "cell_type": "code",
   "execution_count": 32,
   "id": "1a0ef9b0",
   "metadata": {},
   "outputs": [
    {
     "name": "stdout",
     "output_type": "stream",
     "text": [
      "Mapeo de piezas: {'P': 0, 'N': 1, 'B': 2, 'R': 3, 'Q': 4, 'K': 5}\n"
     ]
    }
   ],
   "source": [
    "def create_piece_mapping():\n",
    "    \"\"\"\n",
    "    Crea un mapeo de piezas de ajedrez a índices numéricos.\n",
    "    \n",
    "    Returns:\n",
    "        dict: Mapeo de símbolo de pieza -> índice (0-5)\n",
    "              P=0, N=1, B=2, R=3, Q=4, K=5\n",
    "    \"\"\"\n",
    "    piece_symbols = [\"P\", \"N\", \"B\", \"R\", \"Q\", \"K\"]  # Peón, Caballo, Alfil, Torre, Dama, Rey\n",
    "    piece_to_index = {piece: idx for idx, piece in enumerate(piece_symbols)}\n",
    "    return piece_to_index\n",
    "\n",
    "piece_mapping = create_piece_mapping()\n",
    "print(\"Mapeo de piezas:\", piece_mapping)"
   ]
  },
  {
   "cell_type": "code",
   "execution_count": 33,
   "id": "475ed86c",
   "metadata": {},
   "outputs": [
    {
     "name": "stdout",
     "output_type": "stream",
     "text": [
      "Fila parseada tiene 8 casillas\n",
      "Primera casilla (torre negra): [0, 0, 0, 0, 0, 0, 0, 0, 0, 1, 0, 0]\n"
     ]
    }
   ],
   "source": [
    "# === FUNCIÓN 2: Parser de fila del tablero ===\n",
    "def parse_board_row(row_string, piece_mapping):\n",
    "    \"\"\"\n",
    "    Convierte una fila FEN en representación one-hot de 8x12.\n",
    "    \n",
    "    Args:\n",
    "        row_string (str): Fila del FEN (ej: \"rnbqkbnr\" o \"pppppppp\" o \"8\")\n",
    "        piece_mapping (dict): Mapeo pieza -> índice\n",
    "        \n",
    "    Returns:\n",
    "        list: Lista de 8 casillas, cada una con vector de 12 elementos\n",
    "              [6 piezas blancas + 6 piezas negras] en one-hot\n",
    "              \n",
    "    Explicación del encoding:\n",
    "    - Cada casilla = vector de 12 elementos [P,N,B,R,Q,K,p,n,b,r,q,k]\n",
    "    - Mayúscula = pieza blanca (índices 0-5)\n",
    "    - Minúscula = pieza negra (índices 6-11)\n",
    "    - Número = casillas vacías consecutivas\n",
    "    \"\"\"\n",
    "    row_squares = []\n",
    "    \n",
    "    for char in row_string:\n",
    "        # Vector de 12 ceros para cada casilla (6 blancas + 6 negras)\n",
    "        square_vector = [0] * (len(piece_mapping) * 2)\n",
    "        \n",
    "        if char in piece_mapping:  # Pieza blanca (mayúscula)\n",
    "            square_vector[piece_mapping[char]] = 1\n",
    "        elif char.upper() in piece_mapping:  # Pieza negra (minúscula)\n",
    "            square_vector[piece_mapping[char.upper()] + len(piece_mapping)] = 1\n",
    "        \n",
    "        # Manejo de números (casillas vacías)\n",
    "        num_empty_squares = int(char) if char.isdigit() else 1\n",
    "        \n",
    "        for _ in range(num_empty_squares):\n",
    "            row_squares.append(square_vector.copy())\n",
    "    \n",
    "    return row_squares\n",
    "\n",
    "# Prueba de la función\n",
    "test_row = parse_board_row(\"rnbqkbnr\", piece_mapping)\n",
    "print(f\"Fila parseada tiene {len(test_row)} casillas\")\n",
    "print(f\"Primera casilla (torre negra): {test_row[0]}\")"
   ]
  },
  {
   "cell_type": "code",
   "execution_count": 34,
   "id": "bec979d6",
   "metadata": {},
   "outputs": [
    {
     "name": "stdout",
     "output_type": "stream",
     "text": [
      "Tensor del tablero: (8, 8, 12)\n",
      "¿Le toca a negras? False\n"
     ]
    }
   ],
   "source": [
    "# === FUNCIÓN 3: Parser completo de FEN ===\n",
    "def parse_fen_to_tensor(fen_string, piece_mapping):\n",
    "    \"\"\"\n",
    "    Convierte una posición FEN completa en tensor 8x8x12.\n",
    "    \n",
    "    Args:\n",
    "        fen_string (str): Posición FEN completa\n",
    "        piece_mapping (dict): Mapeo pieza -> índice\n",
    "        \n",
    "    Returns:\n",
    "        tuple: (board_tensor, is_black_turn)\n",
    "               - board_tensor: np.array shape (8,8,12)\n",
    "               - is_black_turn: bool, True si le toca a negras\n",
    "               \n",
    "    Explicación de la normalización por turno:\n",
    "    - Si le toca a negras, se invierte el tablero (flip vertical + swap colors)\n",
    "    - Esto hace que la CNN siempre vea desde perspectiva del jugador activo\n",
    "    \"\"\"\n",
    "    fen_parts = fen_string.split(\" \")\n",
    "    board_position = fen_parts[0]  # Solo la posición, no el turno ni otros datos\n",
    "    active_color = fen_parts[1] if len(fen_parts) > 1 else 'w'\n",
    "    \n",
    "    is_black_turn = (active_color == \"b\")\n",
    "    \n",
    "    # Si le toca a negras, invertir colores para normalizar perspectiva\n",
    "    if is_black_turn:\n",
    "        # Invertir colores: mayúscula<->minúscula y reversa del string\n",
    "        board_position = \"\".join(reversed(board_position.swapcase()))\n",
    "    \n",
    "    # Parsear cada fila (separadas por \"/\")\n",
    "    board_rows = [parse_board_row(row, piece_mapping) for row in board_position.split(\"/\")]\n",
    "    board_tensor = np.array(board_rows)\n",
    "    \n",
    "    return board_tensor, is_black_turn\n",
    "\n",
    "# Prueba con posición inicial\n",
    "initial_fen = \"rnbqkbnr/pppppppp/8/8/8/8/PPPPPPPP/RNBQKBNR w KQkq - 0 1\"\n",
    "board_tensor, is_black = parse_fen_to_tensor(initial_fen, piece_mapping)\n",
    "print(f\"Tensor del tablero: {board_tensor.shape}\")\n",
    "print(f\"¿Le toca a negras? {is_black}\")"
   ]
  },
  {
   "cell_type": "code",
   "execution_count": 35,
   "id": "ddd8614c",
   "metadata": {},
   "outputs": [
    {
     "name": "stdout",
     "output_type": "stream",
     "text": [
      "Evaluación '#3' -> Clase 1\n",
      "Evaluación '2.5' -> Clase 1\n",
      "Evaluación '0.1' -> Clase 1\n",
      "Evaluación '-1.8' -> Clase 1\n",
      "Evaluación '#-2' -> Clase 1\n"
     ]
    }
   ],
   "source": [
    "# === FUNCIÓN 4: Parser de evaluaciones ===\n",
    "def parse_evaluation_to_class(evaluation_string):\n",
    "    \"\"\"\n",
    "    Convierte evaluación de Stockfish a clases: [Ventaja Blanca, Empate, Ventaja Negra].\n",
    "    \n",
    "    Args:\n",
    "        evaluation_string (str): Evaluación (\"#3\", \"0.5\", \"-2.1\", etc.)\n",
    "        \n",
    "    Returns:\n",
    "        int: 0=VentajaBlanca (>+1.5), 1=Empate (±1.5), 2=VentajaNegra (<-1.5)\n",
    "        \n",
    "    Explicación de umbrales:\n",
    "    - Mate (#): se convierte a ±15.0 (muy alto)\n",
    "    - >+1.5: ventaja significativa para blancas (clase 0)\n",
    "    - [-1.5, +1.5]: posición equilibrada (clase 1) \n",
    "    - <-1.5: ventaja significativa para negras (clase 2)\n",
    "    \"\"\"\n",
    "    eval_str = evaluation_string.strip()\n",
    "    \n",
    "    # Manejo de mates (formato #N o M±N)\n",
    "    if eval_str.startswith(\"#\"):\n",
    "        mate_value = eval_str[1:] + \"0\"  # \"#3\" -> \"30\" \n",
    "        eval_numeric = float(mate_value)\n",
    "    else:\n",
    "        eval_numeric = float(eval_str)\n",
    "    \n",
    "    # Umbrales de clasificación (en pawns/centipawns)\n",
    "    WHITE_ADVANTAGE_THRESHOLD = 150  # +1.5 pawns\n",
    "    BLACK_ADVANTAGE_THRESHOLD = -150  # -1.5 pawns\n",
    "    \n",
    "    if eval_numeric > WHITE_ADVANTAGE_THRESHOLD:\n",
    "        return 0  # Ventaja blanca\n",
    "    elif eval_numeric < BLACK_ADVANTAGE_THRESHOLD:\n",
    "        return 2  # Ventaja negra\n",
    "    else:\n",
    "        return 1  # Empate/equilibrado\n",
    "\n",
    "# Pruebas\n",
    "test_evals = [\"#3\", \"2.5\", \"0.1\", \"-1.8\", \"#-2\"]\n",
    "for eval_test in test_evals:\n",
    "    class_result = parse_evaluation_to_class(eval_test)\n",
    "    print(f\"Evaluación '{eval_test}' -> Clase {class_result}\")"
   ]
  },
  {
   "cell_type": "code",
   "execution_count": 36,
   "id": "c260887a",
   "metadata": {},
   "outputs": [
    {
     "name": "stdout",
     "output_type": "stream",
     "text": [
      "Aplicando preprocessing a 10,000 muestras...\n",
      "Posiciones procesadas: 10,000\n"
     ]
    }
   ],
   "source": [
    "# === FUNCIÓN 5: Preprocessor completo ===\n",
    "def preprocess_chess_position(row_data, piece_mapping):\n",
    "    \"\"\"\n",
    "    Procesa una fila completa: FEN -> tensor + evaluación -> one-hot.\n",
    "    \n",
    "    Args:\n",
    "        row_data (pd.Series): Fila con columnas ['FEN', 'Evaluation']\n",
    "        piece_mapping (dict): Mapeo de piezas\n",
    "        \n",
    "    Returns:\n",
    "        tuple: (board_tensor, evaluation_onehot)\n",
    "               - board_tensor: (8,8,12) posición del tablero\n",
    "               - evaluation_onehot: (3,) vector one-hot de la clase\n",
    "    \"\"\"\n",
    "    fen_string = row_data.iloc[0]  # Asumiendo que FEN está en primera columna\n",
    "    eval_string = row_data.iloc[1]  # Evaluación en segunda columna\n",
    "    \n",
    "    # Procesar posición\n",
    "    board_tensor, is_black_turn = parse_fen_to_tensor(fen_string, piece_mapping)\n",
    "    \n",
    "    # Procesar evaluación\n",
    "    eval_class = parse_evaluation_to_class(eval_string)\n",
    "    \n",
    "    # Si le toca a negras, invertir la evaluación\n",
    "    if is_black_turn:\n",
    "        eval_class = 2 - eval_class  # 0->2, 1->1, 2->0\n",
    "    \n",
    "    # Convertir a one-hot\n",
    "    evaluation_onehot = np.zeros(3)\n",
    "    evaluation_onehot[eval_class] = 1\n",
    "    \n",
    "    return board_tensor, evaluation_onehot\n",
    "\n",
    "# Aplicar preprocessing\n",
    "SAMPLE_SIZE = optimal_sizes[\"function_5_sample\"]\n",
    "sample_train_data = chess_train_df.head(SAMPLE_SIZE).copy()\n",
    "\n",
    "print(f\"Aplicando preprocessing a {SAMPLE_SIZE:,} muestras...\")\n",
    "processed_positions = []\n",
    "processed_evaluations = []\n",
    "\n",
    "for idx, row in sample_train_data.iterrows():\n",
    "    try:\n",
    "        board_tensor, eval_onehot = preprocess_chess_position(row, piece_mapping)\n",
    "        processed_positions.append(board_tensor)\n",
    "        processed_evaluations.append(eval_onehot)\n",
    "    except Exception as e:\n",
    "        print(f\"Error procesando fila {idx}: {e}\")\n",
    "\n",
    "print(f\"Posiciones procesadas: {len(processed_positions):,}\")"
   ]
  },
  {
   "cell_type": "code",
   "execution_count": 37,
   "id": "b977a205",
   "metadata": {},
   "outputs": [
    {
     "name": "stdout",
     "output_type": "stream",
     "text": [
      "Procesando 200,000 posiciones...\n",
      "Memoria estimada necesaria: 0.76 GB\n",
      "Chunk 1/20: filas 0-10,000\n",
      "Chunk 2/20: filas 10,000-20,000\n",
      "Chunk 3/20: filas 20,000-30,000\n",
      "Chunk 4/20: filas 30,000-40,000\n",
      "Chunk 5/20: filas 40,000-50,000\n",
      "Chunk 6/20: filas 50,000-60,000\n",
      "Chunk 7/20: filas 60,000-70,000\n",
      "Chunk 8/20: filas 70,000-80,000\n",
      "Chunk 9/20: filas 80,000-90,000\n",
      "Chunk 10/20: filas 90,000-100,000\n",
      "Chunk 11/20: filas 100,000-110,000\n",
      "Chunk 12/20: filas 110,000-120,000\n",
      "Chunk 13/20: filas 120,000-130,000\n",
      "Chunk 14/20: filas 130,000-140,000\n",
      "Chunk 15/20: filas 140,000-150,000\n",
      "Chunk 16/20: filas 150,000-160,000\n",
      "Chunk 17/20: filas 160,000-170,000\n",
      "Chunk 18/20: filas 170,000-180,000\n",
      "Chunk 19/20: filas 180,000-190,000\n",
      "Chunk 20/20: filas 190,000-200,000\n",
      "Arrays finales - X: (200000, 8, 8, 12), y: (200000, 3)\n",
      "Procesando 40,000 posiciones...\n",
      "Memoria estimada necesaria: 0.15 GB\n",
      "Chunk 1/4: filas 0-10,000\n",
      "Chunk 2/4: filas 10,000-20,000\n",
      "Chunk 3/4: filas 20,000-30,000\n",
      "Chunk 4/4: filas 30,000-40,000\n",
      "Arrays finales - X: (40000, 8, 8, 12), y: (40000, 3)\n",
      "\n",
      "Datos listos para entrenamiento:\n",
      "X_train: (200000, 8, 8, 12), y_train: (200000, 3)\n",
      "X_val: (40000, 8, 8, 12), y_val: (40000, 3)\n"
     ]
    }
   ],
   "source": [
    "# === FUNCIÓN 6: Creación de arrays de entrenamiento ===\n",
    "def create_training_arrays(dataframe, piece_mapping, max_samples=None):\n",
    "    \"\"\"\n",
    "    Convierte DataFrame completo en arrays X, y listos para CNN.\n",
    "    \n",
    "    Args:\n",
    "        dataframe (pd.DataFrame): Datos con columnas FEN y Evaluation\n",
    "        piece_mapping (dict): Mapeo de piezas\n",
    "        max_samples (int, optional): Límite de muestras para evitar memoria\n",
    "        \n",
    "    Returns:\n",
    "        tuple: (X_array, y_array)\n",
    "               - X_array: (N, 8, 8, 12) tensores de posiciones\n",
    "               - y_array: (N, 3) evaluaciones one-hot\n",
    "    \"\"\"\n",
    "    if max_samples:\n",
    "        dataframe = dataframe.head(max_samples)\n",
    "        \n",
    "    n_total = len(dataframe)\n",
    "    positions_list = []\n",
    "    evaluations_list = []\n",
    "    \n",
    "    print(f\"Procesando {n_total:,} posiciones...\")\n",
    "    print(f\"Memoria estimada necesaria: {estimate_memory_usage(n_total):.2f} GB\")\n",
    "    \n",
    "    # Procesar en chunks para evitar problemas de memoria\n",
    "    chunk_size = min(10_000, n_total)\n",
    "    n_chunks = (n_total + chunk_size - 1) // chunk_size\n",
    "    \n",
    "    for chunk_idx in range(n_chunks):\n",
    "        start_idx = chunk_idx * chunk_size\n",
    "        end_idx = min(start_idx + chunk_size, n_total)\n",
    "        chunk_df = dataframe.iloc[start_idx:end_idx]\n",
    "        \n",
    "        print(f\"Chunk {chunk_idx+1}/{n_chunks}: filas {start_idx:,}-{end_idx:,}\")\n",
    "        \n",
    "        for idx, row in chunk_df.iterrows():\n",
    "            try:\n",
    "                board_tensor, eval_onehot = preprocess_chess_position(row, piece_mapping)\n",
    "                positions_list.append(board_tensor)\n",
    "                evaluations_list.append(eval_onehot)\n",
    "            except Exception as e:\n",
    "                print(f\"Error en fila {idx}: {e}\")\n",
    "                continue\n",
    "        \n",
    "        # Limpiar memoria cada chunk\n",
    "        gc.collect()\n",
    "    \n",
    "    X_array = np.stack(positions_list, axis=0)\n",
    "    y_array = np.stack(evaluations_list, axis=0)\n",
    "    \n",
    "    print(f\"Arrays finales - X: {X_array.shape}, y: {y_array.shape}\")\n",
    "    return X_array, y_array\n",
    "\n",
    "# Crear arrays con tamaños optimizados\n",
    "X_train, y_train = create_training_arrays(\n",
    "    chess_train_df, piece_mapping, optimal_sizes[\"max_train\"]\n",
    ")\n",
    "X_val, y_val = create_training_arrays(\n",
    "    chess_validation_df, piece_mapping, optimal_sizes[\"max_val\"]\n",
    ")\n",
    "\n",
    "print(f\"\\nDatos listos para entrenamiento:\")\n",
    "print(f\"X_train: {X_train.shape}, y_train: {y_train.shape}\")\n",
    "print(f\"X_val: {X_val.shape}, y_val: {y_val.shape}\")"
   ]
  },
  {
   "cell_type": "code",
   "execution_count": 38,
   "id": "6cff992d",
   "metadata": {},
   "outputs": [
    {
     "name": "stdout",
     "output_type": "stream",
     "text": [
      "Distribución de clases en entrenamiento:\n",
      "Clase 0 (Ventaja Blanca): 56,258 (28.1%)\n",
      "Clase 1 (Empate): 101,504 (50.8%)\n",
      "Clase 2 (Ventaja Negra): 42,238 (21.1%)\n"
     ]
    }
   ],
   "source": [
    "# === Verificar distribución de clases ===\n",
    "class_counts = np.sum(y_train, axis=0)\n",
    "class_percentages = class_counts / len(y_train) * 100\n",
    "\n",
    "print(\"Distribución de clases en entrenamiento:\")\n",
    "print(f\"Clase 0 (Ventaja Blanca): {class_counts[0]:,.0f} ({class_percentages[0]:.1f}%)\")\n",
    "print(f\"Clase 1 (Empate): {class_counts[1]:,.0f} ({class_percentages[1]:.1f}%)\")\n",
    "print(f\"Clase 2 (Ventaja Negra): {class_counts[2]:,.0f} ({class_percentages[2]:.1f}%)\")"
   ]
  },
  {
   "cell_type": "code",
   "execution_count": 39,
   "id": "73dd589a",
   "metadata": {},
   "outputs": [
    {
     "name": "stderr",
     "output_type": "stream",
     "text": [
      "c:\\Users\\ASUS\\Desktop\\stocksalmon\\venv\\Lib\\site-packages\\keras\\src\\layers\\convolutional\\base_conv.py:113: UserWarning: Do not pass an `input_shape`/`input_dim` argument to a layer. When using Sequential models, prefer using an `Input(shape)` object as the first layer in the model instead.\n",
      "  super().__init__(activity_regularizer=activity_regularizer, **kwargs)\n"
     ]
    },
    {
     "data": {
      "text/html": [
       "<pre style=\"white-space:pre;overflow-x:auto;line-height:normal;font-family:Menlo,'DejaVu Sans Mono',consolas,'Courier New',monospace\"><span style=\"font-weight: bold\">Model: \"sequential_2\"</span>\n",
       "</pre>\n"
      ],
      "text/plain": [
       "\u001b[1mModel: \"sequential_2\"\u001b[0m\n"
      ]
     },
     "metadata": {},
     "output_type": "display_data"
    },
    {
     "data": {
      "text/html": [
       "<pre style=\"white-space:pre;overflow-x:auto;line-height:normal;font-family:Menlo,'DejaVu Sans Mono',consolas,'Courier New',monospace\">┏━━━━━━━━━━━━━━━━━━━━━━━━━━━━━━━━━┳━━━━━━━━━━━━━━━━━━━━━━━━┳━━━━━━━━━━━━━━━┓\n",
       "┃<span style=\"font-weight: bold\"> Layer (type)                    </span>┃<span style=\"font-weight: bold\"> Output Shape           </span>┃<span style=\"font-weight: bold\">       Param # </span>┃\n",
       "┡━━━━━━━━━━━━━━━━━━━━━━━━━━━━━━━━━╇━━━━━━━━━━━━━━━━━━━━━━━━╇━━━━━━━━━━━━━━━┩\n",
       "│ conv_patterns (<span style=\"color: #0087ff; text-decoration-color: #0087ff\">Conv2D</span>)          │ (<span style=\"color: #00d7ff; text-decoration-color: #00d7ff\">None</span>, <span style=\"color: #00af00; text-decoration-color: #00af00\">8</span>, <span style=\"color: #00af00; text-decoration-color: #00af00\">8</span>, <span style=\"color: #00af00; text-decoration-color: #00af00\">250</span>)      │        <span style=\"color: #00af00; text-decoration-color: #00af00\">75,250</span> │\n",
       "├─────────────────────────────────┼────────────────────────┼───────────────┤\n",
       "│ conv_refined (<span style=\"color: #0087ff; text-decoration-color: #0087ff\">Conv2D</span>)           │ (<span style=\"color: #00d7ff; text-decoration-color: #00d7ff\">None</span>, <span style=\"color: #00af00; text-decoration-color: #00af00\">8</span>, <span style=\"color: #00af00; text-decoration-color: #00af00\">8</span>, <span style=\"color: #00af00; text-decoration-color: #00af00\">150</span>)      │       <span style=\"color: #00af00; text-decoration-color: #00af00\">937,650</span> │\n",
       "├─────────────────────────────────┼────────────────────────┼───────────────┤\n",
       "│ flatten (<span style=\"color: #0087ff; text-decoration-color: #0087ff\">Flatten</span>)               │ (<span style=\"color: #00d7ff; text-decoration-color: #00d7ff\">None</span>, <span style=\"color: #00af00; text-decoration-color: #00af00\">9600</span>)           │             <span style=\"color: #00af00; text-decoration-color: #00af00\">0</span> │\n",
       "├─────────────────────────────────┼────────────────────────┼───────────────┤\n",
       "│ dense_features (<span style=\"color: #0087ff; text-decoration-color: #0087ff\">Dense</span>)          │ (<span style=\"color: #00d7ff; text-decoration-color: #00d7ff\">None</span>, <span style=\"color: #00af00; text-decoration-color: #00af00\">32</span>)             │       <span style=\"color: #00af00; text-decoration-color: #00af00\">307,232</span> │\n",
       "├─────────────────────────────────┼────────────────────────┼───────────────┤\n",
       "│ output_classification (<span style=\"color: #0087ff; text-decoration-color: #0087ff\">Dense</span>)   │ (<span style=\"color: #00d7ff; text-decoration-color: #00d7ff\">None</span>, <span style=\"color: #00af00; text-decoration-color: #00af00\">3</span>)              │            <span style=\"color: #00af00; text-decoration-color: #00af00\">99</span> │\n",
       "└─────────────────────────────────┴────────────────────────┴───────────────┘\n",
       "</pre>\n"
      ],
      "text/plain": [
       "┏━━━━━━━━━━━━━━━━━━━━━━━━━━━━━━━━━┳━━━━━━━━━━━━━━━━━━━━━━━━┳━━━━━━━━━━━━━━━┓\n",
       "┃\u001b[1m \u001b[0m\u001b[1mLayer (type)                   \u001b[0m\u001b[1m \u001b[0m┃\u001b[1m \u001b[0m\u001b[1mOutput Shape          \u001b[0m\u001b[1m \u001b[0m┃\u001b[1m \u001b[0m\u001b[1m      Param #\u001b[0m\u001b[1m \u001b[0m┃\n",
       "┡━━━━━━━━━━━━━━━━━━━━━━━━━━━━━━━━━╇━━━━━━━━━━━━━━━━━━━━━━━━╇━━━━━━━━━━━━━━━┩\n",
       "│ conv_patterns (\u001b[38;5;33mConv2D\u001b[0m)          │ (\u001b[38;5;45mNone\u001b[0m, \u001b[38;5;34m8\u001b[0m, \u001b[38;5;34m8\u001b[0m, \u001b[38;5;34m250\u001b[0m)      │        \u001b[38;5;34m75,250\u001b[0m │\n",
       "├─────────────────────────────────┼────────────────────────┼───────────────┤\n",
       "│ conv_refined (\u001b[38;5;33mConv2D\u001b[0m)           │ (\u001b[38;5;45mNone\u001b[0m, \u001b[38;5;34m8\u001b[0m, \u001b[38;5;34m8\u001b[0m, \u001b[38;5;34m150\u001b[0m)      │       \u001b[38;5;34m937,650\u001b[0m │\n",
       "├─────────────────────────────────┼────────────────────────┼───────────────┤\n",
       "│ flatten (\u001b[38;5;33mFlatten\u001b[0m)               │ (\u001b[38;5;45mNone\u001b[0m, \u001b[38;5;34m9600\u001b[0m)           │             \u001b[38;5;34m0\u001b[0m │\n",
       "├─────────────────────────────────┼────────────────────────┼───────────────┤\n",
       "│ dense_features (\u001b[38;5;33mDense\u001b[0m)          │ (\u001b[38;5;45mNone\u001b[0m, \u001b[38;5;34m32\u001b[0m)             │       \u001b[38;5;34m307,232\u001b[0m │\n",
       "├─────────────────────────────────┼────────────────────────┼───────────────┤\n",
       "│ output_classification (\u001b[38;5;33mDense\u001b[0m)   │ (\u001b[38;5;45mNone\u001b[0m, \u001b[38;5;34m3\u001b[0m)              │            \u001b[38;5;34m99\u001b[0m │\n",
       "└─────────────────────────────────┴────────────────────────┴───────────────┘\n"
      ]
     },
     "metadata": {},
     "output_type": "display_data"
    },
    {
     "data": {
      "text/html": [
       "<pre style=\"white-space:pre;overflow-x:auto;line-height:normal;font-family:Menlo,'DejaVu Sans Mono',consolas,'Courier New',monospace\"><span style=\"font-weight: bold\"> Total params: </span><span style=\"color: #00af00; text-decoration-color: #00af00\">1,320,231</span> (5.04 MB)\n",
       "</pre>\n"
      ],
      "text/plain": [
       "\u001b[1m Total params: \u001b[0m\u001b[38;5;34m1,320,231\u001b[0m (5.04 MB)\n"
      ]
     },
     "metadata": {},
     "output_type": "display_data"
    },
    {
     "data": {
      "text/html": [
       "<pre style=\"white-space:pre;overflow-x:auto;line-height:normal;font-family:Menlo,'DejaVu Sans Mono',consolas,'Courier New',monospace\"><span style=\"font-weight: bold\"> Trainable params: </span><span style=\"color: #00af00; text-decoration-color: #00af00\">1,320,231</span> (5.04 MB)\n",
       "</pre>\n"
      ],
      "text/plain": [
       "\u001b[1m Trainable params: \u001b[0m\u001b[38;5;34m1,320,231\u001b[0m (5.04 MB)\n"
      ]
     },
     "metadata": {},
     "output_type": "display_data"
    },
    {
     "data": {
      "text/html": [
       "<pre style=\"white-space:pre;overflow-x:auto;line-height:normal;font-family:Menlo,'DejaVu Sans Mono',consolas,'Courier New',monospace\"><span style=\"font-weight: bold\"> Non-trainable params: </span><span style=\"color: #00af00; text-decoration-color: #00af00\">0</span> (0.00 B)\n",
       "</pre>\n"
      ],
      "text/plain": [
       "\u001b[1m Non-trainable params: \u001b[0m\u001b[38;5;34m0\u001b[0m (0.00 B)\n"
      ]
     },
     "metadata": {},
     "output_type": "display_data"
    }
   ],
   "source": [
    "# === FUNCIÓN 7: Construcción del modelo CNN ===\n",
    "def create_chess_cnn_model(input_shape=(8, 8, 12)):\n",
    "    \"\"\"\n",
    "    Construye modelo CNN para evaluación de posiciones de ajedrez.\n",
    "    \n",
    "    Arquitectura:\n",
    "    1. Conv2D(250, 5x5) + ReLU: Extrae patrones locales de piezas\n",
    "    2. Conv2D(150, 5x5) + ReLU: Refina características espaciales  \n",
    "    3. Flatten: Convierte a vector 1D\n",
    "    4. Dense(32) + ReLU: Capa fully connected para combinación de features\n",
    "    5. Dense(3) + Softmax: Clasificación final (3 clases)\n",
    "    \n",
    "    Args:\n",
    "        input_shape (tuple): Forma de entrada (8,8,12)\n",
    "        \n",
    "    Returns:\n",
    "        keras.Model: Modelo CNN compilado\n",
    "    \"\"\"\n",
    "    chess_model = Sequential([\n",
    "        # Primera capa convolucional - detecta patrones básicos de piezas\n",
    "        Conv2D(filters=250, kernel_size=5, padding=\"same\", \n",
    "               activation=\"relu\", input_shape=input_shape, \n",
    "               name=\"conv_patterns\"),\n",
    "        \n",
    "        # Segunda capa convolucional - refina detección de patrones\n",
    "        Conv2D(filters=150, kernel_size=5, padding=\"same\", \n",
    "               activation=\"relu\", name=\"conv_refined\"),\n",
    "        \n",
    "        # Aplanar para capas densas\n",
    "        Flatten(name=\"flatten\"),\n",
    "        \n",
    "        # Capa densa intermedia\n",
    "        Dense(32, activation=\"relu\", name=\"dense_features\"),\n",
    "        \n",
    "        # Capa de salida - 3 clases con probabilidades\n",
    "        Dense(3, activation=\"softmax\", name=\"output_classification\")\n",
    "    ])\n",
    "    \n",
    "    # Compilar modelo\n",
    "    chess_model.compile(\n",
    "        optimizer=\"adam\",\n",
    "        loss=\"categorical_crossentropy\", \n",
    "        metrics=[\"categorical_accuracy\", \"top_k_categorical_accuracy\"]\n",
    "    )\n",
    "    \n",
    "    return chess_model\n",
    "\n",
    "# Crear y mostrar modelo\n",
    "chess_cnn_model = create_chess_cnn_model()\n",
    "chess_cnn_model.summary()"
   ]
  },
  {
   "cell_type": "code",
   "execution_count": null,
   "id": "288a5c87",
   "metadata": {},
   "outputs": [
    {
     "name": "stdout",
     "output_type": "stream",
     "text": [
      "Iniciando entrenamiento...\n",
      "Épocas máximas: 30, Batch size: 64\n",
      "Early stopping: 5 épocas sin mejora\n",
      "Epoch 1/30\n",
      "\u001b[1m3125/3125\u001b[0m \u001b[32m━━━━━━━━━━━━━━━━━━━━\u001b[0m\u001b[37m\u001b[0m \u001b[1m138s\u001b[0m 44ms/step - categorical_accuracy: 0.5773 - loss: 0.8771 - top_k_categorical_accuracy: 1.0000 - val_categorical_accuracy: 0.6076 - val_loss: 0.8339 - val_top_k_categorical_accuracy: 1.0000\n",
      "Epoch 2/30\n",
      "\u001b[1m3125/3125\u001b[0m \u001b[32m━━━━━━━━━━━━━━━━━━━━\u001b[0m\u001b[37m\u001b[0m \u001b[1m425s\u001b[0m 136ms/step - categorical_accuracy: 0.6290 - loss: 0.7968 - top_k_categorical_accuracy: 1.0000 - val_categorical_accuracy: 0.6219 - val_loss: 0.8092 - val_top_k_categorical_accuracy: 1.0000\n",
      "Epoch 3/30\n",
      "\u001b[1m3125/3125\u001b[0m \u001b[32m━━━━━━━━━━━━━━━━━━━━\u001b[0m\u001b[37m\u001b[0m \u001b[1m180s\u001b[0m 58ms/step - categorical_accuracy: 0.6706 - loss: 0.7243 - top_k_categorical_accuracy: 1.0000 - val_categorical_accuracy: 0.6286 - val_loss: 0.8109 - val_top_k_categorical_accuracy: 1.0000\n",
      "Epoch 4/30\n",
      "\u001b[1m3125/3125\u001b[0m \u001b[32m━━━━━━━━━━━━━━━━━━━━\u001b[0m\u001b[37m\u001b[0m \u001b[1m173s\u001b[0m 55ms/step - categorical_accuracy: 0.7222 - loss: 0.6282 - top_k_categorical_accuracy: 1.0000 - val_categorical_accuracy: 0.6181 - val_loss: 0.8668 - val_top_k_categorical_accuracy: 1.0000\n",
      "Epoch 5/30\n",
      "\u001b[1m3125/3125\u001b[0m \u001b[32m━━━━━━━━━━━━━━━━━━━━\u001b[0m\u001b[37m\u001b[0m \u001b[1m166s\u001b[0m 53ms/step - categorical_accuracy: 0.7835 - loss: 0.5084 - top_k_categorical_accuracy: 1.0000 - val_categorical_accuracy: 0.6104 - val_loss: 1.0195 - val_top_k_categorical_accuracy: 1.0000\n",
      "Epoch 6/30\n",
      "\u001b[1m3125/3125\u001b[0m \u001b[32m━━━━━━━━━━━━━━━━━━━━\u001b[0m\u001b[37m\u001b[0m \u001b[1m0s\u001b[0m 48ms/step - categorical_accuracy: 0.8571 - loss: 0.3529 - top_k_categorical_accuracy: 1.0000"
     ]
    }
   ],
   "source": [
    "# === FUNCIÓN 8: Entrenamiento del modelo ===\n",
    "def train_chess_model(model, X_train, y_train, X_val, y_val, \n",
    "                     epochs=150, batch_size=64, patience=15):\n",
    "    \"\"\"\n",
    "    Entrena el modelo CNN con early stopping y seguimiento de métricas.\n",
    "    \n",
    "    Args:\n",
    "        model: Modelo CNN compilado\n",
    "        X_train, y_train: Datos de entrenamiento \n",
    "        X_val, y_val: Datos de validación\n",
    "        epochs (int): Máximo número de épocas\n",
    "        batch_size (int): Tamaño de lote\n",
    "        patience (int): Épocas sin mejora antes de parar\n",
    "        \n",
    "    Returns:\n",
    "        keras.History: Historial de entrenamiento\n",
    "    \"\"\"\n",
    "    # Early stopping para evitar overfitting\n",
    "    early_stopping = EarlyStopping(\n",
    "        monitor='val_categorical_accuracy',\n",
    "        patience=patience,\n",
    "        restore_best_weights=True,\n",
    "        verbose=1\n",
    "    )\n",
    "    \n",
    "    print(\"Iniciando entrenamiento...\")\n",
    "    print(f\"Épocas máximas: {epochs}, Batch size: {batch_size}\")\n",
    "    print(f\"Early stopping: {patience} épocas sin mejora\")\n",
    "    \n",
    "    # Entrenar modelo\n",
    "    history = model.fit(\n",
    "        X_train, y_train,\n",
    "        validation_data=(X_val, y_val),\n",
    "        epochs=epochs,\n",
    "        batch_size=batch_size,\n",
    "        callbacks=[early_stopping],\n",
    "        verbose=1\n",
    "    )\n",
    "    \n",
    "    return history\n",
    "\n",
    "# Entrenar modelo\n",
    "training_history = train_chess_model(\n",
    "    chess_cnn_model, \n",
    "    X_train, y_train, \n",
    "    X_val, y_val,\n",
    "    epochs=30,\n",
    "    batch_size=64,\n",
    "    patience=5\n",
    ")"
   ]
  },
  {
   "cell_type": "code",
   "execution_count": null,
   "id": "240392ce",
   "metadata": {},
   "outputs": [
    {
     "data": {
      "image/png": "[encoded data removed]",
      "text/plain": [
       "<Figure size 1500x500 with 2 Axes>"
      ]
     },
     "metadata": {},
     "output_type": "display_data"
    }
   ],
   "source": [
    "# === FUNCIÓN 9: Visualización de resultados ===\n",
    "\n",
    "def plot_training_history(history):\n",
    "    \"\"\"\n",
    "    Grafica métricas de entrenamiento vs validación.\n",
    "    \"\"\"\n",
    "    fig, (ax1, ax2) = plt.subplots(1, 2, figsize=(15, 5))\n",
    "    \n",
    "    # Pérdida\n",
    "    ax1.plot(history.history['loss'], label='Entrenamiento', color='blue')\n",
    "    ax1.plot(history.history['val_loss'], label='Validación', color='red')\n",
    "    ax1.set_title('Pérdida del Modelo')\n",
    "    ax1.set_xlabel('Época')\n",
    "    ax1.set_ylabel('Pérdida')\n",
    "    ax1.legend()\n",
    "    ax1.grid(True)\n",
    "    \n",
    "    # Precisión\n",
    "    ax2.plot(history.history['categorical_accuracy'], label='Entrenamiento', color='blue')\n",
    "    ax2.plot(history.history['val_categorical_accuracy'], label='Validación', color='red')\n",
    "    ax2.set_title('Precisión del Modelo')\n",
    "    ax2.set_xlabel('Época')\n",
    "    ax2.set_ylabel('Precisión')\n",
    "    ax2.legend()\n",
    "    ax2.grid(True)\n",
    "    \n",
    "    plt.tight_layout()\n",
    "    plt.show()\n",
    "\n",
    "# Visualizar entrenamiento\n",
    "plot_training_history(training_history)"
   ]
  },
  {
   "cell_type": "code",
   "execution_count": null,
   "id": "f6c86f62",
   "metadata": {},
   "outputs": [
    {
     "name": "stdout",
     "output_type": "stream",
     "text": [
      "Creando datos de prueba...\n",
      "Procesando 5,000 posiciones...\n",
      "Procesadas 0 posiciones...\n",
      "Arrays finales - X: (5000, 8, 8, 12), y: (5000, 3)\n",
      "\u001b[1m157/157\u001b[0m \u001b[32m━━━━━━━━━━━━━━━━━━━━\u001b[0m\u001b[37m\u001b[0m \u001b[1m2s\u001b[0m 10ms/step - categorical_accuracy: 0.5954 - loss: 0.8621 - top_k_categorical_accuracy: 1.0000\n",
      "\n",
      "Resultados en datos de prueba:\n",
      "Pérdida: 0.8621\n",
      "Precisión: 0.5954\n",
      "\u001b[1m1/1\u001b[0m \u001b[32m━━━━━━━━━━━━━━━━━━━━\u001b[0m\u001b[37m\u001b[0m \u001b[1m0s\u001b[0m 61ms/step\n",
      "\n",
      "Ejemplo de predicciones:\n",
      "Posición 1: Empate (confianza: 0.374)\n",
      "Posición 2: Ventaja Negra (confianza: 0.371)\n",
      "Posición 3: Empate (confianza: 0.761)\n",
      "Posición 4: Ventaja Blanca (confianza: 0.722)\n",
      "Posición 5: Ventaja Negra (confianza: 0.668)\n"
     ]
    }
   ],
   "source": [
    "# === Evaluación final en datos de prueba ===\n",
    "if len(chess_test_df) > 0:\n",
    "    print(\"Creando datos de prueba...\")\n",
    "    X_test, y_test = create_training_arrays(chess_test_df, piece_mapping, 5000)\n",
    "    \n",
    "    # Evaluar modelo\n",
    "    test_results = chess_cnn_model.evaluate(X_test, y_test, verbose=1)\n",
    "    print(f\"\\nResultados en datos de prueba:\")\n",
    "    print(f\"Pérdida: {test_results[0]:.4f}\")\n",
    "    print(f\"Precisión: {test_results[1]:.4f}\")\n",
    "    \n",
    "    # Predicciones de ejemplo\n",
    "    sample_predictions = chess_cnn_model.predict(X_test[:5])\n",
    "    print(f\"\\nEjemplo de predicciones:\")\n",
    "    class_names = ['Ventaja Blanca', 'Empate', 'Ventaja Negra']\n",
    "    for i, pred in enumerate(sample_predictions):\n",
    "        predicted_class = np.argmax(pred)\n",
    "        confidence = pred[predicted_class]\n",
    "        print(f\"Posición {i+1}: {class_names[predicted_class]} (confianza: {confidence:.3f})\")"
   ]
  }
 ],
 "metadata": {
  "kernelspec": {
   "display_name": "venv",
   "language": "python",
   "name": "python3"
  },
  "language_info": {
   "codemirror_mode": {
    "name": "ipython",
    "version": 3
   },
   "file_extension": ".py",
   "mimetype": "text/x-python",
   "name": "python",
   "nbconvert_exporter": "python",
   "pygments_lexer": "ipython3",
   "version": "3.13.7"
  }
 },
 "nbformat": 4,
 "nbformat_minor": 5
}
