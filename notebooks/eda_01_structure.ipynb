{
 "cells": [
  {
   "cell_type": "code",
   "execution_count": 2,
   "id": "bab2624b",
   "metadata": {},
   "outputs": [],
   "source": [
    "import pandas as pd\n",
    "import numpy as np\n",
    "from pathlib import Path\n",
    "import matplotlib.pyplot as plt\n",
    "\n",
    "DATA_DIR = Path(\"../data/raw\")\n",
    "\n",
    "PD_KW = dict(dtype_backend=\"pyarrow\") "
   ]
  },
  {
   "cell_type": "code",
   "execution_count": 3,
   "id": "b7779c96",
   "metadata": {},
   "outputs": [],
   "source": [
    "def load_csv(path: Path, usecols=None, dtypes=None, nrows=None):\n",
    "    \"\"\"\n",
    "    Carga un CSV a DataFrame de forma robusta.\n",
    "    - usecols: columnas a leer (si quieres probar con un subconjunto).\n",
    "    - dtypes: mapeo de tipos por columna si ya los conoces.\n",
    "    - nrows: para muestrear primeras N filas si necesitas una carga rápida.\n",
    "    \"\"\"\n",
    "    if not path.exists():\n",
    "        raise FileNotFoundError(f\"No existe: {path}\")\n",
    "\n",
    "    try:\n",
    "        df = pd.read_csv(\n",
    "            path,\n",
    "            usecols=usecols,\n",
    "            dtype=dtypes,\n",
    "            low_memory=False,    # evita inferencias parciales\n",
    "            on_bad_lines=\"warn\", # avisa si hay líneas corruptas\n",
    "            **PD_KW               # usa backend pyarrow si está disponible\n",
    "        )\n",
    "    except TypeError:\n",
    "        df = pd.read_csv(\n",
    "            path,\n",
    "            usecols=usecols,\n",
    "            dtype=dtypes,\n",
    "            low_memory=False,\n",
    "            on_bad_lines=\"warn\",\n",
    "        )\n",
    "    return df\n"
   ]
  },
  {
   "cell_type": "code",
   "execution_count": 4,
   "id": "1c1c80a0",
   "metadata": {},
   "outputs": [],
   "source": [
    "path_chess   = DATA_DIR / \"chessData.csv\"\n",
    "path_random  = DATA_DIR / \"random_evals.csv\"\n",
    "path_tactic  = DATA_DIR / \"tactic_evals.csv\"\n",
    "\n",
    "df_chess  = load_csv(path_chess)\n",
    "#df_random = load_csv(path_random)\n",
    "#df_tactic = load_csv(path_tactic)"
   ]
  },
  {
   "cell_type": "code",
   "execution_count": 5,
   "id": "04a51d39",
   "metadata": {},
   "outputs": [],
   "source": [
    "def overview(df: pd.DataFrame, name: str = \"DataFrame\", show_cols=20):\n",
    "    print(\"=\" * 100)\n",
    "    print(f\"📦 {name}\")\n",
    "    print(\"- Dimensiones:\", df.shape)                 \n",
    "    print(\"- Columnas:\", len(df.columns))\n",
    "    print(\"- Primeras columnas:\", list(df.columns[:show_cols]))\n",
    "    print(\"\\n🔹 Tipos de datos:\")\n",
    "    display(df.dtypes.to_frame(\"dtype\").head(show_cols))\n",
    "\n",
    "    print(\"\\n🔹 Memoria estimada por columna (Top 10):\")\n",
    "    mem = df.memory_usage(deep=True).sort_values(ascending=False).head(10)\n",
    "    display((mem / (1024**2)).round(3).rename(\"MB\").to_frame())\n",
    "\n",
    "    print(\"\\n🔹 df.info():\")\n",
    "    df.info(memory_usage=\"deep\")\n",
    "\n",
    "    print(\"\\n🔹 df.head():\")\n",
    "    display(df.head(3))\n",
    "\n",
    "    print(\"\\n🔹 Valores únicos por columna (muestra):\")\n",
    "    display(df.nunique(dropna=True).sort_values(ascending=False).head(10).to_frame(\"nunique\"))\n",
    "\n",
    "    # (complemento mínimo para Paso 4, solo conteo bruto de nulos)\n",
    "    print(\"\\n🔹 Conteo de nulos (Top 10):\")\n",
    "    display(df.isna().sum().sort_values(ascending=False).head(10).to_frame(\"nulos\"))\n"
   ]
  },
  {
   "cell_type": "code",
   "execution_count": 6,
   "id": "c413c465",
   "metadata": {},
   "outputs": [
    {
     "name": "stdout",
     "output_type": "stream",
     "text": [
      "====================================================================================================\n",
      "📦 chessData.csv\n",
      "- Dimensiones: (12958035, 2)\n",
      "- Columnas: 2\n",
      "- Primeras columnas: ['FEN', 'Evaluation']\n",
      "\n",
      "🔹 Tipos de datos:\n"
     ]
    },
    {
     "data": {
      "application/vnd.microsoft.datawrangler.viewer.v0+json": {
       "columns": [
        {
         "name": "index",
         "rawType": "object",
         "type": "string"
        },
        {
         "name": "dtype",
         "rawType": "object",
         "type": "unknown"
        }
       ],
       "ref": "818069f8-0d2c-4380-925f-7152af3682af",
       "rows": [
        [
         "FEN",
         "string[pyarrow]"
        ],
        [
         "Evaluation",
         "string[pyarrow]"
        ]
       ],
       "shape": {
        "columns": 1,
        "rows": 2
       }
      },
      "text/html": [
       "<div>\n",
       "<style scoped>\n",
       "    .dataframe tbody tr th:only-of-type {\n",
       "        vertical-align: middle;\n",
       "    }\n",
       "\n",
       "    .dataframe tbody tr th {\n",
       "        vertical-align: top;\n",
       "    }\n",
       "\n",
       "    .dataframe thead th {\n",
       "        text-align: right;\n",
       "    }\n",
       "</style>\n",
       "<table border=\"1\" class=\"dataframe\">\n",
       "  <thead>\n",
       "    <tr style=\"text-align: right;\">\n",
       "      <th></th>\n",
       "      <th>dtype</th>\n",
       "    </tr>\n",
       "  </thead>\n",
       "  <tbody>\n",
       "    <tr>\n",
       "      <th>FEN</th>\n",
       "      <td>string[pyarrow]</td>\n",
       "    </tr>\n",
       "    <tr>\n",
       "      <th>Evaluation</th>\n",
       "      <td>string[pyarrow]</td>\n",
       "    </tr>\n",
       "  </tbody>\n",
       "</table>\n",
       "</div>"
      ],
      "text/plain": [
       "                      dtype\n",
       "FEN         string[pyarrow]\n",
       "Evaluation  string[pyarrow]"
      ]
     },
     "metadata": {},
     "output_type": "display_data"
    },
    {
     "name": "stdout",
     "output_type": "stream",
     "text": [
      "\n",
      "🔹 Memoria estimada por columna (Top 10):\n"
     ]
    },
    {
     "data": {
      "application/vnd.microsoft.datawrangler.viewer.v0+json": {
       "columns": [
        {
         "name": "index",
         "rawType": "object",
         "type": "string"
        },
        {
         "name": "MB",
         "rawType": "float64",
         "type": "float"
        }
       ],
       "ref": "aa99e232-cb61-4aa7-9ce4-25a464955318",
       "rows": [
        [
         "FEN",
         "741.373"
        ],
        [
         "Evaluation",
         "90.911"
        ],
        [
         "Index",
         "0.0"
        ]
       ],
       "shape": {
        "columns": 1,
        "rows": 3
       }
      },
      "text/html": [
       "<div>\n",
       "<style scoped>\n",
       "    .dataframe tbody tr th:only-of-type {\n",
       "        vertical-align: middle;\n",
       "    }\n",
       "\n",
       "    .dataframe tbody tr th {\n",
       "        vertical-align: top;\n",
       "    }\n",
       "\n",
       "    .dataframe thead th {\n",
       "        text-align: right;\n",
       "    }\n",
       "</style>\n",
       "<table border=\"1\" class=\"dataframe\">\n",
       "  <thead>\n",
       "    <tr style=\"text-align: right;\">\n",
       "      <th></th>\n",
       "      <th>MB</th>\n",
       "    </tr>\n",
       "  </thead>\n",
       "  <tbody>\n",
       "    <tr>\n",
       "      <th>FEN</th>\n",
       "      <td>741.373</td>\n",
       "    </tr>\n",
       "    <tr>\n",
       "      <th>Evaluation</th>\n",
       "      <td>90.911</td>\n",
       "    </tr>\n",
       "    <tr>\n",
       "      <th>Index</th>\n",
       "      <td>0.000</td>\n",
       "    </tr>\n",
       "  </tbody>\n",
       "</table>\n",
       "</div>"
      ],
      "text/plain": [
       "                 MB\n",
       "FEN         741.373\n",
       "Evaluation   90.911\n",
       "Index         0.000"
      ]
     },
     "metadata": {},
     "output_type": "display_data"
    },
    {
     "name": "stdout",
     "output_type": "stream",
     "text": [
      "\n",
      "🔹 df.info():\n",
      "<class 'pandas.core.frame.DataFrame'>\n",
      "RangeIndex: 12958035 entries, 0 to 12958034\n",
      "Data columns (total 2 columns):\n",
      " #   Column      Dtype          \n",
      "---  ------      -----          \n",
      " 0   FEN         string[pyarrow]\n",
      " 1   Evaluation  string[pyarrow]\n",
      "dtypes: string[pyarrow](2)\n",
      "memory usage: 832.3 MB\n",
      "\n",
      "🔹 df.head():\n"
     ]
    },
    {
     "data": {
      "application/vnd.microsoft.datawrangler.viewer.v0+json": {
       "columns": [
        {
         "name": "index",
         "rawType": "int64",
         "type": "integer"
        },
        {
         "name": "FEN",
         "rawType": "string[pyarrow]",
         "type": "unknown"
        },
        {
         "name": "Evaluation",
         "rawType": "string[pyarrow]",
         "type": "unknown"
        }
       ],
       "ref": "6892ad24-8a6b-4eaa-88c0-e918a87561a1",
       "rows": [
        [
         "0",
         "rnbqkbnr/pppppppp/8/8/4P3/8/PPPP1PPP/RNBQKBNR b KQkq - 0 1",
         "-10"
        ],
        [
         "1",
         "rnbqkbnr/pppp1ppp/4p3/8/4P3/8/PPPP1PPP/RNBQKBNR w KQkq - 0 2",
         "+56"
        ],
        [
         "2",
         "rnbqkbnr/pppp1ppp/4p3/8/3PP3/8/PPP2PPP/RNBQKBNR b KQkq - 0 2",
         "-9"
        ]
       ],
       "shape": {
        "columns": 2,
        "rows": 3
       }
      },
      "text/html": [
       "<div>\n",
       "<style scoped>\n",
       "    .dataframe tbody tr th:only-of-type {\n",
       "        vertical-align: middle;\n",
       "    }\n",
       "\n",
       "    .dataframe tbody tr th {\n",
       "        vertical-align: top;\n",
       "    }\n",
       "\n",
       "    .dataframe thead th {\n",
       "        text-align: right;\n",
       "    }\n",
       "</style>\n",
       "<table border=\"1\" class=\"dataframe\">\n",
       "  <thead>\n",
       "    <tr style=\"text-align: right;\">\n",
       "      <th></th>\n",
       "      <th>FEN</th>\n",
       "      <th>Evaluation</th>\n",
       "    </tr>\n",
       "  </thead>\n",
       "  <tbody>\n",
       "    <tr>\n",
       "      <th>0</th>\n",
       "      <td>rnbqkbnr/pppppppp/8/8/4P3/8/PPPP1PPP/RNBQKBNR ...</td>\n",
       "      <td>-10</td>\n",
       "    </tr>\n",
       "    <tr>\n",
       "      <th>1</th>\n",
       "      <td>rnbqkbnr/pppp1ppp/4p3/8/4P3/8/PPPP1PPP/RNBQKBN...</td>\n",
       "      <td>+56</td>\n",
       "    </tr>\n",
       "    <tr>\n",
       "      <th>2</th>\n",
       "      <td>rnbqkbnr/pppp1ppp/4p3/8/3PP3/8/PPP2PPP/RNBQKBN...</td>\n",
       "      <td>-9</td>\n",
       "    </tr>\n",
       "  </tbody>\n",
       "</table>\n",
       "</div>"
      ],
      "text/plain": [
       "                                                 FEN Evaluation\n",
       "0  rnbqkbnr/pppppppp/8/8/4P3/8/PPPP1PPP/RNBQKBNR ...        -10\n",
       "1  rnbqkbnr/pppp1ppp/4p3/8/4P3/8/PPPP1PPP/RNBQKBN...        +56\n",
       "2  rnbqkbnr/pppp1ppp/4p3/8/3PP3/8/PPP2PPP/RNBQKBN...         -9"
      ]
     },
     "metadata": {},
     "output_type": "display_data"
    },
    {
     "name": "stdout",
     "output_type": "stream",
     "text": [
      "\n",
      "🔹 Valores únicos por columna (muestra):\n"
     ]
    },
    {
     "data": {
      "application/vnd.microsoft.datawrangler.viewer.v0+json": {
       "columns": [
        {
         "name": "index",
         "rawType": "object",
         "type": "string"
        },
        {
         "name": "nunique",
         "rawType": "int64",
         "type": "integer"
        }
       ],
       "ref": "dfbc906a-2c33-46cf-848f-8713e51b36a9",
       "rows": [
        [
         "FEN",
         "12954834"
        ],
        [
         "Evaluation",
         "13544"
        ]
       ],
       "shape": {
        "columns": 1,
        "rows": 2
       }
      },
      "text/html": [
       "<div>\n",
       "<style scoped>\n",
       "    .dataframe tbody tr th:only-of-type {\n",
       "        vertical-align: middle;\n",
       "    }\n",
       "\n",
       "    .dataframe tbody tr th {\n",
       "        vertical-align: top;\n",
       "    }\n",
       "\n",
       "    .dataframe thead th {\n",
       "        text-align: right;\n",
       "    }\n",
       "</style>\n",
       "<table border=\"1\" class=\"dataframe\">\n",
       "  <thead>\n",
       "    <tr style=\"text-align: right;\">\n",
       "      <th></th>\n",
       "      <th>nunique</th>\n",
       "    </tr>\n",
       "  </thead>\n",
       "  <tbody>\n",
       "    <tr>\n",
       "      <th>FEN</th>\n",
       "      <td>12954834</td>\n",
       "    </tr>\n",
       "    <tr>\n",
       "      <th>Evaluation</th>\n",
       "      <td>13544</td>\n",
       "    </tr>\n",
       "  </tbody>\n",
       "</table>\n",
       "</div>"
      ],
      "text/plain": [
       "             nunique\n",
       "FEN         12954834\n",
       "Evaluation     13544"
      ]
     },
     "metadata": {},
     "output_type": "display_data"
    },
    {
     "name": "stdout",
     "output_type": "stream",
     "text": [
      "\n",
      "🔹 Conteo de nulos (Top 10):\n"
     ]
    },
    {
     "data": {
      "application/vnd.microsoft.datawrangler.viewer.v0+json": {
       "columns": [
        {
         "name": "index",
         "rawType": "object",
         "type": "string"
        },
        {
         "name": "nulos",
         "rawType": "int64",
         "type": "integer"
        }
       ],
       "ref": "2a45a84a-4257-4586-b422-1755fc70f969",
       "rows": [
        [
         "FEN",
         "0"
        ],
        [
         "Evaluation",
         "0"
        ]
       ],
       "shape": {
        "columns": 1,
        "rows": 2
       }
      },
      "text/html": [
       "<div>\n",
       "<style scoped>\n",
       "    .dataframe tbody tr th:only-of-type {\n",
       "        vertical-align: middle;\n",
       "    }\n",
       "\n",
       "    .dataframe tbody tr th {\n",
       "        vertical-align: top;\n",
       "    }\n",
       "\n",
       "    .dataframe thead th {\n",
       "        text-align: right;\n",
       "    }\n",
       "</style>\n",
       "<table border=\"1\" class=\"dataframe\">\n",
       "  <thead>\n",
       "    <tr style=\"text-align: right;\">\n",
       "      <th></th>\n",
       "      <th>nulos</th>\n",
       "    </tr>\n",
       "  </thead>\n",
       "  <tbody>\n",
       "    <tr>\n",
       "      <th>FEN</th>\n",
       "      <td>0</td>\n",
       "    </tr>\n",
       "    <tr>\n",
       "      <th>Evaluation</th>\n",
       "      <td>0</td>\n",
       "    </tr>\n",
       "  </tbody>\n",
       "</table>\n",
       "</div>"
      ],
      "text/plain": [
       "            nulos\n",
       "FEN             0\n",
       "Evaluation      0"
      ]
     },
     "metadata": {},
     "output_type": "display_data"
    }
   ],
   "source": [
    "#overview(df_random, \"random_evals.csv\")\n",
    "#overview(df_tactic, \"tactic_evals.csv\")\n",
    "overview(df_chess,  \"chessData.csv\")"
   ]
  }
 ],
 "metadata": {
  "kernelspec": {
   "display_name": "venv",
   "language": "python",
   "name": "python3"
  },
  "language_info": {
   "codemirror_mode": {
    "name": "ipython",
    "version": 3
   },
   "file_extension": ".py",
   "mimetype": "text/x-python",
   "name": "python",
   "nbconvert_exporter": "python",
   "pygments_lexer": "ipython3",
   "version": "3.13.7"
  }
 },
 "nbformat": 4,
 "nbformat_minor": 5
}
