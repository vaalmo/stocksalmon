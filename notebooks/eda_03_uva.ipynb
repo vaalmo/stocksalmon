{
 "cells": [
  {
   "cell_type": "markdown",
   "id": "title-uva",
   "metadata": {},
   "source": [
    "# 3. Estadísticas univariadas categóricas"
   ]
  },
  {
   "cell_type": "code",
   "execution_count": 19,
   "id": "imports",
   "metadata": {},
   "outputs": [
    {
     "name": "stdout",
     "output_type": "stream",
     "text": [
      "Obtaining file:///C:/Users/samir/Documents/noveno%20semestre/aprendizaje%20maquina/stocksalmon\n",
      "  Installing build dependencies: started\n",
      "  Installing build dependencies: finished with status 'done'\n",
      "  Checking if build backend supports build_editable: started\n",
      "  Checking if build backend supports build_editable: finished with status 'done'\n",
      "  Getting requirements to build editable: started\n",
      "  Getting requirements to build editable: finished with status 'done'\n",
      "  Preparing editable metadata (pyproject.toml): started\n",
      "  Preparing editable metadata (pyproject.toml): finished with status 'done'\n",
      "Building wheels for collected packages: stocksalmon\n",
      "  Building editable for stocksalmon (pyproject.toml): started\n",
      "  Building editable for stocksalmon (pyproject.toml): finished with status 'done'\n",
      "  Created wheel for stocksalmon: filename=stocksalmon-0.1.0-0.editable-py3-none-any.whl size=2804 sha256=9bdeff72bd3a7b508b18c703c957c625cae0cb0e19ecbaa48c3c3b910ca219cf\n",
      "  Stored in directory: C:\\Users\\samir\\AppData\\Local\\Temp\\pip-ephem-wheel-cache-wnaebkqa\\wheels\\c2\\1d\\b7\\bd81ca1ef1a861cf0661c0495624d6b80be533f3c88d8cd90a\n",
      "Successfully built stocksalmon\n",
      "Installing collected packages: stocksalmon\n",
      "  Attempting uninstall: stocksalmon\n",
      "    Found existing installation: stocksalmon 0.1.0\n",
      "    Uninstalling stocksalmon-0.1.0:\n",
      "      Successfully uninstalled stocksalmon-0.1.0\n",
      "Successfully installed stocksalmon-0.1.0\n",
      "Note: you may need to restart the kernel to use updated packages.\n"
     ]
    },
    {
     "name": "stderr",
     "output_type": "stream",
     "text": [
      "\n",
      "[notice] A new release of pip is available: 23.2.1 -> 25.2\n",
      "[notice] To update, run: python.exe -m pip install --upgrade pip\n"
     ]
    }
   ],
   "source": [
    "%pip install -e ..\n",
    "import pandas as pd\n",
    "import numpy as np\n",
    "from pathlib import Path\n",
    "import matplotlib.pyplot as plt\n",
    "plt.style.use('seaborn-v0_8')\n",
    "from IPython.display import display\n",
    "from pandas.api.types import is_numeric_dtype\n",
    "from tqdm.auto import tqdm\n",
    "\n",
    "from functions import load_csv\n",
    "from functions.fen_analyzer import (\n",
    "    extract_active_turn,\n",
    "    extract_castling_rights,\n",
    "    extract_bishop_parity,\n",
    "    extract_queen_presence,\n",
    ")"
   ]
  },
  {
   "cell_type": "code",
   "execution_count": null,
   "id": "config-uva",
   "metadata": {},
   "outputs": [],
   "source": [
    "# Configuración rápida del análisis (ajustable)\n",
    "N_SAMPLE = 100              # filas a leer del CSV para EDA rápida\n",
    "USE_FULL_DATA = True       # si True, ignora N_SAMPLE y carga todo\n",
    "MAX_CARD_AS_CAT = 100       # numéricas con <=100 únicos se tratan como categóricas\n",
    "MAX_UNIQUE_RATIO = 0.50     # descarta columnas con >50% de valores únicos (ID-like)\n",
    "TOP_K = 20                  # Top categorías a mostrar en tablas/plots\n",
    "MIN_FREQ_PLOT = 2           # frecuencia mínima para dibujar en barras\n",
    "ENABLE_BISHOP_PARITY = False  # calcula paridad de alfiles (costoso)\n",
    "pd.set_option('display.max_rows', 50)\n",
    "pd.set_option('display.max_colwidth', 120)"
   ]
  },
  {
   "cell_type": "code",
   "execution_count": 21,
   "id": "helpers-uva",
   "metadata": {},
   "outputs": [],
   "source": [
    "def get_categorical_columns(\n",
    "    df: pd.DataFrame,\n",
    "    max_card_as_cat: int = 200,\n",
    "    max_unique_ratio: float = 0.50\n",
    "):\n",
    "    \"\"\"\n",
    "    Devuelve columnas categóricas (object/string/category/bool) + numéricas discretas con poca cardinalidad.\n",
    "    - max_card_as_cat: si una numérica tiene <= ese número de únicos, la tratamos como categórica (discreta).\n",
    "    - max_unique_ratio: descarta columnas con un % muy alto de valores únicos (ID-like).\n",
    "    \"\"\"\n",
    "    n = len(df)\n",
    "    cat_like = df.select_dtypes(include=[\"object\", \"string\", \"category\", \"bool\"]).columns.tolist()\n",
    "    numeric_low_card = []\n",
    "    for c in df.select_dtypes(include=[np.number]).columns:\n",
    "        nunq = df[c].nunique(dropna=True)\n",
    "        if nunq <= max_card_as_cat:\n",
    "            numeric_low_card.append(c)\n",
    "    seen, result = set(), []\n",
    "    for c in cat_like + numeric_low_card:\n",
    "        if c in seen:\n",
    "            continue\n",
    "        seen.add(c)\n",
    "        nunq = df[c].nunique(dropna=True)\n",
    "        ratio = nunq / max(1, n)\n",
    "        if ratio <= max_unique_ratio:\n",
    "            result.append(c)\n",
    "    return result\n",
    "\n",
    "def summarize_categoricals(df: pd.DataFrame, cols=None, topn_mode: int = 1):\n",
    "    \"\"\"\n",
    "    Retorna un DataFrame con: dtype, n_unique, %_unique, n_missing, %_missing, mode, mode_freq.\n",
    "    \"\"\"\n",
    "    if cols is None:\n",
    "        cols = get_categorical_columns(df)\n",
    "    rows = []\n",
    "    n = len(df)\n",
    "    for c in cols:\n",
    "        ser = df[c]\n",
    "        nunq = ser.nunique(dropna=True)\n",
    "        nmiss = ser.isna().sum()\n",
    "        vc = ser.value_counts(dropna=True)\n",
    "        if len(vc) > 0:\n",
    "            moda = \", \".join([f\"{idx}\" for idx in vc.index[:topn_mode]])\n",
    "            moda_freq = float((vc.iloc[0] / (n - nmiss)).round(4))\n",
    "        else:\n",
    "            moda, moda_freq = None, np.nan\n",
    "        rows.append({\n",
    "            \"col\": c,\n",
    "            \"dtype\": str(ser.dtype),\n",
    "            \"n_unique\": nunq,\n",
    "            \"%_unique\": round(100 * nunq / max(1, n - nmiss), 2),\n",
    "            \"n_missing\": int(nmiss),\n",
    "            \"%_missing\": round(100 * nmiss / n, 2),\n",
    "            \"mode\": moda,\n",
    "            \"mode_freq\": moda_freq,\n",
    "        })\n",
    "    out = pd.DataFrame(rows)\n",
    "    if out.empty:\n",
    "        return out\n",
    "    return out.set_index(\"col\").sort_values([\"%_missing\", \"%_unique\"], ascending=[False, False])\n",
    "\n",
    "def analyze_categorical(df: pd.DataFrame, col: str, target: str | None = None, top_k: int = 20, min_freq_plot: int = 1):\n",
    "    # Nombres amigables para títulos\n",
    "    friendly = {\n",
    "        'side_to_move': 'Turno al mover',\n",
    "        'castling_state': 'Estado de enroques',\n",
    "        'ep_available': 'En passant disponible',\n",
    "        'has_w_queen': 'Dama blanca presente',\n",
    "        'has_b_queen': 'Dama negra presente',\n",
    "        'has_any_queen': 'Alguna dama presente',\n",
    "    }\n",
    "    col_title = friendly.get(col, col)\n",
    "\n",
    "    ser = df[col]\n",
    "    n_total = len(ser)\n",
    "    n_missing = int(ser.isna().sum())\n",
    "    vc_nonan = ser.value_counts(dropna=True)\n",
    "\n",
    "    # Tabla de frecuencias (Top-K)\n",
    "    freq_tbl = pd.DataFrame({\"Conteo\": vc_nonan, \"Porcentaje\": (vc_nonan / vc_nonan.sum() * 100).round(2)})\n",
    "    print(f'Frecuencias de {col_title} (Top {min(top_k, len(freq_tbl))}) — n={n_total}, faltantes={n_missing}')\n",
    "    display(freq_tbl.head(top_k))\n",
    "\n",
    "    # Gráfico de barras (Top-K)\n",
    "    vc_plot = vc_nonan[vc_nonan >= min_freq_plot].head(top_k)\n",
    "    plt.figure(figsize=(9, 4))\n",
    "    vc_plot.sort_values(ascending=True).plot(kind=\"barh\")\n",
    "    plt.title(f\"{col_title} — Top {len(vc_plot)} categorías\")\n",
    "    plt.xlabel(\"Conteo\")\n",
    "    plt.ylabel(\"Categoría\")\n",
    "    plt.tight_layout()\n",
    "    plt.show()\n",
    "\n",
    "    # Resumen por categoría del target numérico (si aplica)\n",
    "    if target is not None and target in df.columns and is_numeric_dtype(df[target]):\n",
    "        # Copia + sanea el target\n",
    "        tmp = df[[col, target]].copy()\n",
    "        tmp[target] = pd.to_numeric(tmp[target], errors='coerce')\n",
    "        tmp.replace([np.inf, -np.inf], np.nan, inplace=True)\n",
    "        tmp.dropna(subset=[target], inplace=True)\n",
    "\n",
    "        # Top-K categorías tras limpieza (asegura datos en cada categoría)\n",
    "        present_cats = tmp[col].value_counts(dropna=False).index[:top_k]\n",
    "        tmp = tmp[tmp[col].isin(present_cats)]\n",
    "\n",
    "        grp = (\n",
    "            tmp.groupby(col, observed=True)[target]\n",
    "               .agg(['count', 'mean', 'median', 'std'])\n",
    "               .sort_values('count', ascending=False)\n",
    "        ).rename(columns={'count': 'conteo', 'mean': 'media', 'median': 'mediana', 'std': 'desv_std'})\n",
    "        print(f'Resumen de {target} por {col_title} (Top {len(grp)})')\n",
    "        display(grp)\n",
    "\n",
    "        # Boxplot robusto del target por categoría (Top-K)\n",
    "        cats = grp.index.tolist()\n",
    "        if len(cats) >= 2:\n",
    "            data = [tmp.loc[tmp[col].eq(cat), target].to_numpy() for cat in cats]\n",
    "            labels = [str(cat) for cat in cats]\n",
    "            plt.figure(figsize=(10, 4))\n",
    "            plt.boxplot(data, labels=labels, showfliers=False)\n",
    "            plt.xticks(rotation=45)\n",
    "            plt.title(f\"{target} por {col_title} (Top {len(labels)})\")\n",
    "            plt.tight_layout()\n",
    "            plt.show()\n",
    "        else:\n",
    "            print('No hay suficientes categorías con datos del target para graficar.')\n"
   ]
  },
  {
   "cell_type": "code",
   "execution_count": 22,
   "id": "load-data",
   "metadata": {},
   "outputs": [
    {
     "data": {
      "text/html": [
       "<div>\n",
       "<style scoped>\n",
       "    .dataframe tbody tr th:only-of-type {\n",
       "        vertical-align: middle;\n",
       "    }\n",
       "\n",
       "    .dataframe tbody tr th {\n",
       "        vertical-align: top;\n",
       "    }\n",
       "\n",
       "    .dataframe thead th {\n",
       "        text-align: right;\n",
       "    }\n",
       "</style>\n",
       "<table border=\"1\" class=\"dataframe\">\n",
       "  <thead>\n",
       "    <tr style=\"text-align: right;\">\n",
       "      <th></th>\n",
       "      <th>dtype</th>\n",
       "    </tr>\n",
       "    <tr>\n",
       "      <th>col</th>\n",
       "      <th></th>\n",
       "    </tr>\n",
       "  </thead>\n",
       "  <tbody>\n",
       "    <tr>\n",
       "      <th>fen</th>\n",
       "      <td>string[pyarrow]</td>\n",
       "    </tr>\n",
       "    <tr>\n",
       "      <th>evaluation</th>\n",
       "      <td>float64</td>\n",
       "    </tr>\n",
       "  </tbody>\n",
       "</table>\n",
       "</div>"
      ],
      "text/plain": [
       "                      dtype\n",
       "col                        \n",
       "fen         string[pyarrow]\n",
       "evaluation          float64"
      ]
     },
     "metadata": {},
     "output_type": "display_data"
    },
    {
     "name": "stdout",
     "output_type": "stream",
     "text": [
      "shape: (12958035, 2)\n"
     ]
    },
    {
     "data": {
      "text/html": [
       "<div>\n",
       "<style scoped>\n",
       "    .dataframe tbody tr th:only-of-type {\n",
       "        vertical-align: middle;\n",
       "    }\n",
       "\n",
       "    .dataframe tbody tr th {\n",
       "        vertical-align: top;\n",
       "    }\n",
       "\n",
       "    .dataframe thead th {\n",
       "        text-align: right;\n",
       "    }\n",
       "</style>\n",
       "<table border=\"1\" class=\"dataframe\">\n",
       "  <thead>\n",
       "    <tr style=\"text-align: right;\">\n",
       "      <th></th>\n",
       "      <th>fen</th>\n",
       "      <th>evaluation</th>\n",
       "    </tr>\n",
       "  </thead>\n",
       "  <tbody>\n",
       "    <tr>\n",
       "      <th>0</th>\n",
       "      <td>rnbqkbnr/pppppppp/8/8/4P3/8/PPPP1PPP/RNBQKBNR b KQkq - 0 1</td>\n",
       "      <td>-10.0</td>\n",
       "    </tr>\n",
       "    <tr>\n",
       "      <th>1</th>\n",
       "      <td>rnbqkbnr/pppp1ppp/4p3/8/4P3/8/PPPP1PPP/RNBQKBNR w KQkq - 0 2</td>\n",
       "      <td>56.0</td>\n",
       "    </tr>\n",
       "    <tr>\n",
       "      <th>2</th>\n",
       "      <td>rnbqkbnr/pppp1ppp/4p3/8/3PP3/8/PPP2PPP/RNBQKBNR b KQkq - 0 2</td>\n",
       "      <td>-9.0</td>\n",
       "    </tr>\n",
       "    <tr>\n",
       "      <th>3</th>\n",
       "      <td>rnbqkbnr/ppp2ppp/4p3/3p4/3PP3/8/PPP2PPP/RNBQKBNR w KQkq - 0 3</td>\n",
       "      <td>52.0</td>\n",
       "    </tr>\n",
       "    <tr>\n",
       "      <th>4</th>\n",
       "      <td>rnbqkbnr/ppp2ppp/4p3/3p4/3PP3/8/PPPN1PPP/R1BQKBNR b KQkq - 1 3</td>\n",
       "      <td>-26.0</td>\n",
       "    </tr>\n",
       "  </tbody>\n",
       "</table>\n",
       "</div>"
      ],
      "text/plain": [
       "                                                              fen  evaluation\n",
       "0      rnbqkbnr/pppppppp/8/8/4P3/8/PPPP1PPP/RNBQKBNR b KQkq - 0 1       -10.0\n",
       "1    rnbqkbnr/pppp1ppp/4p3/8/4P3/8/PPPP1PPP/RNBQKBNR w KQkq - 0 2        56.0\n",
       "2    rnbqkbnr/pppp1ppp/4p3/8/3PP3/8/PPP2PPP/RNBQKBNR b KQkq - 0 2        -9.0\n",
       "3   rnbqkbnr/ppp2ppp/4p3/3p4/3PP3/8/PPP2PPP/RNBQKBNR w KQkq - 0 3        52.0\n",
       "4  rnbqkbnr/ppp2ppp/4p3/3p4/3PP3/8/PPPN1PPP/R1BQKBNR b KQkq - 1 3       -26.0"
      ]
     },
     "metadata": {},
     "output_type": "display_data"
    }
   ],
   "source": [
    "DATA_DIR = Path(\"../data/raw\")\n",
    "df_chess = load_csv(DATA_DIR / \"chessData.csv\", nrows=(None if USE_FULL_DATA else N_SAMPLE))\n",
    "df_chess = df_chess.rename(columns={\"FEN\": \"fen\", \"Evaluation\": \"evaluation\"})\n",
    "if \"evaluation\" in df_chess.columns:\n",
    "    df_chess[\"evaluation\"] = pd.to_numeric(df_chess[\"evaluation\"], errors=\"coerce\").astype('float64')\n",
    "display(pd.DataFrame({'col': df_chess.columns, 'dtype': [str(t) for t in df_chess.dtypes]}).set_index('col'))\n",
    "print('shape:', df_chess.shape)\n",
    "display(df_chess.head())"
   ]
  },
  {
   "cell_type": "code",
   "execution_count": 23,
   "id": "uva-direct",
   "metadata": {},
   "outputs": [
    {
     "name": "stdout",
     "output_type": "stream",
     "text": [
      "No se detectaron columnas categóricas tras los filtros.\n"
     ]
    },
    {
     "data": {
      "text/html": [
       "<div>\n",
       "<style scoped>\n",
       "    .dataframe tbody tr th:only-of-type {\n",
       "        vertical-align: middle;\n",
       "    }\n",
       "\n",
       "    .dataframe tbody tr th {\n",
       "        vertical-align: top;\n",
       "    }\n",
       "\n",
       "    .dataframe thead th {\n",
       "        text-align: right;\n",
       "    }\n",
       "</style>\n",
       "<table border=\"1\" class=\"dataframe\">\n",
       "  <thead>\n",
       "    <tr style=\"text-align: right;\">\n",
       "      <th></th>\n",
       "      <th>col</th>\n",
       "      <th>dtype</th>\n",
       "      <th>%_unique</th>\n",
       "      <th>%_missing</th>\n",
       "    </tr>\n",
       "  </thead>\n",
       "  <tbody>\n",
       "    <tr>\n",
       "      <th>0</th>\n",
       "      <td>fen</td>\n",
       "      <td>string[pyarrow]</td>\n",
       "      <td>99.98</td>\n",
       "      <td>0.00</td>\n",
       "    </tr>\n",
       "    <tr>\n",
       "      <th>1</th>\n",
       "      <td>evaluation</td>\n",
       "      <td>float64</td>\n",
       "      <td>0.11</td>\n",
       "      <td>1.47</td>\n",
       "    </tr>\n",
       "  </tbody>\n",
       "</table>\n",
       "</div>"
      ],
      "text/plain": [
       "          col            dtype  %_unique  %_missing\n",
       "0         fen  string[pyarrow]     99.98       0.00\n",
       "1  evaluation          float64      0.11       1.47"
      ]
     },
     "metadata": {},
     "output_type": "display_data"
    },
    {
     "name": "stdout",
     "output_type": "stream",
     "text": [
      "No hay columnas para graficar (cardinalidad muy alta).\n"
     ]
    }
   ],
   "source": [
    "# UVA directo sobre columnas categóricas \n",
    "cat_cols = get_categorical_columns(df_chess, max_card_as_cat=MAX_CARD_AS_CAT, max_unique_ratio=MAX_UNIQUE_RATIO)\n",
    "summary = summarize_categoricals(df_chess, cols=cat_cols)\n",
    "if len(summary) > 0:\n",
    "    print('Resumen de columnas categóricas detectadas (Top 30 por % faltantes/% únicos)')\n",
    "    display(summary.head(30))\n",
    "else:\n",
    "    print('No se detectaron columnas categóricas tras los filtros.')\n",
    "    # Diagnóstico rápido de unicidad/faltantes por columna\n",
    "    cand = []\n",
    "    n = len(df_chess)\n",
    "    for c in df_chess.columns:\n",
    "        ser = df_chess[c]\n",
    "        nunq = ser.nunique(dropna=True)\n",
    "        miss = ser.isna().sum()\n",
    "        pctu = round(100 * nunq / max(1, n - miss), 2)\n",
    "        cand.append({'col': c, 'dtype': str(ser.dtype), '%_unique': pctu, '%_missing': round(100*miss/n, 2)})\n",
    "    diag = pd.DataFrame(cand).sort_values('%_unique', ascending=False)\n",
    "    display(diag)\n",
    "\n",
    "cols_to_plot = summary.index.tolist() if len(summary) else []\n",
    "TARGET_COL = 'evaluation'\n",
    "if len(cols_to_plot) == 0:\n",
    "    print(\"No hay columnas para graficar (cardinalidad muy alta).\")\n",
    "else:\n",
    "    for c in cols_to_plot:\n",
    "        print('='*100)\n",
    "        print(f'🔹 {c}')\n",
    "        analyze_categorical(df_chess, c, target=TARGET_COL, top_k=TOP_K, min_freq_plot=MIN_FREQ_PLOT)\n"
   ]
  },
  {
   "cell_type": "code",
   "execution_count": 24,
   "id": "fen-features",
   "metadata": {},
   "outputs": [
    {
     "name": "stdout",
     "output_type": "stream",
     "text": [
      "Resumen de columnas FEN derivadas (categóricas):\n"
     ]
    },
    {
     "data": {
      "text/html": [
       "<div>\n",
       "<style scoped>\n",
       "    .dataframe tbody tr th:only-of-type {\n",
       "        vertical-align: middle;\n",
       "    }\n",
       "\n",
       "    .dataframe tbody tr th {\n",
       "        vertical-align: top;\n",
       "    }\n",
       "\n",
       "    .dataframe thead th {\n",
       "        text-align: right;\n",
       "    }\n",
       "</style>\n",
       "<table border=\"1\" class=\"dataframe\">\n",
       "  <thead>\n",
       "    <tr style=\"text-align: right;\">\n",
       "      <th></th>\n",
       "      <th>dtype</th>\n",
       "      <th>n_unique</th>\n",
       "      <th>%_unique</th>\n",
       "      <th>n_missing</th>\n",
       "      <th>%_missing</th>\n",
       "      <th>mode</th>\n",
       "      <th>mode_freq</th>\n",
       "    </tr>\n",
       "    <tr>\n",
       "      <th>col</th>\n",
       "      <th></th>\n",
       "      <th></th>\n",
       "      <th></th>\n",
       "      <th></th>\n",
       "      <th></th>\n",
       "      <th></th>\n",
       "      <th></th>\n",
       "    </tr>\n",
       "  </thead>\n",
       "  <tbody>\n",
       "    <tr>\n",
       "      <th>side_to_move</th>\n",
       "      <td>object</td>\n",
       "      <td>2</td>\n",
       "      <td>0.0</td>\n",
       "      <td>0</td>\n",
       "      <td>0.0</td>\n",
       "      <td>black</td>\n",
       "      <td>0.5004</td>\n",
       "    </tr>\n",
       "    <tr>\n",
       "      <th>castling_state</th>\n",
       "      <td>category</td>\n",
       "      <td>4</td>\n",
       "      <td>0.0</td>\n",
       "      <td>0</td>\n",
       "      <td>0.0</td>\n",
       "      <td>none</td>\n",
       "      <td>0.9119</td>\n",
       "    </tr>\n",
       "    <tr>\n",
       "      <th>ep_available</th>\n",
       "      <td>boolean</td>\n",
       "      <td>2</td>\n",
       "      <td>0.0</td>\n",
       "      <td>0</td>\n",
       "      <td>0.0</td>\n",
       "      <td>False</td>\n",
       "      <td>0.9984</td>\n",
       "    </tr>\n",
       "    <tr>\n",
       "      <th>has_w_queen</th>\n",
       "      <td>boolean</td>\n",
       "      <td>2</td>\n",
       "      <td>0.0</td>\n",
       "      <td>0</td>\n",
       "      <td>0.0</td>\n",
       "      <td>True</td>\n",
       "      <td>0.6300</td>\n",
       "    </tr>\n",
       "    <tr>\n",
       "      <th>has_b_queen</th>\n",
       "      <td>boolean</td>\n",
       "      <td>2</td>\n",
       "      <td>0.0</td>\n",
       "      <td>0</td>\n",
       "      <td>0.0</td>\n",
       "      <td>True</td>\n",
       "      <td>0.6261</td>\n",
       "    </tr>\n",
       "    <tr>\n",
       "      <th>has_any_queen</th>\n",
       "      <td>boolean</td>\n",
       "      <td>2</td>\n",
       "      <td>0.0</td>\n",
       "      <td>0</td>\n",
       "      <td>0.0</td>\n",
       "      <td>True</td>\n",
       "      <td>0.6445</td>\n",
       "    </tr>\n",
       "  </tbody>\n",
       "</table>\n",
       "</div>"
      ],
      "text/plain": [
       "                   dtype  n_unique  %_unique  n_missing  %_missing   mode  \\\n",
       "col                                                                         \n",
       "side_to_move      object         2       0.0          0        0.0  black   \n",
       "castling_state  category         4       0.0          0        0.0   none   \n",
       "ep_available     boolean         2       0.0          0        0.0  False   \n",
       "has_w_queen      boolean         2       0.0          0        0.0   True   \n",
       "has_b_queen      boolean         2       0.0          0        0.0   True   \n",
       "has_any_queen    boolean         2       0.0          0        0.0   True   \n",
       "\n",
       "                mode_freq  \n",
       "col                        \n",
       "side_to_move       0.5004  \n",
       "castling_state     0.9119  \n",
       "ep_available       0.9984  \n",
       "has_w_queen        0.6300  \n",
       "has_b_queen        0.6261  \n",
       "has_any_queen      0.6445  "
      ]
     },
     "metadata": {},
     "output_type": "display_data"
    },
    {
     "name": "stderr",
     "output_type": "stream",
     "text": [
      "  0%|          | 0/6 [00:00<?, ?it/s]"
     ]
    },
    {
     "name": "stdout",
     "output_type": "stream",
     "text": [
      "====================================================================================================\n",
      "🔹 side_to_move\n",
      "Frecuencias de Turno al mover (Top 2) — n=12958035, faltantes=0\n"
     ]
    },
    {
     "data": {
      "text/html": [
       "<div>\n",
       "<style scoped>\n",
       "    .dataframe tbody tr th:only-of-type {\n",
       "        vertical-align: middle;\n",
       "    }\n",
       "\n",
       "    .dataframe tbody tr th {\n",
       "        vertical-align: top;\n",
       "    }\n",
       "\n",
       "    .dataframe thead th {\n",
       "        text-align: right;\n",
       "    }\n",
       "</style>\n",
       "<table border=\"1\" class=\"dataframe\">\n",
       "  <thead>\n",
       "    <tr style=\"text-align: right;\">\n",
       "      <th></th>\n",
       "      <th>Conteo</th>\n",
       "      <th>Porcentaje</th>\n",
       "    </tr>\n",
       "    <tr>\n",
       "      <th>side_to_move</th>\n",
       "      <th></th>\n",
       "      <th></th>\n",
       "    </tr>\n",
       "  </thead>\n",
       "  <tbody>\n",
       "    <tr>\n",
       "      <th>black</th>\n",
       "      <td>6484130</td>\n",
       "      <td>50.04</td>\n",
       "    </tr>\n",
       "    <tr>\n",
       "      <th>white</th>\n",
       "      <td>6473905</td>\n",
       "      <td>49.96</td>\n",
       "    </tr>\n",
       "  </tbody>\n",
       "</table>\n",
       "</div>"
      ],
      "text/plain": [
       "               Conteo  Porcentaje\n",
       "side_to_move                     \n",
       "black         6484130       50.04\n",
       "white         6473905       49.96"
      ]
     },
     "metadata": {},
     "output_type": "display_data"
    },
    {
     "data": {
      "image/png": "[encoded data removed]",
      "text/plain": [
       "<Figure size 900x400 with 1 Axes>"
      ]
     },
     "metadata": {},
     "output_type": "display_data"
    },
    {
     "name": "stdout",
     "output_type": "stream",
     "text": [
      "Resumen de evaluation por Turno al mover (Top 2)\n"
     ]
    },
    {
     "data": {
      "text/html": [
       "<div>\n",
       "<style scoped>\n",
       "    .dataframe tbody tr th:only-of-type {\n",
       "        vertical-align: middle;\n",
       "    }\n",
       "\n",
       "    .dataframe tbody tr th {\n",
       "        vertical-align: top;\n",
       "    }\n",
       "\n",
       "    .dataframe thead th {\n",
       "        text-align: right;\n",
       "    }\n",
       "</style>\n",
       "<table border=\"1\" class=\"dataframe\">\n",
       "  <thead>\n",
       "    <tr style=\"text-align: right;\">\n",
       "      <th></th>\n",
       "      <th>conteo</th>\n",
       "      <th>media</th>\n",
       "      <th>mediana</th>\n",
       "      <th>desv_std</th>\n",
       "    </tr>\n",
       "    <tr>\n",
       "      <th>side_to_move</th>\n",
       "      <th></th>\n",
       "      <th></th>\n",
       "      <th></th>\n",
       "      <th></th>\n",
       "    </tr>\n",
       "  </thead>\n",
       "  <tbody>\n",
       "    <tr>\n",
       "      <th>black</th>\n",
       "      <td>6388746</td>\n",
       "      <td>29.806742</td>\n",
       "      <td>0.0</td>\n",
       "      <td>818.405862</td>\n",
       "    </tr>\n",
       "    <tr>\n",
       "      <th>white</th>\n",
       "      <td>6379135</td>\n",
       "      <td>61.230151</td>\n",
       "      <td>49.0</td>\n",
       "      <td>809.029674</td>\n",
       "    </tr>\n",
       "  </tbody>\n",
       "</table>\n",
       "</div>"
      ],
      "text/plain": [
       "               conteo      media  mediana    desv_std\n",
       "side_to_move                                         \n",
       "black         6388746  29.806742      0.0  818.405862\n",
       "white         6379135  61.230151     49.0  809.029674"
      ]
     },
     "metadata": {},
     "output_type": "display_data"
    },
    {
     "name": "stderr",
     "output_type": "stream",
     "text": [
      "C:\\Users\\samir\\AppData\\Local\\Temp\\ipykernel_7508\\1138255799.py:120: MatplotlibDeprecationWarning: The 'labels' parameter of boxplot() has been renamed 'tick_labels' since Matplotlib 3.9; support for the old name will be dropped in 3.11.\n",
      "  plt.boxplot(data, labels=labels, showfliers=False)\n"
     ]
    },
    {
     "data": {
      "image/png": "[encoded data removed]",
      "text/plain": [
       "<Figure size 1000x400 with 1 Axes>"
      ]
     },
     "metadata": {},
     "output_type": "display_data"
    },
    {
     "name": "stderr",
     "output_type": "stream",
     "text": [
      " 17%|█▋        | 1/6 [00:04<00:23,  4.73s/it]"
     ]
    },
    {
     "name": "stdout",
     "output_type": "stream",
     "text": [
      "====================================================================================================\n",
      "🔹 castling_state\n",
      "Frecuencias de Estado de enroques (Top 4) — n=12958035, faltantes=0\n"
     ]
    },
    {
     "data": {
      "text/html": [
       "<div>\n",
       "<style scoped>\n",
       "    .dataframe tbody tr th:only-of-type {\n",
       "        vertical-align: middle;\n",
       "    }\n",
       "\n",
       "    .dataframe tbody tr th {\n",
       "        vertical-align: top;\n",
       "    }\n",
       "\n",
       "    .dataframe thead th {\n",
       "        text-align: right;\n",
       "    }\n",
       "</style>\n",
       "<table border=\"1\" class=\"dataframe\">\n",
       "  <thead>\n",
       "    <tr style=\"text-align: right;\">\n",
       "      <th></th>\n",
       "      <th>Conteo</th>\n",
       "      <th>Porcentaje</th>\n",
       "    </tr>\n",
       "    <tr>\n",
       "      <th>castling_state</th>\n",
       "      <th></th>\n",
       "      <th></th>\n",
       "    </tr>\n",
       "  </thead>\n",
       "  <tbody>\n",
       "    <tr>\n",
       "      <th>none</th>\n",
       "      <td>11816449</td>\n",
       "      <td>91.19</td>\n",
       "    </tr>\n",
       "    <tr>\n",
       "      <th>black_only</th>\n",
       "      <td>432278</td>\n",
       "      <td>3.34</td>\n",
       "    </tr>\n",
       "    <tr>\n",
       "      <th>both</th>\n",
       "      <td>360032</td>\n",
       "      <td>2.78</td>\n",
       "    </tr>\n",
       "    <tr>\n",
       "      <th>white_only</th>\n",
       "      <td>349276</td>\n",
       "      <td>2.70</td>\n",
       "    </tr>\n",
       "  </tbody>\n",
       "</table>\n",
       "</div>"
      ],
      "text/plain": [
       "                  Conteo  Porcentaje\n",
       "castling_state                      \n",
       "none            11816449       91.19\n",
       "black_only        432278        3.34\n",
       "both              360032        2.78\n",
       "white_only        349276        2.70"
      ]
     },
     "metadata": {},
     "output_type": "display_data"
    },
    {
     "data": {
      "image/png": "[encoded data removed]",
      "text/plain": [
       "<Figure size 900x400 with 1 Axes>"
      ]
     },
     "metadata": {},
     "output_type": "display_data"
    },
    {
     "name": "stdout",
     "output_type": "stream",
     "text": [
      "Resumen de evaluation por Estado de enroques (Top 4)\n"
     ]
    },
    {
     "data": {
      "text/html": [
       "<div>\n",
       "<style scoped>\n",
       "    .dataframe tbody tr th:only-of-type {\n",
       "        vertical-align: middle;\n",
       "    }\n",
       "\n",
       "    .dataframe tbody tr th {\n",
       "        vertical-align: top;\n",
       "    }\n",
       "\n",
       "    .dataframe thead th {\n",
       "        text-align: right;\n",
       "    }\n",
       "</style>\n",
       "<table border=\"1\" class=\"dataframe\">\n",
       "  <thead>\n",
       "    <tr style=\"text-align: right;\">\n",
       "      <th></th>\n",
       "      <th>conteo</th>\n",
       "      <th>media</th>\n",
       "      <th>mediana</th>\n",
       "      <th>desv_std</th>\n",
       "    </tr>\n",
       "    <tr>\n",
       "      <th>castling_state</th>\n",
       "      <th></th>\n",
       "      <th></th>\n",
       "      <th></th>\n",
       "      <th></th>\n",
       "    </tr>\n",
       "  </thead>\n",
       "  <tbody>\n",
       "    <tr>\n",
       "      <th>none</th>\n",
       "      <td>11628772</td>\n",
       "      <td>46.885791</td>\n",
       "      <td>13.0</td>\n",
       "      <td>849.692598</td>\n",
       "    </tr>\n",
       "    <tr>\n",
       "      <th>black_only</th>\n",
       "      <td>431052</td>\n",
       "      <td>37.317189</td>\n",
       "      <td>24.0</td>\n",
       "      <td>265.807614</td>\n",
       "    </tr>\n",
       "    <tr>\n",
       "      <th>both</th>\n",
       "      <td>359916</td>\n",
       "      <td>29.064368</td>\n",
       "      <td>25.0</td>\n",
       "      <td>151.011327</td>\n",
       "    </tr>\n",
       "    <tr>\n",
       "      <th>white_only</th>\n",
       "      <td>348141</td>\n",
       "      <td>26.577022</td>\n",
       "      <td>24.0</td>\n",
       "      <td>256.688785</td>\n",
       "    </tr>\n",
       "  </tbody>\n",
       "</table>\n",
       "</div>"
      ],
      "text/plain": [
       "                  conteo      media  mediana    desv_std\n",
       "castling_state                                          \n",
       "none            11628772  46.885791     13.0  849.692598\n",
       "black_only        431052  37.317189     24.0  265.807614\n",
       "both              359916  29.064368     25.0  151.011327\n",
       "white_only        348141  26.577022     24.0  256.688785"
      ]
     },
     "metadata": {},
     "output_type": "display_data"
    },
    {
     "name": "stderr",
     "output_type": "stream",
     "text": [
      "C:\\Users\\samir\\AppData\\Local\\Temp\\ipykernel_7508\\1138255799.py:120: MatplotlibDeprecationWarning: The 'labels' parameter of boxplot() has been renamed 'tick_labels' since Matplotlib 3.9; support for the old name will be dropped in 3.11.\n",
      "  plt.boxplot(data, labels=labels, showfliers=False)\n"
     ]
    },
    {
     "data": {
      "image/png": "[encoded data removed]",
      "text/plain": [
       "<Figure size 1000x400 with 1 Axes>"
      ]
     },
     "metadata": {},
     "output_type": "display_data"
    },
    {
     "name": "stderr",
     "output_type": "stream",
     "text": [
      " 33%|███▎      | 2/6 [00:06<00:11,  2.83s/it]"
     ]
    },
    {
     "name": "stdout",
     "output_type": "stream",
     "text": [
      "====================================================================================================\n",
      "🔹 ep_available\n",
      "Frecuencias de En passant disponible (Top 2) — n=12958035, faltantes=0\n"
     ]
    },
    {
     "data": {
      "text/html": [
       "<div>\n",
       "<style scoped>\n",
       "    .dataframe tbody tr th:only-of-type {\n",
       "        vertical-align: middle;\n",
       "    }\n",
       "\n",
       "    .dataframe tbody tr th {\n",
       "        vertical-align: top;\n",
       "    }\n",
       "\n",
       "    .dataframe thead th {\n",
       "        text-align: right;\n",
       "    }\n",
       "</style>\n",
       "<table border=\"1\" class=\"dataframe\">\n",
       "  <thead>\n",
       "    <tr style=\"text-align: right;\">\n",
       "      <th></th>\n",
       "      <th>Conteo</th>\n",
       "      <th>Porcentaje</th>\n",
       "    </tr>\n",
       "    <tr>\n",
       "      <th>ep_available</th>\n",
       "      <th></th>\n",
       "      <th></th>\n",
       "    </tr>\n",
       "  </thead>\n",
       "  <tbody>\n",
       "    <tr>\n",
       "      <th>False</th>\n",
       "      <td>12937295</td>\n",
       "      <td>99.84</td>\n",
       "    </tr>\n",
       "    <tr>\n",
       "      <th>True</th>\n",
       "      <td>20740</td>\n",
       "      <td>0.16</td>\n",
       "    </tr>\n",
       "  </tbody>\n",
       "</table>\n",
       "</div>"
      ],
      "text/plain": [
       "                Conteo  Porcentaje\n",
       "ep_available                      \n",
       "False         12937295       99.84\n",
       "True             20740        0.16"
      ]
     },
     "metadata": {},
     "output_type": "display_data"
    },
    {
     "data": {
      "image/png": "[encoded data removed]",
      "text/plain": [
       "<Figure size 900x400 with 1 Axes>"
      ]
     },
     "metadata": {},
     "output_type": "display_data"
    },
    {
     "name": "stdout",
     "output_type": "stream",
     "text": [
      "Resumen de evaluation por En passant disponible (Top 2)\n"
     ]
    },
    {
     "data": {
      "text/html": [
       "<div>\n",
       "<style scoped>\n",
       "    .dataframe tbody tr th:only-of-type {\n",
       "        vertical-align: middle;\n",
       "    }\n",
       "\n",
       "    .dataframe tbody tr th {\n",
       "        vertical-align: top;\n",
       "    }\n",
       "\n",
       "    .dataframe thead th {\n",
       "        text-align: right;\n",
       "    }\n",
       "</style>\n",
       "<table border=\"1\" class=\"dataframe\">\n",
       "  <thead>\n",
       "    <tr style=\"text-align: right;\">\n",
       "      <th></th>\n",
       "      <th>conteo</th>\n",
       "      <th>media</th>\n",
       "      <th>mediana</th>\n",
       "      <th>desv_std</th>\n",
       "    </tr>\n",
       "    <tr>\n",
       "      <th>ep_available</th>\n",
       "      <th></th>\n",
       "      <th></th>\n",
       "      <th></th>\n",
       "      <th></th>\n",
       "    </tr>\n",
       "  </thead>\n",
       "  <tbody>\n",
       "    <tr>\n",
       "      <th>False</th>\n",
       "      <td>12747301</td>\n",
       "      <td>45.437952</td>\n",
       "      <td>15.0</td>\n",
       "      <td>814.303994</td>\n",
       "    </tr>\n",
       "    <tr>\n",
       "      <th>True</th>\n",
       "      <td>20580</td>\n",
       "      <td>88.039456</td>\n",
       "      <td>74.0</td>\n",
       "      <td>489.390317</td>\n",
       "    </tr>\n",
       "  </tbody>\n",
       "</table>\n",
       "</div>"
      ],
      "text/plain": [
       "                conteo      media  mediana    desv_std\n",
       "ep_available                                          \n",
       "False         12747301  45.437952     15.0  814.303994\n",
       "True             20580  88.039456     74.0  489.390317"
      ]
     },
     "metadata": {},
     "output_type": "display_data"
    },
    {
     "name": "stderr",
     "output_type": "stream",
     "text": [
      "C:\\Users\\samir\\AppData\\Local\\Temp\\ipykernel_7508\\1138255799.py:120: MatplotlibDeprecationWarning: The 'labels' parameter of boxplot() has been renamed 'tick_labels' since Matplotlib 3.9; support for the old name will be dropped in 3.11.\n",
      "  plt.boxplot(data, labels=labels, showfliers=False)\n"
     ]
    },
    {
     "data": {
      "image/png": "[encoded data removed]",
      "text/plain": [
       "<Figure size 1000x400 with 1 Axes>"
      ]
     },
     "metadata": {},
     "output_type": "display_data"
    },
    {
     "name": "stderr",
     "output_type": "stream",
     "text": [
      " 50%|█████     | 3/6 [00:07<00:06,  2.22s/it]"
     ]
    },
    {
     "name": "stdout",
     "output_type": "stream",
     "text": [
      "====================================================================================================\n",
      "🔹 has_w_queen\n",
      "Frecuencias de Dama blanca presente (Top 2) — n=12958035, faltantes=0\n"
     ]
    },
    {
     "data": {
      "text/html": [
       "<div>\n",
       "<style scoped>\n",
       "    .dataframe tbody tr th:only-of-type {\n",
       "        vertical-align: middle;\n",
       "    }\n",
       "\n",
       "    .dataframe tbody tr th {\n",
       "        vertical-align: top;\n",
       "    }\n",
       "\n",
       "    .dataframe thead th {\n",
       "        text-align: right;\n",
       "    }\n",
       "</style>\n",
       "<table border=\"1\" class=\"dataframe\">\n",
       "  <thead>\n",
       "    <tr style=\"text-align: right;\">\n",
       "      <th></th>\n",
       "      <th>Conteo</th>\n",
       "      <th>Porcentaje</th>\n",
       "    </tr>\n",
       "    <tr>\n",
       "      <th>has_w_queen</th>\n",
       "      <th></th>\n",
       "      <th></th>\n",
       "    </tr>\n",
       "  </thead>\n",
       "  <tbody>\n",
       "    <tr>\n",
       "      <th>True</th>\n",
       "      <td>8164049</td>\n",
       "      <td>63.0</td>\n",
       "    </tr>\n",
       "    <tr>\n",
       "      <th>False</th>\n",
       "      <td>4793986</td>\n",
       "      <td>37.0</td>\n",
       "    </tr>\n",
       "  </tbody>\n",
       "</table>\n",
       "</div>"
      ],
      "text/plain": [
       "              Conteo  Porcentaje\n",
       "has_w_queen                     \n",
       "True         8164049        63.0\n",
       "False        4793986        37.0"
      ]
     },
     "metadata": {},
     "output_type": "display_data"
    },
    {
     "data": {
      "image/png": "[encoded data removed]",
      "text/plain": [
       "<Figure size 900x400 with 1 Axes>"
      ]
     },
     "metadata": {},
     "output_type": "display_data"
    },
    {
     "name": "stdout",
     "output_type": "stream",
     "text": [
      "Resumen de evaluation por Dama blanca presente (Top 2)\n"
     ]
    },
    {
     "data": {
      "text/html": [
       "<div>\n",
       "<style scoped>\n",
       "    .dataframe tbody tr th:only-of-type {\n",
       "        vertical-align: middle;\n",
       "    }\n",
       "\n",
       "    .dataframe tbody tr th {\n",
       "        vertical-align: top;\n",
       "    }\n",
       "\n",
       "    .dataframe thead th {\n",
       "        text-align: right;\n",
       "    }\n",
       "</style>\n",
       "<table border=\"1\" class=\"dataframe\">\n",
       "  <thead>\n",
       "    <tr style=\"text-align: right;\">\n",
       "      <th></th>\n",
       "      <th>conteo</th>\n",
       "      <th>media</th>\n",
       "      <th>mediana</th>\n",
       "      <th>desv_std</th>\n",
       "    </tr>\n",
       "    <tr>\n",
       "      <th>has_w_queen</th>\n",
       "      <th></th>\n",
       "      <th></th>\n",
       "      <th></th>\n",
       "      <th></th>\n",
       "    </tr>\n",
       "  </thead>\n",
       "  <tbody>\n",
       "    <tr>\n",
       "      <th>True</th>\n",
       "      <td>8044603</td>\n",
       "      <td>60.273405</td>\n",
       "      <td>29.0</td>\n",
       "      <td>619.343417</td>\n",
       "    </tr>\n",
       "    <tr>\n",
       "      <th>False</th>\n",
       "      <td>4723278</td>\n",
       "      <td>20.356094</td>\n",
       "      <td>0.0</td>\n",
       "      <td>1065.972288</td>\n",
       "    </tr>\n",
       "  </tbody>\n",
       "</table>\n",
       "</div>"
      ],
      "text/plain": [
       "              conteo      media  mediana     desv_std\n",
       "has_w_queen                                          \n",
       "True         8044603  60.273405     29.0   619.343417\n",
       "False        4723278  20.356094      0.0  1065.972288"
      ]
     },
     "metadata": {},
     "output_type": "display_data"
    },
    {
     "name": "stderr",
     "output_type": "stream",
     "text": [
      "C:\\Users\\samir\\AppData\\Local\\Temp\\ipykernel_7508\\1138255799.py:120: MatplotlibDeprecationWarning: The 'labels' parameter of boxplot() has been renamed 'tick_labels' since Matplotlib 3.9; support for the old name will be dropped in 3.11.\n",
      "  plt.boxplot(data, labels=labels, showfliers=False)\n"
     ]
    },
    {
     "data": {
      "image/png": "[encoded data removed]",
      "text/plain": [
       "<Figure size 1000x400 with 1 Axes>"
      ]
     },
     "metadata": {},
     "output_type": "display_data"
    },
    {
     "name": "stderr",
     "output_type": "stream",
     "text": [
      " 67%|██████▋   | 4/6 [00:09<00:03,  1.96s/it]"
     ]
    },
    {
     "name": "stdout",
     "output_type": "stream",
     "text": [
      "====================================================================================================\n",
      "🔹 has_b_queen\n",
      "Frecuencias de Dama negra presente (Top 2) — n=12958035, faltantes=0\n"
     ]
    },
    {
     "data": {
      "text/html": [
       "<div>\n",
       "<style scoped>\n",
       "    .dataframe tbody tr th:only-of-type {\n",
       "        vertical-align: middle;\n",
       "    }\n",
       "\n",
       "    .dataframe tbody tr th {\n",
       "        vertical-align: top;\n",
       "    }\n",
       "\n",
       "    .dataframe thead th {\n",
       "        text-align: right;\n",
       "    }\n",
       "</style>\n",
       "<table border=\"1\" class=\"dataframe\">\n",
       "  <thead>\n",
       "    <tr style=\"text-align: right;\">\n",
       "      <th></th>\n",
       "      <th>Conteo</th>\n",
       "      <th>Porcentaje</th>\n",
       "    </tr>\n",
       "    <tr>\n",
       "      <th>has_b_queen</th>\n",
       "      <th></th>\n",
       "      <th></th>\n",
       "    </tr>\n",
       "  </thead>\n",
       "  <tbody>\n",
       "    <tr>\n",
       "      <th>True</th>\n",
       "      <td>8112854</td>\n",
       "      <td>62.61</td>\n",
       "    </tr>\n",
       "    <tr>\n",
       "      <th>False</th>\n",
       "      <td>4845181</td>\n",
       "      <td>37.39</td>\n",
       "    </tr>\n",
       "  </tbody>\n",
       "</table>\n",
       "</div>"
      ],
      "text/plain": [
       "              Conteo  Porcentaje\n",
       "has_b_queen                     \n",
       "True         8112854       62.61\n",
       "False        4845181       37.39"
      ]
     },
     "metadata": {},
     "output_type": "display_data"
    },
    {
     "data": {
      "image/png": "[encoded data removed]",
      "text/plain": [
       "<Figure size 900x400 with 1 Axes>"
      ]
     },
     "metadata": {},
     "output_type": "display_data"
    },
    {
     "name": "stdout",
     "output_type": "stream",
     "text": [
      "Resumen de evaluation por Dama negra presente (Top 2)\n"
     ]
    },
    {
     "data": {
      "text/html": [
       "<div>\n",
       "<style scoped>\n",
       "    .dataframe tbody tr th:only-of-type {\n",
       "        vertical-align: middle;\n",
       "    }\n",
       "\n",
       "    .dataframe tbody tr th {\n",
       "        vertical-align: top;\n",
       "    }\n",
       "\n",
       "    .dataframe thead th {\n",
       "        text-align: right;\n",
       "    }\n",
       "</style>\n",
       "<table border=\"1\" class=\"dataframe\">\n",
       "  <thead>\n",
       "    <tr style=\"text-align: right;\">\n",
       "      <th></th>\n",
       "      <th>conteo</th>\n",
       "      <th>media</th>\n",
       "      <th>mediana</th>\n",
       "      <th>desv_std</th>\n",
       "    </tr>\n",
       "    <tr>\n",
       "      <th>has_b_queen</th>\n",
       "      <th></th>\n",
       "      <th></th>\n",
       "      <th></th>\n",
       "      <th></th>\n",
       "    </tr>\n",
       "  </thead>\n",
       "  <tbody>\n",
       "    <tr>\n",
       "      <th>True</th>\n",
       "      <td>7996324</td>\n",
       "      <td>40.965398</td>\n",
       "      <td>25.0</td>\n",
       "      <td>613.318768</td>\n",
       "    </tr>\n",
       "    <tr>\n",
       "      <th>False</th>\n",
       "      <td>4771557</td>\n",
       "      <td>53.116940</td>\n",
       "      <td>0.0</td>\n",
       "      <td>1068.656895</td>\n",
       "    </tr>\n",
       "  </tbody>\n",
       "</table>\n",
       "</div>"
      ],
      "text/plain": [
       "              conteo      media  mediana     desv_std\n",
       "has_b_queen                                          \n",
       "True         7996324  40.965398     25.0   613.318768\n",
       "False        4771557  53.116940      0.0  1068.656895"
      ]
     },
     "metadata": {},
     "output_type": "display_data"
    },
    {
     "name": "stderr",
     "output_type": "stream",
     "text": [
      "C:\\Users\\samir\\AppData\\Local\\Temp\\ipykernel_7508\\1138255799.py:120: MatplotlibDeprecationWarning: The 'labels' parameter of boxplot() has been renamed 'tick_labels' since Matplotlib 3.9; support for the old name will be dropped in 3.11.\n",
      "  plt.boxplot(data, labels=labels, showfliers=False)\n"
     ]
    },
    {
     "data": {
      "image/png": "[encoded data removed]",
      "text/plain": [
       "<Figure size 1000x400 with 1 Axes>"
      ]
     },
     "metadata": {},
     "output_type": "display_data"
    },
    {
     "name": "stderr",
     "output_type": "stream",
     "text": [
      " 83%|████████▎ | 5/6 [00:10<00:01,  1.81s/it]"
     ]
    },
    {
     "name": "stdout",
     "output_type": "stream",
     "text": [
      "====================================================================================================\n",
      "🔹 has_any_queen\n",
      "Frecuencias de Alguna dama presente (Top 2) — n=12958035, faltantes=0\n"
     ]
    },
    {
     "data": {
      "text/html": [
       "<div>\n",
       "<style scoped>\n",
       "    .dataframe tbody tr th:only-of-type {\n",
       "        vertical-align: middle;\n",
       "    }\n",
       "\n",
       "    .dataframe tbody tr th {\n",
       "        vertical-align: top;\n",
       "    }\n",
       "\n",
       "    .dataframe thead th {\n",
       "        text-align: right;\n",
       "    }\n",
       "</style>\n",
       "<table border=\"1\" class=\"dataframe\">\n",
       "  <thead>\n",
       "    <tr style=\"text-align: right;\">\n",
       "      <th></th>\n",
       "      <th>Conteo</th>\n",
       "      <th>Porcentaje</th>\n",
       "    </tr>\n",
       "    <tr>\n",
       "      <th>has_any_queen</th>\n",
       "      <th></th>\n",
       "      <th></th>\n",
       "    </tr>\n",
       "  </thead>\n",
       "  <tbody>\n",
       "    <tr>\n",
       "      <th>True</th>\n",
       "      <td>8351434</td>\n",
       "      <td>64.45</td>\n",
       "    </tr>\n",
       "    <tr>\n",
       "      <th>False</th>\n",
       "      <td>4606601</td>\n",
       "      <td>35.55</td>\n",
       "    </tr>\n",
       "  </tbody>\n",
       "</table>\n",
       "</div>"
      ],
      "text/plain": [
       "                Conteo  Porcentaje\n",
       "has_any_queen                     \n",
       "True           8351434       64.45\n",
       "False          4606601       35.55"
      ]
     },
     "metadata": {},
     "output_type": "display_data"
    },
    {
     "data": {
      "image/png": "[encoded data removed]",
      "text/plain": [
       "<Figure size 900x400 with 1 Axes>"
      ]
     },
     "metadata": {},
     "output_type": "display_data"
    },
    {
     "name": "stdout",
     "output_type": "stream",
     "text": [
      "Resumen de evaluation por Alguna dama presente (Top 2)\n"
     ]
    },
    {
     "data": {
      "text/html": [
       "<div>\n",
       "<style scoped>\n",
       "    .dataframe tbody tr th:only-of-type {\n",
       "        vertical-align: middle;\n",
       "    }\n",
       "\n",
       "    .dataframe tbody tr th {\n",
       "        vertical-align: top;\n",
       "    }\n",
       "\n",
       "    .dataframe thead th {\n",
       "        text-align: right;\n",
       "    }\n",
       "</style>\n",
       "<table border=\"1\" class=\"dataframe\">\n",
       "  <thead>\n",
       "    <tr style=\"text-align: right;\">\n",
       "      <th></th>\n",
       "      <th>conteo</th>\n",
       "      <th>media</th>\n",
       "      <th>mediana</th>\n",
       "      <th>desv_std</th>\n",
       "    </tr>\n",
       "    <tr>\n",
       "      <th>has_any_queen</th>\n",
       "      <th></th>\n",
       "      <th></th>\n",
       "      <th></th>\n",
       "      <th></th>\n",
       "    </tr>\n",
       "  </thead>\n",
       "  <tbody>\n",
       "    <tr>\n",
       "      <th>True</th>\n",
       "      <td>8215701</td>\n",
       "      <td>51.482575</td>\n",
       "      <td>27.0</td>\n",
       "      <td>648.782757</td>\n",
       "    </tr>\n",
       "    <tr>\n",
       "      <th>False</th>\n",
       "      <td>4552180</td>\n",
       "      <td>34.721311</td>\n",
       "      <td>0.0</td>\n",
       "      <td>1047.889084</td>\n",
       "    </tr>\n",
       "  </tbody>\n",
       "</table>\n",
       "</div>"
      ],
      "text/plain": [
       "                conteo      media  mediana     desv_std\n",
       "has_any_queen                                          \n",
       "True           8215701  51.482575     27.0   648.782757\n",
       "False          4552180  34.721311      0.0  1047.889084"
      ]
     },
     "metadata": {},
     "output_type": "display_data"
    },
    {
     "name": "stderr",
     "output_type": "stream",
     "text": [
      "C:\\Users\\samir\\AppData\\Local\\Temp\\ipykernel_7508\\1138255799.py:120: MatplotlibDeprecationWarning: The 'labels' parameter of boxplot() has been renamed 'tick_labels' since Matplotlib 3.9; support for the old name will be dropped in 3.11.\n",
      "  plt.boxplot(data, labels=labels, showfliers=False)\n"
     ]
    },
    {
     "data": {
      "image/png": "[encoded data removed]",
      "text/plain": [
       "<Figure size 1000x400 with 1 Axes>"
      ]
     },
     "metadata": {},
     "output_type": "display_data"
    },
    {
     "name": "stderr",
     "output_type": "stream",
     "text": [
      "100%|██████████| 6/6 [00:12<00:00,  2.07s/it]\n",
      "C:\\Users\\samir\\AppData\\Local\\Temp\\ipykernel_7508\\209905380.py:28: FutureWarning: The default value of observed=False is deprecated and will change to observed=True in a future version of pandas. Specify observed=False to silence this warning and retain the current behavior\n",
      "  pivot = df_for_uva.pivot_table(index='side_to_move', columns='castling_state', values='evaluation', aggfunc='mean')\n"
     ]
    },
    {
     "name": "stdout",
     "output_type": "stream",
     "text": [
      "Media de evaluation por Turno al mover × Estado de enroques\n"
     ]
    },
    {
     "data": {
      "text/html": [
       "<div>\n",
       "<style scoped>\n",
       "    .dataframe tbody tr th:only-of-type {\n",
       "        vertical-align: middle;\n",
       "    }\n",
       "\n",
       "    .dataframe tbody tr th {\n",
       "        vertical-align: top;\n",
       "    }\n",
       "\n",
       "    .dataframe thead th {\n",
       "        text-align: right;\n",
       "    }\n",
       "</style>\n",
       "<table border=\"1\" class=\"dataframe\">\n",
       "  <thead>\n",
       "    <tr style=\"text-align: right;\">\n",
       "      <th>castling_state</th>\n",
       "      <th>black_only</th>\n",
       "      <th>both</th>\n",
       "      <th>none</th>\n",
       "      <th>white_only</th>\n",
       "    </tr>\n",
       "    <tr>\n",
       "      <th>side_to_move</th>\n",
       "      <th></th>\n",
       "      <th></th>\n",
       "      <th></th>\n",
       "      <th></th>\n",
       "    </tr>\n",
       "  </thead>\n",
       "  <tbody>\n",
       "    <tr>\n",
       "      <th>black</th>\n",
       "      <td>3.32</td>\n",
       "      <td>-7.75</td>\n",
       "      <td>33.20</td>\n",
       "      <td>-13.47</td>\n",
       "    </tr>\n",
       "    <tr>\n",
       "      <th>white</th>\n",
       "      <td>78.22</td>\n",
       "      <td>65.57</td>\n",
       "      <td>60.58</td>\n",
       "      <td>59.45</td>\n",
       "    </tr>\n",
       "  </tbody>\n",
       "</table>\n",
       "</div>"
      ],
      "text/plain": [
       "castling_state  black_only   both   none  white_only\n",
       "side_to_move                                        \n",
       "black                 3.32  -7.75  33.20      -13.47\n",
       "white                78.22  65.57  60.58       59.45"
      ]
     },
     "metadata": {},
     "output_type": "display_data"
    }
   ],
   "source": [
    "# Features categóricas derivadas desde FEN y análisis respecto a evaluation\n",
    "fen_series = df_chess['fen'].astype('string')\n",
    "feat = pd.DataFrame(index=df_chess.index)\n",
    "feat['side_to_move'] = extract_active_turn(fen_series)\n",
    "cast = extract_castling_rights(fen_series)\n",
    "queens = extract_queen_presence(fen_series)\n",
    "# Paridad de alfiles es costosa; activarla solo si ENABLE_BISHOP_PARITY=True\n",
    "if ENABLE_BISHOP_PARITY:\n",
    "    bishp = extract_bishop_parity(fen_series)\n",
    "    feat = pd.concat([feat, cast[['castling_state','ep_available']], queens[['has_w_queen','has_b_queen','has_any_queen']], bishp[['w_bishops_colors','b_bishops_colors','bishops_parity']]], axis=1)\n",
    "else:\n",
    "    feat = pd.concat([feat, cast[['castling_state','ep_available']], queens[['has_w_queen','has_b_queen','has_any_queen']]], axis=1)\n",
    "\n",
    "print('Resumen de columnas FEN derivadas (categóricas):')\n",
    "display(summarize_categoricals(feat))\n",
    "\n",
    "# Relación con evaluation\n",
    "df_for_uva = pd.concat([feat, df_chess[['evaluation']]], axis=1)\n",
    "cols_analisis = ['side_to_move','castling_state','ep_available','has_w_queen','has_b_queen','has_any_queen']\n",
    "if ENABLE_BISHOP_PARITY:\n",
    "    cols_analisis += ['w_bishops_colors','b_bishops_colors','bishops_parity']\n",
    "for c in tqdm(cols_analisis, total=len(cols_analisis)):\n",
    "    print('='*100)\n",
    "    print(f'🔹 {c}')\n",
    "    analyze_categorical(df_for_uva, c, target='evaluation', top_k=TOP_K, min_freq_plot=MIN_FREQ_PLOT)\n",
    "\n",
    "# Vista de interacción simple: lado al turno × estado de enroque (media de evaluation)\n",
    "pivot = df_for_uva.pivot_table(index='side_to_move', columns='castling_state', values='evaluation', aggfunc='mean')\n",
    "print('Media de evaluation por Turno al mover × Estado de enroques')\n",
    "display(pivot.round(2))\n"
   ]
  }
 ],
 "metadata": {
  "kernelspec": {
   "display_name": "venv",
   "language": "python",
   "name": "python3"
  },
  "language_info": {
   "name": "python",
   "version": "3.13.7"
  }
 },
 "nbformat": 4,
 "nbformat_minor": 5
}
